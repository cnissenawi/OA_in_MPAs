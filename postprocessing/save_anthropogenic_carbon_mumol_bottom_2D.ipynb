{
 "cells": [
  {
   "cell_type": "markdown",
   "metadata": {},
   "source": [
    "# Nissen et al., 2023: Severe 21st-century OA in Antarctic MPAs\n",
    "#\n",
    "# script to save bottom fields of anthropogenic carbon in mumol kg-1 as netcdf files\n",
    "# requires full model output\n",
    "# note that some paths are hard-coded throughout the script"
   ]
  },
  {
   "cell_type": "code",
   "execution_count": 9,
   "metadata": {},
   "outputs": [],
   "source": [
    "import sys\n",
    "import os\n",
    "import matplotlib.pyplot as plt\n",
    "import numpy as np\n",
    "from scipy.interpolate import griddata\n",
    "from matplotlib import cm\n",
    "from netCDF4 import Dataset, MFDataset\n",
    "import pandas as pd\n",
    "from tqdm import tqdm"
   ]
  },
  {
   "cell_type": "code",
   "execution_count": 2,
   "metadata": {},
   "outputs": [
    {
     "name": "stdout",
     "output_type": "stream",
     "text": [
      "[1990 1991 1992 1993 1994 1995 1996 1997 1998 1999]\n",
      "[2090 2091 2092 2093 2094 2095 2096 2097 2098 2099]\n",
      "(72411,)\n"
     ]
    }
   ],
   "source": [
    "#------\n",
    "# MODEL INFO\n",
    "#------\n",
    "\n",
    "#------\n",
    "# specify two time periods\n",
    "#------\n",
    "\n",
    "year_start1 = 1990\n",
    "year_end1   = 1999\n",
    "year_start2 = 2090\n",
    "year_end2   = 2099\n",
    "\n",
    "years_list1 = np.arange(year_start1,year_end1+1)\n",
    "years_list2 = np.arange(year_start2,year_end2+1)\n",
    "num_years1 = year_end1-year_start1+1\n",
    "num_years2 = year_end2-year_start2+1\n",
    "print (years_list1)\n",
    "print (years_list2)\n",
    "    \n",
    "#---\n",
    "# load mesh info\n",
    "#---\n",
    "\n",
    "path_mesh = '/pscratch/sd/c/cnissen/'\n",
    "file_mesh = 'Nissen2022_FESOM_REcoM_mesh_information_corrected_20220910.nc'\n",
    "\n",
    "f1 = Dataset(path_mesh+file_mesh) #xr.open_dataset(path+file1)\n",
    "lat      = f1.variables['lat'][:]\n",
    "lon      = f1.variables['lon'][:]\n",
    "zlevs    = f1.variables['zlevs'][:]\n",
    "depths   = f1.variables['zlevs'][:]\n",
    "cavities = f1.variables['cavity'][:]\n",
    "topo     = f1.variables['topo'][:]\n",
    "area     = f1.variables['cell_area'][:]\n",
    "volume   = f1.variables['cell_volume'][:]\n",
    "f1.close()\n",
    "print(lat.shape)\n",
    "\n",
    "ind_no_cavity = np.where(cavities==0)[0]\n",
    "ind_cavities = np.where(cavities==1)[0]\n"
   ]
  },
  {
   "cell_type": "code",
   "execution_count": 7,
   "metadata": {},
   "outputs": [],
   "source": [
    "#-----\n",
    "# FUNCTIONS\n",
    "#-----\n",
    "\n",
    "from numba import njit\n",
    "\n",
    "@njit\n",
    "def reorganize_field_in_cavities(ind_cavities,data): \n",
    "    for ii in ind_cavities:  # [72408]\n",
    "        bb = data[:,ii] # get all depth levels at current cavity node\n",
    "        ind_av = np.where(bb>0)[0] # get indices of all depth levels that are NOT masked\n",
    "        # if surface value is filled, but thereafter there is a gap: \n",
    "        if len(ind_av)>1:\n",
    "            if (ind_av[1]-ind_av[0])>1:  #any(np.diff(ind_av)>1):  \n",
    "                bb[ind_av[1]-1]=bb[ind_av[0]] # move \"surface\" value to correct depth\n",
    "                bb[ind_av[0]] = 0 # set surface entry to zero\n",
    "               \n",
    "        data[:,ii] = bb # overwrite original field\n",
    "    return data\n",
    "\n",
    "@njit\n",
    "def reorganize_field_in_cavities_monthly(ind_cavities,data): \n",
    "    for mm in range(0,12):\n",
    "        #print 'Process month '+str(mm+1)\n",
    "        for ii in ind_cavities: #ind_cavities: \n",
    "            bb = data[ii,:,mm] # get all depth levels at current cavity node\n",
    "            ind_av = np.where(bb>0)[0] # get indices of all depth levels that are NOT masked\n",
    "            #ind_av = bb>=0 #bb.mask==False\n",
    "            #nd_av = np.where(ind_av==True)[0]\n",
    "            \n",
    "            # if surface value is filled, but thereafter there is a gap: \n",
    "            if (ind_av[1]-ind_av[0])>1:  #any(np.diff(ind_av)>1):  \n",
    "                bb[ind_av[1]-1]=bb[ind_av[0]] # move \"surface\" value to correct depth\n",
    "                bb[ind_av[0]] = 0 # set surface entry to zero\n",
    "               \n",
    "            data[ii,:,mm] = bb # overwrite original field\n",
    "    return data\n",
    "\n",
    "@njit\n",
    "def get_bottom_values_FESOM(data,data_bottom):\n",
    "    for nn in range(0,data.shape[1]):\n",
    "        aux1 = data[:,nn]\n",
    "        ind = np.where(aux1>-999)[0] # all available depth levels\n",
    "        if len(ind)>0:\n",
    "            data_bottom[nn] = aux1[ind[-1]] # find deepest available element\n",
    "        #del aux1,ind\n",
    "    return data_bottom\n"
   ]
  },
  {
   "cell_type": "code",
   "execution_count": 12,
   "metadata": {},
   "outputs": [
    {
     "name": "stdout",
     "output_type": "stream",
     "text": [
      "load year 1990...\n",
      "simA\n",
      "(12, 99, 72411)\n"
     ]
    },
    {
     "name": "stderr",
     "output_type": "stream",
     "text": [
      "100%|██████████| 12/12 [00:00<00:00, 50.17it/s]\n"
     ]
    },
    {
     "name": "stdout",
     "output_type": "stream",
     "text": [
      "simD\n"
     ]
    },
    {
     "name": "stderr",
     "output_type": "stream",
     "text": [
      "100%|██████████| 12/12 [00:00<00:00, 43.05it/s]\n"
     ]
    },
    {
     "name": "stdout",
     "output_type": "stream",
     "text": [
      "load year 1991...\n",
      "simA\n",
      "(12, 99, 72411)\n"
     ]
    },
    {
     "name": "stderr",
     "output_type": "stream",
     "text": [
      "100%|██████████| 12/12 [00:00<00:00, 50.28it/s]\n"
     ]
    },
    {
     "name": "stdout",
     "output_type": "stream",
     "text": [
      "simD\n"
     ]
    },
    {
     "name": "stderr",
     "output_type": "stream",
     "text": [
      "100%|██████████| 12/12 [00:00<00:00, 50.44it/s]\n"
     ]
    },
    {
     "name": "stdout",
     "output_type": "stream",
     "text": [
      "load year 1992...\n",
      "simA\n",
      "(12, 99, 72411)\n"
     ]
    },
    {
     "name": "stderr",
     "output_type": "stream",
     "text": [
      "100%|██████████| 12/12 [00:00<00:00, 49.65it/s]\n"
     ]
    },
    {
     "name": "stdout",
     "output_type": "stream",
     "text": [
      "simD\n"
     ]
    },
    {
     "name": "stderr",
     "output_type": "stream",
     "text": [
      "100%|██████████| 12/12 [00:00<00:00, 49.53it/s]\n"
     ]
    },
    {
     "name": "stdout",
     "output_type": "stream",
     "text": [
      "load year 1993...\n",
      "simA\n",
      "(12, 99, 72411)\n"
     ]
    },
    {
     "name": "stderr",
     "output_type": "stream",
     "text": [
      "100%|██████████| 12/12 [00:00<00:00, 49.23it/s]\n"
     ]
    },
    {
     "name": "stdout",
     "output_type": "stream",
     "text": [
      "simD\n"
     ]
    },
    {
     "name": "stderr",
     "output_type": "stream",
     "text": [
      "100%|██████████| 12/12 [00:00<00:00, 48.45it/s]\n"
     ]
    },
    {
     "name": "stdout",
     "output_type": "stream",
     "text": [
      "load year 1994...\n",
      "simA\n",
      "(12, 99, 72411)\n"
     ]
    },
    {
     "name": "stderr",
     "output_type": "stream",
     "text": [
      "100%|██████████| 12/12 [00:00<00:00, 47.96it/s]\n"
     ]
    },
    {
     "name": "stdout",
     "output_type": "stream",
     "text": [
      "simD\n"
     ]
    },
    {
     "name": "stderr",
     "output_type": "stream",
     "text": [
      "100%|██████████| 12/12 [00:00<00:00, 49.33it/s]\n"
     ]
    },
    {
     "name": "stdout",
     "output_type": "stream",
     "text": [
      "load year 1995...\n",
      "simA\n",
      "(12, 99, 72411)\n"
     ]
    },
    {
     "name": "stderr",
     "output_type": "stream",
     "text": [
      "100%|██████████| 12/12 [00:00<00:00, 50.91it/s]\n"
     ]
    },
    {
     "name": "stdout",
     "output_type": "stream",
     "text": [
      "simD\n"
     ]
    },
    {
     "name": "stderr",
     "output_type": "stream",
     "text": [
      "100%|██████████| 12/12 [00:00<00:00, 50.21it/s]\n"
     ]
    },
    {
     "name": "stdout",
     "output_type": "stream",
     "text": [
      "load year 1996...\n",
      "simA\n",
      "(12, 99, 72411)\n"
     ]
    },
    {
     "name": "stderr",
     "output_type": "stream",
     "text": [
      "100%|██████████| 12/12 [00:00<00:00, 48.20it/s]\n"
     ]
    },
    {
     "name": "stdout",
     "output_type": "stream",
     "text": [
      "simD\n"
     ]
    },
    {
     "name": "stderr",
     "output_type": "stream",
     "text": [
      "100%|██████████| 12/12 [00:00<00:00, 50.81it/s]\n"
     ]
    },
    {
     "name": "stdout",
     "output_type": "stream",
     "text": [
      "load year 1997...\n",
      "simA\n",
      "(12, 99, 72411)\n"
     ]
    },
    {
     "name": "stderr",
     "output_type": "stream",
     "text": [
      "100%|██████████| 12/12 [00:00<00:00, 50.95it/s]\n"
     ]
    },
    {
     "name": "stdout",
     "output_type": "stream",
     "text": [
      "simD\n"
     ]
    },
    {
     "name": "stderr",
     "output_type": "stream",
     "text": [
      "100%|██████████| 12/12 [00:00<00:00, 48.77it/s]\n"
     ]
    },
    {
     "name": "stdout",
     "output_type": "stream",
     "text": [
      "load year 1998...\n",
      "simA\n",
      "(12, 99, 72411)\n"
     ]
    },
    {
     "name": "stderr",
     "output_type": "stream",
     "text": [
      "100%|██████████| 12/12 [00:00<00:00, 46.28it/s]\n"
     ]
    },
    {
     "name": "stdout",
     "output_type": "stream",
     "text": [
      "simD\n"
     ]
    },
    {
     "name": "stderr",
     "output_type": "stream",
     "text": [
      "100%|██████████| 12/12 [00:00<00:00, 51.23it/s]\n"
     ]
    },
    {
     "name": "stdout",
     "output_type": "stream",
     "text": [
      "load year 1999...\n",
      "simA\n",
      "(12, 99, 72411)\n"
     ]
    },
    {
     "name": "stderr",
     "output_type": "stream",
     "text": [
      "100%|██████████| 12/12 [00:00<00:00, 50.12it/s]\n"
     ]
    },
    {
     "name": "stdout",
     "output_type": "stream",
     "text": [
      "simD\n"
     ]
    },
    {
     "name": "stderr",
     "output_type": "stream",
     "text": [
      "100%|██████████| 12/12 [00:00<00:00, 48.99it/s]\n"
     ]
    },
    {
     "name": "stdout",
     "output_type": "stream",
     "text": [
      "done\n"
     ]
    }
   ],
   "source": [
    "#-----\n",
    "# load model data & extract DIC for decade 1\n",
    "#-----\n",
    "\n",
    "# bottom layer\n",
    "dic_mumol_model1a = -999*np.ones([len(lon),num_years1,12]) # simA, in mumol kg-1\n",
    "dic_mumol_model1b = -999*np.ones([len(lon),num_years1,12]) # simD, in mumol kg-1\n",
    "\n",
    "for yy in range(0,num_years1):\n",
    "    print ('load year '+str(years_list1[yy])+'...')\n",
    "    \n",
    "    #---\n",
    "    # simA -> rho, DIC\n",
    "    #---\n",
    "    print ('simA')\n",
    "    path = '/pscratch/sd/c/cnissen/HLRN_runs_postprocessed/PAPER2_postprocessed/rho0_fields/'\n",
    "    f1    = Dataset(path+'rho0_fesom_'+str(years_list1[yy])+'0101.nc') # DIC\n",
    "    data_mean1 = f1.variables['rho0'][:,:,:] #.mean(axis=0)  # month x depth x mesh.n2d\n",
    "    f1.close()\n",
    "    del path\n",
    "    \n",
    "    path = '/pscratch/sd/c/cnissen/COARZE_DIC/simAssp585/'\n",
    "    f1    = Dataset(path+'bgc02_fesom_'+str(years_list1[yy])+'0101.nc') # DIC\n",
    "    data_mean1_monthly = f1.variables['bgc02'][:,:,:]  # month x depth x mesh.n2d\n",
    "    f1.close()\n",
    "    del path\n",
    "       \n",
    "    #----\n",
    "    # correct data in cavity\n",
    "    #----\n",
    "    # set masked values to 0 to get correction within cavity correct\n",
    "    # (if I don't do that, masked and not-masked values are not correctly recognized with njit)\n",
    "    data_mean1_monthly[data_mean1_monthly.mask==True]=-999 # function to extract bottom layers expects missing values to be -999 or smaller\n",
    "    # move \"surface\" value in cavities to correct depth\n",
    "    for mm in range(0,12):\n",
    "        data_mean1_monthly[mm,:,:] = reorganize_field_in_cavities(ind_cavities,data_mean1_monthly[mm,:,:])   \n",
    "    # set zeros back to masked\n",
    "   # data_mean1_monthly = np.ma.masked_where(data_mean1_monthly==0,data_mean1_monthly) \n",
    "    print(data_mean1_monthly.shape)\n",
    "        \n",
    "    #-----\n",
    "    # extract bottom layer\n",
    "    for mm in tqdm(range(0,12)):\n",
    "        dic_mumol_model1a[:,yy,mm] = get_bottom_values_FESOM(data_mean1_monthly[mm],dic_mumol_model1a[:,yy,mm])\n",
    "    #-----    \n",
    "    \n",
    "    #---\n",
    "    # simD -> DIC \n",
    "    #---\n",
    "    print ('simD')\n",
    "    path = '/pscratch/sd/c/cnissen/COARZE_DIC/simD/'\n",
    "    f1    = Dataset(path+'bgc02_fesom_'+str(years_list1[yy])+'0101.nc') # DIC\n",
    "    data_mean2_monthly = f1.variables['bgc02'][:,:,:]  # month x depth x mesh.n2d\n",
    "    f1.close()\n",
    "    del path\n",
    "    \n",
    "    #----\n",
    "    # correct data in cavity\n",
    "    #----\n",
    "    # set masked values to 0 to get correction within cavity correct\n",
    "    # (if I don't do that, masked and not-masked values are not correctly recognized with njit)\n",
    "    data_mean2_monthly[data_mean2_monthly.mask==True]=-999 # function to extract bottom layers expects missing values to be -999 or smaller \n",
    "    # move \"surface\" value in cavities to correct depth\n",
    "    for mm in range(0,12):\n",
    "        data_mean2_monthly[mm,:,:] = reorganize_field_in_cavities(ind_cavities,data_mean2_monthly[mm,:,:])   \n",
    "    # set zeros back to masked\n",
    "    #data_mean2_monthly = np.ma.masked_where(data_mean2_monthly==0,data_mean2_monthly) \n",
    "        \n",
    "    #-----\n",
    "    # extract bottom layer\n",
    "    for mm in tqdm(range(0,12)):\n",
    "        dic_mumol_model1b[:,yy,mm] = get_bottom_values_FESOM(data_mean2_monthly[mm],dic_mumol_model1b[:,yy,mm])\n",
    "    #-----  \n",
    "        \n",
    "    del data_mean1,data_mean1_monthly,data_mean2_monthly\n",
    "    \n",
    "print('done')\n"
   ]
  },
  {
   "cell_type": "code",
   "execution_count": 14,
   "metadata": {},
   "outputs": [
    {
     "name": "stdout",
     "output_type": "stream",
     "text": [
      "load year 2090...\n",
      "simA\n"
     ]
    },
    {
     "name": "stderr",
     "output_type": "stream",
     "text": [
      "100%|██████████| 12/12 [00:00<00:00, 49.95it/s]\n"
     ]
    },
    {
     "name": "stdout",
     "output_type": "stream",
     "text": [
      "simD\n"
     ]
    },
    {
     "name": "stderr",
     "output_type": "stream",
     "text": [
      "100%|██████████| 12/12 [00:00<00:00, 51.45it/s]\n"
     ]
    },
    {
     "name": "stdout",
     "output_type": "stream",
     "text": [
      "load year 2091...\n",
      "simA\n"
     ]
    },
    {
     "name": "stderr",
     "output_type": "stream",
     "text": [
      "100%|██████████| 12/12 [00:00<00:00, 50.06it/s]\n"
     ]
    },
    {
     "name": "stdout",
     "output_type": "stream",
     "text": [
      "simD\n"
     ]
    },
    {
     "name": "stderr",
     "output_type": "stream",
     "text": [
      "100%|██████████| 12/12 [00:00<00:00, 49.51it/s]\n"
     ]
    },
    {
     "name": "stdout",
     "output_type": "stream",
     "text": [
      "load year 2092...\n",
      "simA\n"
     ]
    },
    {
     "name": "stderr",
     "output_type": "stream",
     "text": [
      "100%|██████████| 12/12 [00:00<00:00, 48.29it/s]\n"
     ]
    },
    {
     "name": "stdout",
     "output_type": "stream",
     "text": [
      "simD\n"
     ]
    },
    {
     "name": "stderr",
     "output_type": "stream",
     "text": [
      "100%|██████████| 12/12 [00:00<00:00, 50.08it/s]\n"
     ]
    },
    {
     "name": "stdout",
     "output_type": "stream",
     "text": [
      "load year 2093...\n",
      "simA\n"
     ]
    },
    {
     "name": "stderr",
     "output_type": "stream",
     "text": [
      "100%|██████████| 12/12 [00:00<00:00, 48.71it/s]\n"
     ]
    },
    {
     "name": "stdout",
     "output_type": "stream",
     "text": [
      "simD\n"
     ]
    },
    {
     "name": "stderr",
     "output_type": "stream",
     "text": [
      "100%|██████████| 12/12 [00:00<00:00, 49.57it/s]\n"
     ]
    },
    {
     "name": "stdout",
     "output_type": "stream",
     "text": [
      "load year 2094...\n",
      "simA\n"
     ]
    },
    {
     "name": "stderr",
     "output_type": "stream",
     "text": [
      "100%|██████████| 12/12 [00:00<00:00, 48.39it/s]\n"
     ]
    },
    {
     "name": "stdout",
     "output_type": "stream",
     "text": [
      "simD\n"
     ]
    },
    {
     "name": "stderr",
     "output_type": "stream",
     "text": [
      "100%|██████████| 12/12 [00:00<00:00, 50.31it/s]\n"
     ]
    },
    {
     "name": "stdout",
     "output_type": "stream",
     "text": [
      "load year 2095...\n",
      "simA\n"
     ]
    },
    {
     "name": "stderr",
     "output_type": "stream",
     "text": [
      "100%|██████████| 12/12 [00:00<00:00, 49.74it/s]\n"
     ]
    },
    {
     "name": "stdout",
     "output_type": "stream",
     "text": [
      "simD\n"
     ]
    },
    {
     "name": "stderr",
     "output_type": "stream",
     "text": [
      "100%|██████████| 12/12 [00:00<00:00, 50.64it/s]\n"
     ]
    },
    {
     "name": "stdout",
     "output_type": "stream",
     "text": [
      "load year 2096...\n",
      "simA\n"
     ]
    },
    {
     "name": "stderr",
     "output_type": "stream",
     "text": [
      "100%|██████████| 12/12 [00:00<00:00, 48.35it/s]\n"
     ]
    },
    {
     "name": "stdout",
     "output_type": "stream",
     "text": [
      "simD\n"
     ]
    },
    {
     "name": "stderr",
     "output_type": "stream",
     "text": [
      "100%|██████████| 12/12 [00:00<00:00, 48.17it/s]\n"
     ]
    },
    {
     "name": "stdout",
     "output_type": "stream",
     "text": [
      "load year 2097...\n",
      "simA\n"
     ]
    },
    {
     "name": "stderr",
     "output_type": "stream",
     "text": [
      "100%|██████████| 12/12 [00:00<00:00, 46.04it/s]\n"
     ]
    },
    {
     "name": "stdout",
     "output_type": "stream",
     "text": [
      "simD\n"
     ]
    },
    {
     "name": "stderr",
     "output_type": "stream",
     "text": [
      "100%|██████████| 12/12 [00:00<00:00, 50.96it/s]\n"
     ]
    },
    {
     "name": "stdout",
     "output_type": "stream",
     "text": [
      "load year 2098...\n",
      "simA\n"
     ]
    },
    {
     "name": "stderr",
     "output_type": "stream",
     "text": [
      "100%|██████████| 12/12 [00:00<00:00, 44.94it/s]\n"
     ]
    },
    {
     "name": "stdout",
     "output_type": "stream",
     "text": [
      "simD\n"
     ]
    },
    {
     "name": "stderr",
     "output_type": "stream",
     "text": [
      "100%|██████████| 12/12 [00:00<00:00, 50.38it/s]\n"
     ]
    },
    {
     "name": "stdout",
     "output_type": "stream",
     "text": [
      "load year 2099...\n",
      "simA\n"
     ]
    },
    {
     "name": "stderr",
     "output_type": "stream",
     "text": [
      "100%|██████████| 12/12 [00:00<00:00, 49.70it/s]\n"
     ]
    },
    {
     "name": "stdout",
     "output_type": "stream",
     "text": [
      "simD\n"
     ]
    },
    {
     "name": "stderr",
     "output_type": "stream",
     "text": [
      "100%|██████████| 12/12 [00:00<00:00, 49.91it/s]\n"
     ]
    },
    {
     "name": "stdout",
     "output_type": "stream",
     "text": [
      "done\n"
     ]
    }
   ],
   "source": [
    "#-----\n",
    "# load model data & extract DIC for decade 2\n",
    "#-----\n",
    "\n",
    "# bottom layer\n",
    "dic_mumol_model2a = -999*np.ones([len(lon),num_years2,12]) # simA, in mumol kg-1\n",
    "dic_mumol_model2b = -999*np.ones([len(lon),num_years2,12]) # simD, in mumol kg-1\n",
    "\n",
    "for yy in range(0,num_years2):\n",
    "    print ('load year '+str(years_list2[yy])+'...')\n",
    "    \n",
    "    #---\n",
    "    # simA -> rho, DIC\n",
    "    #---\n",
    "    print ('simA')\n",
    "    path = '/pscratch/sd/c/cnissen/HLRN_runs_postprocessed/PAPER2_postprocessed/rho0_fields/'\n",
    "    f1    = Dataset(path+'rho0_fesom_'+str(years_list2[yy])+'0101.nc') # DIC\n",
    "    data_mean1 = f1.variables['rho0'][:,:,:] #.mean(axis=0)  # month x depth x mesh.n2d\n",
    "    f1.close()\n",
    "    del path\n",
    "    \n",
    "    path = '/pscratch/sd/c/cnissen/COARZE_DIC/simAssp585/'\n",
    "    f1    = Dataset(path+'bgc02_fesom_'+str(years_list2[yy])+'0101.nc') # DIC\n",
    "    data_mean1_monthly = f1.variables['bgc02'][:,:,:]  # month x depth x mesh.n2d\n",
    "    f1.close()\n",
    "    del path\n",
    "       \n",
    "    #----\n",
    "    # correct data in cavity\n",
    "    #----\n",
    "    # set masked values to 0 to get correction within cavity correct\n",
    "    # (if I don't do that, masked and not-masked values are not correctly recognized with njit)\n",
    "    data_mean1_monthly[data_mean1_monthly.mask==True]=-999\n",
    "    # move \"surface\" value in cavities to correct depth\n",
    "    for mm in range(0,12):\n",
    "        data_mean1_monthly[mm,:,:] = reorganize_field_in_cavities(ind_cavities,data_mean1_monthly[mm,:,:])   \n",
    "    # set zeros back to masked\n",
    "    #data_mean1_monthly = np.ma.masked_where(data_mean1_monthly==0,data_mean1_monthly) \n",
    "        \n",
    "    #-----\n",
    "    # extract bottom layer\n",
    "    for mm in tqdm(range(0,12)):\n",
    "        dic_mumol_model2a[:,yy,mm] = get_bottom_values_FESOM(data_mean1_monthly[mm],dic_mumol_model2a[:,yy,mm])\n",
    "    #----- \n",
    "    \n",
    "    #---\n",
    "    # simD -> DIC \n",
    "    #---\n",
    "    print ('simD')\n",
    "    path = '/pscratch/sd/c/cnissen/COARZE_DIC/simD/'\n",
    "    f1    = Dataset(path+'bgc02_fesom_'+str(years_list2[yy])+'0101.nc') # DIC\n",
    "    data_mean2_monthly = f1.variables['bgc02'][:,:,:]  # month x depth x mesh.n2d\n",
    "    f1.close()\n",
    "    del path\n",
    "    \n",
    "    #----\n",
    "    # correct data in cavity\n",
    "    #----\n",
    "    # set masked values to 0 to get correction within cavity correct\n",
    "    # (if I don't do that, masked and not-masked values are not correctly recognized with njit)\n",
    "    data_mean2_monthly[data_mean2_monthly.mask==True]=-999 \n",
    "    # move \"surface\" value in cavities to correct depth\n",
    "    for mm in range(0,12):\n",
    "        data_mean2_monthly[mm,:,:] = reorganize_field_in_cavities(ind_cavities,data_mean2_monthly[mm,:,:])   \n",
    "    # set zeros back to masked\n",
    "    #data_mean2_monthly = np.ma.masked_where(data_mean2_monthly==0,data_mean2_monthly) \n",
    "        \n",
    "    #-----\n",
    "    # extract bottom layer\n",
    "    for mm in tqdm(range(0,12)):\n",
    "        dic_mumol_model2b[:,yy,mm] = get_bottom_values_FESOM(data_mean2_monthly[mm],dic_mumol_model2b[:,yy,mm])\n",
    "    #----- \n",
    "        \n",
    "    del data_mean1,data_mean1_monthly,data_mean2_monthly\n",
    "    \n",
    "print('done')\n"
   ]
  },
  {
   "cell_type": "code",
   "execution_count": 16,
   "metadata": {},
   "outputs": [
    {
     "name": "stdout",
     "output_type": "stream",
     "text": [
      "Min/Max DIC_anth in 1990s with chosen depth level: 0.0 47.433563232421875\n",
      "Min/Max DIC_anth in 2090s with chosen depth level: 0.0 303.11220092773436\n"
     ]
    }
   ],
   "source": [
    "#-----\n",
    "# get DIC_anth\n",
    "# divide DIC fields by water column thickness to get average DIC concentration over chosen depth\n",
    "#-----\n",
    "\n",
    "# get anthropogenic DIC: simA - simD\n",
    "dic_mumol_1990s = dic_mumol_model1a - dic_mumol_model1b\n",
    "dic_mumol_2090s = dic_mumol_model2a - dic_mumol_model2b\n",
    "dic_mumol_2090s[dic_mumol_2090s<0]=0 # there is very few locations with negative DIC_anth...\n",
    "dic_mumol_1990s[dic_mumol_1990s<0]=0 \n",
    "\n",
    "# get decadal avg\n",
    "dic_mumol_1990s = np.mean(np.mean(dic_mumol_1990s,axis=2),axis=1)\n",
    "dic_mumol_2090s = np.mean(np.mean(dic_mumol_2090s,axis=2),axis=1)\n",
    "\n",
    "## get average DIC_anth concentration\n",
    "#dic_mumol_1990s[water_column_thickness>0] = np.divide(dic_mumol_1990s[water_column_thickness>0],\\\n",
    "#                                                      water_column_thickness[water_column_thickness>0])\n",
    "#dic_mumol_2090s[water_column_thickness>0] = np.divide(dic_mumol_2090s[water_column_thickness>0],\\\n",
    "#                                                      water_column_thickness[water_column_thickness>0])\n",
    "#dic_mumol_1990s[water_column_thickness==0] = 0\n",
    "#dic_mumol_2090s[water_column_thickness==0] = 0\n",
    "\n",
    "print ('Min/Max DIC_anth in 1990s with chosen depth level:',np.min(dic_mumol_1990s),np.max(dic_mumol_1990s))\n",
    "print ('Min/Max DIC_anth in 2090s with chosen depth level:',np.min(dic_mumol_2090s),np.max(dic_mumol_2090s))\n",
    "\n"
   ]
  },
  {
   "cell_type": "code",
   "execution_count": 19,
   "metadata": {},
   "outputs": [
    {
     "name": "stdout",
     "output_type": "stream",
     "text": [
      "Create file /pscratch/sd/c/cnissen/HLRN_runs_postprocessed/PAPER2_postprocessed/bottom_fields/DIC_anth_bottom_1990s_mumol_kg_fesom.nc\n",
      "Successfully saved DIC_anth_bottom_1990s_mumol_kg\n",
      "Create file /pscratch/sd/c/cnissen/HLRN_runs_postprocessed/PAPER2_postprocessed/bottom_fields/DIC_anth_bottom_2090s_mumol_kg_fesom.nc\n",
      "Successfully saved DIC_anth_bottom_2090s_mumol_kg\n"
     ]
    }
   ],
   "source": [
    "#------\n",
    "# save as netcdf\n",
    "#------\n",
    "\n",
    "save_to_netcdf = True\n",
    "if save_to_netcdf:\n",
    "                \n",
    "    savepath = '/pscratch/sd/c/cnissen/HLRN_runs_postprocessed/PAPER2_postprocessed/bottom_fields/'\n",
    "    source = '/global/homes/c/cnissen/scripts/save_anthropogenic_carbon_mumol_bottom_2D.ipynb'\n",
    "                \n",
    "    if save_to_netcdf:\n",
    "        vari_list = ['DIC_anth_bottom_1990s_mumol_kg',\\\n",
    "                    'DIC_anth_bottom_2090s_mumol_kg']\n",
    "        unit_list = ['mu mol kg-1','mu mol kg-1']\n",
    "        description_list = ['average anthropogenic carbon in 1990s in the bottom layer, unit conversion with surface-referenced potential density',\\\n",
    "                            'average anthropogenic carbon in 1990s in the bottom layer, unit conversion with surface-referenced potential density']\n",
    "\n",
    "        for vv in range(0,len(vari_list)):\n",
    "            vari = vari_list[vv]\n",
    "            netcdf_name = vari+'_fesom.nc'\n",
    "\n",
    "            if not os.path.exists(savepath+netcdf_name):\n",
    "                print ('Create file '+savepath+netcdf_name)\n",
    "                w_nc_fid = Dataset(savepath+netcdf_name, 'w', format='NETCDF4_CLASSIC')\n",
    "                # create dimension & variable\n",
    "                w_nc_fid.createDimension('nodes_2d', len(lon))\n",
    "                w_nc_fid.script    = source\n",
    "                w_nc_fid.close()\n",
    "                \n",
    "            w_nc_fid = Dataset(savepath+netcdf_name, 'r+', format='NETCDF4_CLASSIC')      # Create and open new netcdf file to write to\n",
    "            try:\n",
    "                w_nc_var1 = w_nc_fid.createVariable(vari, 'f4',('nodes_2d'))\n",
    "                w_nc_var1.units = unit_list[vv] \n",
    "                w_nc_var1.description = description_list[vv]\n",
    "            except:\n",
    "                pass\n",
    "                            \n",
    "            if vari in ['DIC_anth_bottom_1990s_mumol_kg']:\n",
    "                w_nc_fid.variables[vari][:] = dic_mumol_1990s\n",
    "            elif vari in ['DIC_anth_bottom_2090s_mumol_kg']:\n",
    "                w_nc_fid.variables[vari][:] = dic_mumol_2090s\n",
    "            \n",
    "            w_nc_fid.close() \n",
    "            \n",
    "            print ('Successfully saved '+vari)\n",
    "\n",
    "            "
   ]
  },
  {
   "cell_type": "code",
   "execution_count": null,
   "metadata": {},
   "outputs": [],
   "source": [
    "print(dic_mumol_1990s)"
   ]
  },
  {
   "cell_type": "code",
   "execution_count": null,
   "metadata": {},
   "outputs": [],
   "source": []
  }
 ],
 "metadata": {
  "kernelspec": {
   "display_name": "myenv-jupyter",
   "language": "python",
   "name": "myenv-jupyter"
  },
  "language_info": {
   "codemirror_mode": {
    "name": "ipython",
    "version": 3
   },
   "file_extension": ".py",
   "mimetype": "text/x-python",
   "name": "python",
   "nbconvert_exporter": "python",
   "pygments_lexer": "ipython3",
   "version": "3.9.12"
  }
 },
 "nbformat": 4,
 "nbformat_minor": 4
}
