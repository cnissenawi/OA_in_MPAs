{
 "cells": [
  {
   "cell_type": "markdown",
   "metadata": {},
   "source": [
    "# Nissen et al., 2023: Severe 21st-century OA in Antarctic MPAs\n",
    "#\n",
    "# script to save top 200m averaged fields of omega aragonite, omega calcite and pH as netcdf files\n",
    "# requires full model output\n",
    "# note that some paths are hard-coded throughout the script"
   ]
  },
  {
   "cell_type": "code",
   "execution_count": 1,
   "metadata": {
    "tags": []
   },
   "outputs": [],
   "source": [
    "import sys\n",
    "import os\n",
    "import matplotlib.pyplot as plt\n",
    "import numpy as np\n",
    "from scipy.interpolate import griddata\n",
    "from matplotlib import cm\n",
    "from netCDF4 import Dataset, MFDataset\n",
    "import pandas as pd\n",
    "from tqdm import tqdm"
   ]
  },
  {
   "cell_type": "code",
   "execution_count": 2,
   "metadata": {
    "tags": []
   },
   "outputs": [
    {
     "name": "stdout",
     "output_type": "stream",
     "text": [
      "(72411,)\n"
     ]
    }
   ],
   "source": [
    "#------\n",
    "# MODEL INFO\n",
    "#------\n",
    "    \n",
    "# load mesh\n",
    "path_mesh = '/pscratch/sd/c/cnissen/'\n",
    "file_mesh = 'Nissen2022_FESOM_REcoM_mesh_information_corrected_20220910.nc'\n",
    "\n",
    "f1 = Dataset(path_mesh+file_mesh) #xr.open_dataset(path+file1)\n",
    "lat      = f1.variables['lat'][:]\n",
    "lon      = f1.variables['lon'][:]\n",
    "zlevs    = f1.variables['zlevs'][:]\n",
    "cavities = f1.variables['cavity'][:]\n",
    "topo     = f1.variables['topo'][:]\n",
    "area     = f1.variables['cell_area'][:]\n",
    "volume   = f1.variables['cell_volume'][:]\n",
    "f1.close()\n",
    "print(lat.shape)\n",
    "ind_cavities = np.where(cavities==1)[0]\n"
   ]
  },
  {
   "cell_type": "code",
   "execution_count": 36,
   "metadata": {
    "tags": []
   },
   "outputs": [
    {
     "name": "stdout",
     "output_type": "stream",
     "text": [
      "[ 0  1  2  3  4  5  6  7  8  9 10 11 12 13 14 15 16 17 18]\n",
      "Process year 1990 of simAssp585\n"
     ]
    },
    {
     "name": "stderr",
     "output_type": "stream",
     "text": [
      "/tmp/ipykernel_1532736/3085811957.py:47: UserWarning: Warning: converting a masked element to nan.\n",
      "  omegaA_1[nn] = np.nansum(data_mean1[ind_dd,nn]*vol/np.nansum(vol))\n",
      "/tmp/ipykernel_1532736/3085811957.py:48: UserWarning: Warning: converting a masked element to nan.\n",
      "  omegaC_1[nn] = np.nansum(data_mean2[ind_dd,nn]*vol/np.nansum(vol))\n",
      "/tmp/ipykernel_1532736/3085811957.py:49: UserWarning: Warning: converting a masked element to nan.\n",
      "  pH_1[nn]     = np.nansum(data_mean3[ind_dd,nn]*vol/np.nansum(vol))\n"
     ]
    },
    {
     "name": "stdout",
     "output_type": "stream",
     "text": [
      "Process year 1991 of simAssp585\n",
      "Process year 1992 of simAssp585\n",
      "Process year 1993 of simAssp585\n",
      "Process year 1994 of simAssp585\n",
      "Process year 1995 of simAssp585\n",
      "Process year 1996 of simAssp585\n",
      "Process year 1997 of simAssp585\n",
      "Process year 1998 of simAssp585\n",
      "Process year 1999 of simAssp585\n",
      "Min/Max omegaA: 1.0282437511352684 1.8669194999285925\n",
      "Min/Max omegaC: 1.6385224358871777 2.9560018209377485\n",
      "Min/Max pH: 7.910150632670879 8.149474409247029\n"
     ]
    },
    {
     "name": "stderr",
     "output_type": "stream",
     "text": [
      "/tmp/ipykernel_1532736/3085811957.py:58: RuntimeWarning: Mean of empty slice\n",
      "  omegaA_model1 = np.nanmean(omegaA_model1,axis=0)\n",
      "/tmp/ipykernel_1532736/3085811957.py:59: RuntimeWarning: Mean of empty slice\n",
      "  omegaC_model1 = np.nanmean(omegaC_model1,axis=0)\n",
      "/tmp/ipykernel_1532736/3085811957.py:60: RuntimeWarning: Mean of empty slice\n",
      "  pH_model1     = np.nanmean(pH_model1,axis=0)\n"
     ]
    }
   ],
   "source": [
    "#-----\n",
    "# load model data & extract bottom layer omega A, omega C, pH \n",
    "#-----\n",
    "\n",
    "which_sim = 'simAssp585'\n",
    "\n",
    "path = '/pscratch/sd/c/cnissen/carbonate_chemistry_3D_v2/'+which_sim+'/' \n",
    "\n",
    "vari_list = ['omegaA_top200','omegaC_top200','pH_top200']\n",
    "\n",
    "#year_list1 = np.arange(2090,2099+1,1) \n",
    "year_list1 = np.arange(1990,1999+1,1) \n",
    "\n",
    "# get depth levels\n",
    "ind_dd = np.where((zlevs<=200))[0]\n",
    "print(ind_dd)\n",
    "\n",
    "omegaA_model1 = np.zeros([len(year_list1),len(lon)])\n",
    "omegaC_model1 = np.zeros([len(year_list1),len(lon)])\n",
    "pH_model1     = np.zeros([len(year_list1),len(lon)])\n",
    "for yy in range(0,len(year_list1)):\n",
    "    print('Process year '+str(year_list1[yy])+' of '+which_sim)\n",
    "    \n",
    "    path  = '/pscratch/sd/c/cnissen/carbonate_chemistry_3D_v2/'+which_sim+'/'\n",
    "    f1    = Dataset(path+'OmegaA_fesom_'+str(year_list1[yy])+'0101.nc') \n",
    "    f2    = Dataset(path+'OmegaC_fesom_'+str(year_list1[yy])+'0101.nc') \n",
    "    f3    = Dataset(path+'pH_fesom_'+str(year_list1[yy])+'0101.nc')\n",
    "    data_mean1 = f1.variables['OmegaA'][:,:,:].mean(axis=0)  # depth x mesh.n2d\n",
    "    data_mean2 = f2.variables['OmegaC'][:,:,:].mean(axis=0) \n",
    "    data_mean3 = f3.variables['pH'][:,:,:].mean(axis=0) \n",
    "    f1.close()\n",
    "    f2.close()\n",
    "    f3.close()\n",
    "    \n",
    "    #----\n",
    "    # get top 200m average\n",
    "    #----\n",
    "    omegaA_1 = np.zeros(len(lon))\n",
    "    omegaC_1 = np.zeros(len(lon))\n",
    "    pH_1     = np.zeros(len(lon))\n",
    "    for nn in range(0,len(lon)):\n",
    "        if cavities[nn]==0: # only outside of cavity\n",
    "            vol = volume[nn,ind_dd]\n",
    "            # correct vol for any missing data\n",
    "            vol[data_mean1[ind_dd,nn].mask==True] = np.nan\n",
    "            omegaA_1[nn] = np.nansum(data_mean1[ind_dd,nn]*vol/np.nansum(vol))\n",
    "            omegaC_1[nn] = np.nansum(data_mean2[ind_dd,nn]*vol/np.nansum(vol))\n",
    "            pH_1[nn]     = np.nansum(data_mean3[ind_dd,nn]*vol/np.nansum(vol))\n",
    "    del data_mean1,data_mean2,data_mean3\n",
    "    \n",
    "    omegaA_model1[yy,:] = omegaA_1 \n",
    "    omegaC_model1[yy,:] = omegaC_1 \n",
    "    pH_model1[yy,:]     = pH_1 \n",
    "    del pH_1,omegaA_1,omegaC_1\n",
    "    \n",
    "# get decadal avg\n",
    "omegaA_model1 = np.nanmean(omegaA_model1,axis=0)\n",
    "omegaC_model1 = np.nanmean(omegaC_model1,axis=0)\n",
    "pH_model1     = np.nanmean(pH_model1,axis=0)\n",
    "\n",
    "# mask unavailable nodes\n",
    "omegaA_model1 = np.ma.masked_where(omegaA_model1==0,omegaA_model1)\n",
    "omegaC_model1 = np.ma.masked_where(omegaC_model1==0,omegaC_model1)\n",
    "pH_model1     = np.ma.masked_where(pH_model1==0,pH_model1)\n",
    "\n",
    "print('Min/Max omegaA:',np.nanmin(omegaA_model1),np.nanmax(omegaA_model1))\n",
    "print('Min/Max omegaC:',np.nanmin(omegaC_model1),np.nanmax(omegaC_model1))\n",
    "print('Min/Max pH:',np.nanmin(pH_model1),np.nanmax(pH_model1))\n"
   ]
  },
  {
   "cell_type": "code",
   "execution_count": 37,
   "metadata": {
    "tags": []
   },
   "outputs": [
    {
     "name": "stdout",
     "output_type": "stream",
     "text": [
      "omegaA_top200\n",
      "Create file /pscratch/sd/c/cnissen/carbonate_chemistry_3D_v2/top200m_fields/omegaA_top200_1990s_simA.nc\n",
      "written omegaA\n",
      "omegaC_top200\n",
      "Create file /pscratch/sd/c/cnissen/carbonate_chemistry_3D_v2/top200m_fields/omegaC_top200_1990s_simA.nc\n",
      "written omegaC\n",
      "pH_top200\n",
      "Create file /pscratch/sd/c/cnissen/carbonate_chemistry_3D_v2/top200m_fields/pH_top200_1990s_simA.nc\n",
      "written pH\n",
      "done\n"
     ]
    }
   ],
   "source": [
    "# -----\n",
    "# save decadal avg as netcdf file\n",
    "#-----\n",
    "    \n",
    "save_netcdf = True\n",
    "# only save every year (takes too much time otherwise)\n",
    "if save_netcdf:\n",
    "    savepath = '/pscratch/sd/c/cnissen/carbonate_chemistry_3D_v2/top200m_fields/'\n",
    "    \n",
    "    if year_list1[0]==2090:\n",
    "        time_str = '2090s'\n",
    "    elif year_list1[0]==1990:\n",
    "        time_str = '1990s'\n",
    "    \n",
    "    for vv in range(0,len(vari_list)):\n",
    "        print(vari_list[vv])\n",
    "        if year_list1[0]==1990:\n",
    "            netcdf_name = vari_list[vv]+'_'+time_str+'_'+which_sim[:-6]+'.nc'\n",
    "        else:\n",
    "            netcdf_name = vari_list[vv]+'_'+time_str+'_'+which_sim+'.nc'\n",
    "        if not os.path.exists(savepath+netcdf_name):\n",
    "            print('Create file '+savepath+netcdf_name)\n",
    "            w_nc_fid = Dataset(savepath+netcdf_name, 'w', format='NETCDF4_CLASSIC')\n",
    "            w_nc_fid.mocsy_source = 'https://github.com/jamesorr/mocsy'\n",
    "            w_nc_fid.mocsy_dir    = '/home/ollie/ncara/scripts/mocsy/mocsy'\n",
    "            w_nc_fid.script    = '/global/homes/c/cnissen/scripts/plot_PAPER_carbonate_chemistry_save_top200m_fields.ipynb'\n",
    "            # create dimension & variable\n",
    "            w_nc_fid.createDimension('nodes_2d', len(topo)) \n",
    "            w_nc_var1 = w_nc_fid.createVariable(vari_list[vv], 'f4',('nodes_2d'))\n",
    "            w_nc_fid.close()\n",
    "            \n",
    "        else: # file exists, but check if variables exist as well\n",
    "            w_nc_fid = Dataset(savepath+netcdf_name, 'r+', format='NETCDF4_CLASSIC') \n",
    "            try:\n",
    "                w_nc_var1 = w_nc_fid.createVariable(vari_list[vv], 'f4',('nodes_2d'))\n",
    "            except: \n",
    "                print (vari_list[vv]+' exists in file')\n",
    "            w_nc_fid.close()\n",
    "                    \n",
    "        w_nc_fid = Dataset(savepath+netcdf_name, 'r+', format='NETCDF4_CLASSIC') \n",
    "        if vari_list[vv] in ['omegaA_top200']:\n",
    "            w_nc_fid.variables[vari_list[vv]][:] = omegaA_model1[:]\n",
    "            print('written omegaA')\n",
    "        elif vari_list[vv] in ['omegaC_top200']:\n",
    "            w_nc_fid.variables[vari_list[vv]][:] = omegaC_model1[:]\n",
    "            print('written omegaC')\n",
    "        elif vari_list[vv] in ['pH_top200']:\n",
    "            w_nc_fid.variables[vari_list[vv]][:] = pH_model1[:]\n",
    "            print('written pH')\n",
    "        w_nc_fid.close()  \n",
    "        del netcdf_name\n",
    "                \n",
    "print ('done')\n"
   ]
  },
  {
   "cell_type": "code",
   "execution_count": null,
   "metadata": {},
   "outputs": [],
   "source": []
  },
  {
   "cell_type": "code",
   "execution_count": null,
   "metadata": {},
   "outputs": [],
   "source": []
  },
  {
   "cell_type": "code",
   "execution_count": null,
   "metadata": {},
   "outputs": [],
   "source": []
  }
 ],
 "metadata": {
  "kernelspec": {
   "display_name": "myenv-jupyter",
   "language": "python",
   "name": "myenv-jupyter"
  },
  "language_info": {
   "codemirror_mode": {
    "name": "ipython",
    "version": 3
   },
   "file_extension": ".py",
   "mimetype": "text/x-python",
   "name": "python",
   "nbconvert_exporter": "python",
   "pygments_lexer": "ipython3",
   "version": "3.9.12"
  }
 },
 "nbformat": 4,
 "nbformat_minor": 4
}
