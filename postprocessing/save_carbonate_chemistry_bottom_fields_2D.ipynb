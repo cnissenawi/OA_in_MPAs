{
 "cells": [
  {
   "cell_type": "markdown",
   "metadata": {},
   "source": [
    "# Nissen et al., 2023: Severe 21st-century OA in Antarctic MPAs\n",
    "#\n",
    "# script to save bottom fields of omega aragonite, omega calcite and pH as netcdf files\n",
    "# requires full model output\n",
    "# note that some paths are hard-coded throughout the script"
   ]
  },
  {
   "cell_type": "code",
   "execution_count": 1,
   "metadata": {
    "tags": []
   },
   "outputs": [],
   "source": [
    "import sys\n",
    "import os\n",
    "import matplotlib.pyplot as plt\n",
    "import numpy as np\n",
    "from scipy.interpolate import griddata\n",
    "from matplotlib import cm\n",
    "from netCDF4 import Dataset, MFDataset\n",
    "import pandas as pd\n",
    "from tqdm import tqdm"
   ]
  },
  {
   "cell_type": "code",
   "execution_count": 2,
   "metadata": {
    "tags": []
   },
   "outputs": [
    {
     "name": "stdout",
     "output_type": "stream",
     "text": [
      "(72411,)\n"
     ]
    }
   ],
   "source": [
    "#------\n",
    "# MODEL INFO\n",
    "#------\n",
    "    \n",
    "# load mesh\n",
    "path_mesh = '/pscratch/sd/c/cnissen/'\n",
    "file_mesh = 'Nissen2022_FESOM_REcoM_mesh_information_corrected_20220910.nc'\n",
    "\n",
    "f1 = Dataset(path_mesh+file_mesh) #xr.open_dataset(path+file1)\n",
    "lat      = f1.variables['lat'][:]\n",
    "lon      = f1.variables['lon'][:]\n",
    "zlevs    = f1.variables['zlevs'][:]\n",
    "cavities = f1.variables['cavity'][:]\n",
    "topo     = f1.variables['topo'][:]\n",
    "area     = f1.variables['cell_area'][:]\n",
    "volume   = f1.variables['cell_volume'][:]\n",
    "f1.close()\n",
    "print(lat.shape)\n",
    "ind_cavities = np.where(cavities==1)[0]\n"
   ]
  },
  {
   "cell_type": "code",
   "execution_count": 20,
   "metadata": {
    "tags": []
   },
   "outputs": [
    {
     "name": "stdout",
     "output_type": "stream",
     "text": [
      "Process year 1990 of simAssp585\n"
     ]
    },
    {
     "name": "stderr",
     "output_type": "stream",
     "text": [
      "100%|██████████| 72411/72411 [00:02<00:00, 25845.93it/s]\n"
     ]
    },
    {
     "name": "stdout",
     "output_type": "stream",
     "text": [
      "Process year 1991 of simAssp585\n"
     ]
    },
    {
     "name": "stderr",
     "output_type": "stream",
     "text": [
      "100%|██████████| 72411/72411 [00:02<00:00, 25739.30it/s]\n"
     ]
    },
    {
     "name": "stdout",
     "output_type": "stream",
     "text": [
      "Process year 1992 of simAssp585\n"
     ]
    },
    {
     "name": "stderr",
     "output_type": "stream",
     "text": [
      "100%|██████████| 72411/72411 [00:02<00:00, 26099.09it/s]\n"
     ]
    },
    {
     "name": "stdout",
     "output_type": "stream",
     "text": [
      "Process year 1993 of simAssp585\n"
     ]
    },
    {
     "name": "stderr",
     "output_type": "stream",
     "text": [
      "100%|██████████| 72411/72411 [00:02<00:00, 26298.96it/s]\n"
     ]
    },
    {
     "name": "stdout",
     "output_type": "stream",
     "text": [
      "Process year 1994 of simAssp585\n"
     ]
    },
    {
     "name": "stderr",
     "output_type": "stream",
     "text": [
      "100%|██████████| 72411/72411 [00:02<00:00, 26163.06it/s]\n"
     ]
    },
    {
     "name": "stdout",
     "output_type": "stream",
     "text": [
      "Process year 1995 of simAssp585\n"
     ]
    },
    {
     "name": "stderr",
     "output_type": "stream",
     "text": [
      "100%|██████████| 72411/72411 [00:02<00:00, 26094.38it/s]\n"
     ]
    },
    {
     "name": "stdout",
     "output_type": "stream",
     "text": [
      "Process year 1996 of simAssp585\n"
     ]
    },
    {
     "name": "stderr",
     "output_type": "stream",
     "text": [
      "100%|██████████| 72411/72411 [00:02<00:00, 25536.86it/s]\n"
     ]
    },
    {
     "name": "stdout",
     "output_type": "stream",
     "text": [
      "Process year 1997 of simAssp585\n"
     ]
    },
    {
     "name": "stderr",
     "output_type": "stream",
     "text": [
      "100%|██████████| 72411/72411 [00:02<00:00, 26216.69it/s]\n"
     ]
    },
    {
     "name": "stdout",
     "output_type": "stream",
     "text": [
      "Process year 1998 of simAssp585\n"
     ]
    },
    {
     "name": "stderr",
     "output_type": "stream",
     "text": [
      "100%|██████████| 72411/72411 [00:02<00:00, 26100.61it/s]\n"
     ]
    },
    {
     "name": "stdout",
     "output_type": "stream",
     "text": [
      "Process year 1999 of simAssp585\n"
     ]
    },
    {
     "name": "stderr",
     "output_type": "stream",
     "text": [
      "100%|██████████| 72411/72411 [00:02<00:00, 26190.13it/s]\n"
     ]
    }
   ],
   "source": [
    "#-----\n",
    "# load model data & extract bottom layer omega A, omega C, pH \n",
    "#-----\n",
    "\n",
    "which_sim = 'simAssp585'\n",
    "\n",
    "path = '/pscratch/sd/c/cnissen/carbonate_chemistry_3D_v2/'+which_sim+'/' \n",
    "\n",
    "vari_list = ['omegaA_bottom','omegaC_bottom','pH_bottom']\n",
    "\n",
    "#year_list1 = np.arange(2090,2099+1,1) \n",
    "year_list1 = np.arange(1990,1999+1,1) \n",
    "\n",
    "#if which_sim in ['simAssp126','simAssp245','simAssp370','simCssp245']:\n",
    "#    year_list1 = np.arange(2015,2100+1,1) \n",
    "#elif which_sim in ['simAssp585','simB','simCssp585']:\n",
    "#    year_list1 = np.arange(1990,2100+1,1) \n",
    "\n",
    "omegaA_bottom_model1 = np.zeros([len(year_list1),len(lon)])\n",
    "omegaC_bottom_model1 = np.zeros([len(year_list1),len(lon)])\n",
    "pH_bottom_model1     = np.zeros([len(year_list1),len(lon)])\n",
    "for yy in range(0,len(year_list1)):\n",
    "    print('Process year '+str(year_list1[yy])+' of '+which_sim)\n",
    "    \n",
    "    path  = '/pscratch/sd/c/cnissen/carbonate_chemistry_3D_v2/'+which_sim+'/'\n",
    "    f1    = Dataset(path+'OmegaA_fesom_'+str(year_list1[yy])+'0101.nc') \n",
    "    f2    = Dataset(path+'OmegaC_fesom_'+str(year_list1[yy])+'0101.nc') \n",
    "    f3    = Dataset(path+'pH_fesom_'+str(year_list1[yy])+'0101.nc')\n",
    "    data_mean1 = f1.variables['OmegaA'][:,:,:].mean(axis=0)  # depth x mesh.n2d\n",
    "    data_mean2 = f2.variables['OmegaC'][:,:,:].mean(axis=0) \n",
    "    data_mean3 = f3.variables['pH'][:,:,:].mean(axis=0) \n",
    "    f1.close()\n",
    "    f2.close()\n",
    "    f3.close()\n",
    "    \n",
    "    #----\n",
    "    # extract model data in bottom layer\n",
    "    #----\n",
    "    omegaA_1 = np.zeros([len(lon)])\n",
    "    omegaC_1 = np.zeros([len(lon)])\n",
    "    pH_1     = np.zeros([len(lon)])\n",
    "    for i in tqdm(np.arange(1,len(lon)+1)):  \n",
    "    # double-check if this is correct with python indexing (didn't work without the \"-1\")\n",
    "        if lat[i-1]<=50.0: # only process nodes in the SO\n",
    "            a1 = data_mean1[:,i-1]\n",
    "            a = a1.mask==False\n",
    "            b1 = np.where(a==True)[0]\n",
    "            if len(b1)>0:\n",
    "                omegaA_1[i-1] = a1[b1[-1]]\n",
    "            del a1,a,b1\n",
    "            a1 = data_mean2[:,i-1]\n",
    "            a = a1.mask==False\n",
    "            b1 = np.where(a==True)[0]\n",
    "            if len(b1)>0:\n",
    "                omegaC_1[i-1] = a1[b1[-1]]\n",
    "            del a1,a,b1\n",
    "            a1 = data_mean3[:,i-1]\n",
    "            a = a1.mask==False\n",
    "            b1 = np.where(a==True)[0]\n",
    "            if len(b1)>0:\n",
    "                pH_1[i-1] = a1[b1[-1]]\n",
    "            del a1,a,b1\n",
    "\n",
    "    del data_mean1,data_mean2,data_mean3\n",
    "        \n",
    "    omegaA_bottom_model1[yy,:] = omegaA_1 \n",
    "    omegaC_bottom_model1[yy,:] = omegaC_1 \n",
    "    pH_bottom_model1[yy,:]     = pH_1 \n",
    "    del pH_1,omegaA_1,omegaC_1\n",
    "    \n",
    "# get decadal avg\n",
    "omegaA_bottom_model1 = np.nanmean(omegaA_bottom_model1,axis=0)\n",
    "omegaC_bottom_model1 = np.nanmean(omegaC_bottom_model1,axis=0)\n",
    "pH_bottom_model1     = np.nanmean(pH_bottom_model1,axis=0)\n",
    "\n"
   ]
  },
  {
   "cell_type": "code",
   "execution_count": 22,
   "metadata": {
    "tags": []
   },
   "outputs": [
    {
     "name": "stdout",
     "output_type": "stream",
     "text": [
      "omegaA_bottom\n",
      "Create file /pscratch/sd/c/cnissen/carbonate_chemistry_3D_v2/bottom_fields/omegaA_bottom_1990s_simA.nc\n",
      "written omegaA\n",
      "omegaC_bottom\n",
      "Create file /pscratch/sd/c/cnissen/carbonate_chemistry_3D_v2/bottom_fields/omegaC_bottom_1990s_simA.nc\n",
      "written omegaC\n",
      "pH_bottom\n",
      "Create file /pscratch/sd/c/cnissen/carbonate_chemistry_3D_v2/bottom_fields/pH_bottom_1990s_simA.nc\n",
      "written pH\n",
      "done\n"
     ]
    }
   ],
   "source": [
    "#-----\n",
    "# save decadal avg as netcdf file\n",
    "#-----\n",
    "    \n",
    "save_netcdf = True\n",
    "# only save every year (takes too much time otherwise)\n",
    "if save_netcdf:\n",
    "    savepath = '/pscratch/sd/c/cnissen/carbonate_chemistry_3D_v2/bottom_fields/'\n",
    "    \n",
    "    if year_list1[0]==2090:\n",
    "        time_str = '2090s'\n",
    "    elif year_list1[0]==1990:\n",
    "        time_str = '1990s'\n",
    "    \n",
    "    for vv in range(0,len(vari_list)):\n",
    "        print(vari_list[vv])\n",
    "        if year_list1[0]==1990:\n",
    "            netcdf_name = vari_list[vv]+'_'+time_str+'_'+which_sim[:-6]+'.nc'\n",
    "        else:\n",
    "            netcdf_name = vari_list[vv]+'_'+time_str+'_'+which_sim+'.nc'\n",
    "        if not os.path.exists(savepath+netcdf_name):\n",
    "            print('Create file '+savepath+netcdf_name)\n",
    "            w_nc_fid = Dataset(savepath+netcdf_name, 'w', format='NETCDF4_CLASSIC')\n",
    "            w_nc_fid.mocsy_source = 'https://github.com/jamesorr/mocsy'\n",
    "            w_nc_fid.mocsy_dir    = '/home/ollie/ncara/scripts/mocsy/mocsy'\n",
    "            w_nc_fid.script    = '/global/homes/c/cnissen/scripts/plot_PAPER_carbonate_chemistry_save_bottom_fields.ipynb'\n",
    "            # create dimension & variable\n",
    "            w_nc_fid.createDimension('nodes_2d', len(topo)) \n",
    "            w_nc_var1 = w_nc_fid.createVariable(vari_list[vv], 'f4',('nodes_2d'))\n",
    "            w_nc_fid.close()\n",
    "            \n",
    "        else: # file exists, but check if variables exist as well\n",
    "            w_nc_fid = Dataset(savepath+netcdf_name, 'r+', format='NETCDF4_CLASSIC') \n",
    "            try:\n",
    "                w_nc_var1 = w_nc_fid.createVariable(vari_list[vv], 'f4',('nodes_2d'))\n",
    "            except: \n",
    "                print (vari_list[vv]+' exists in file')\n",
    "                #if yy==0:\n",
    "                #    print (vari_list[vv]+' exists in file')\n",
    "                #pass\n",
    "            w_nc_fid.close()\n",
    "                    \n",
    "        w_nc_fid = Dataset(savepath+netcdf_name, 'r+', format='NETCDF4_CLASSIC') \n",
    "        if vari_list[vv] in ['omegaA_bottom']:\n",
    "            print('written omegaA')\n",
    "            w_nc_fid.variables[vari_list[vv]][:] = omegaA_bottom_model1[:]\n",
    "        elif vari_list[vv] in ['omegaC_bottom']:\n",
    "            print('written omegaC')\n",
    "            w_nc_fid.variables[vari_list[vv]][:] = omegaC_bottom_model1[:]\n",
    "        elif vari_list[vv] in ['pH_bottom']:\n",
    "            print('written pH')\n",
    "            w_nc_fid.variables[vari_list[vv]][:] = pH_bottom_model1[:]\n",
    "        w_nc_fid.close()  \n",
    "        del netcdf_name\n",
    "                \n",
    "print ('done')\n"
   ]
  },
  {
   "cell_type": "code",
   "execution_count": null,
   "metadata": {},
   "outputs": [],
   "source": []
  },
  {
   "cell_type": "code",
   "execution_count": null,
   "metadata": {},
   "outputs": [],
   "source": []
  }
 ],
 "metadata": {
  "kernelspec": {
   "display_name": "myenv-jupyter",
   "language": "python",
   "name": "myenv-jupyter"
  },
  "language_info": {
   "codemirror_mode": {
    "name": "ipython",
    "version": 3
   },
   "file_extension": ".py",
   "mimetype": "text/x-python",
   "name": "python",
   "nbconvert_exporter": "python",
   "pygments_lexer": "ipython3",
   "version": "3.9.12"
  }
 },
 "nbformat": 4,
 "nbformat_minor": 4
}
