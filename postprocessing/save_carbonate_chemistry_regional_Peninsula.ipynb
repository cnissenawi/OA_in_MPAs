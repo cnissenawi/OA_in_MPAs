{
 "cells": [
  {
   "cell_type": "markdown",
   "metadata": {},
   "source": [
    "# Nissen et al., 2023: Severe 21st-century OA in Antarctic MPAs\n",
    "#\n",
    "# script to save regional averages of a variety of carbonate chemistry variables as netcdf files (e.g., undersaturated volume below XXm)\n",
    "# Antarctic Peninsula only!\n",
    "# requires full model output\n",
    "# note that some paths are hard-coded throughout the script"
   ]
  },
  {
   "cell_type": "code",
   "execution_count": null,
   "metadata": {},
   "outputs": [],
   "source": [
    "#!jupyter nbconvert --to script save_carbonate_chemistry_regional_Peninsula.ipynb"
   ]
  },
  {
   "cell_type": "code",
   "execution_count": 2,
   "metadata": {
    "tags": []
   },
   "outputs": [],
   "source": [
    "import sys\n",
    "import os\n",
    "import matplotlib.pyplot as plt\n",
    "import numpy as np\n",
    "from scipy.interpolate import griddata\n",
    "from matplotlib import cm\n",
    "from netCDF4 import Dataset, MFDataset\n",
    "import pandas as pd"
   ]
  },
  {
   "cell_type": "code",
   "execution_count": 3,
   "metadata": {
    "tags": []
   },
   "outputs": [
    {
     "name": "stdout",
     "output_type": "stream",
     "text": [
      "(72411,)\n"
     ]
    }
   ],
   "source": [
    "#---\n",
    "# load mesh info\n",
    "#---\n",
    "\n",
    "path_mesh = '/pscratch/sd/c/cnissen/'\n",
    "file_mesh = 'Nissen2022_FESOM_REcoM_mesh_information_corrected_20220910.nc'\n",
    "\n",
    "f1 = Dataset(path_mesh+file_mesh) #xr.open_dataset(path+file1)\n",
    "lat      = f1.variables['lat'][:]\n",
    "lon      = f1.variables['lon'][:]\n",
    "zlevs    = f1.variables['zlevs'][:]\n",
    "cavities = f1.variables['cavity'][:]\n",
    "topo     = f1.variables['topo'][:]\n",
    "area     = f1.variables['cell_area'][:]\n",
    "volume   = f1.variables['cell_volume'][:]\n",
    "f1.close()\n",
    "print(lat.shape)\n"
   ]
  },
  {
   "cell_type": "code",
   "execution_count": 4,
   "metadata": {},
   "outputs": [],
   "source": [
    "#-----\n",
    "# load model output, calculate carbonate chemistry at each location, store in netcdf file\n",
    "#-----\n",
    "# what fields from model do I need?\n",
    "#    tos, sos, alk (surface only), dic (surface only), sio2 (surface only), din (surface only), slp\n",
    "#\n",
    "\n",
    "#----\n",
    "# some settings\n",
    "#----\n",
    "\n",
    "#savepath1    = '/work/ollie/ncara/fesom/fesom-1.4-recom/HLRN/carbonate_chemistry_3D/'\n",
    "#if not os.path.exists(savepath1):\n",
    "#    print('Created '+savepath1)\n",
    "#    os.makedirs(savepath1)\n"
   ]
  },
  {
   "cell_type": "code",
   "execution_count": 5,
   "metadata": {},
   "outputs": [],
   "source": [
    "\n",
    "def get_runID(which_sim,year):\n",
    "    #------\n",
    "    # get runID for simulation & year\n",
    "    #------\n",
    "    \n",
    "    # simAssp585\n",
    "    runID1 = 'COARZE_AWICM_wREcoM_hist_incrCO2_2'   # until 1991\n",
    "    runID2 = 'COARZE_AWICM_wREcoM_hist_incrCO2_5'   # 1992-2014\n",
    "    runID3 = 'COARZE_AWICM_wREcoM_ssp585_incrCO2_1' # after 2014\n",
    "\n",
    "    # simB (CTRL)\n",
    "    runID4 = 'COARZE_AWICM_wREcoM_constClim_constCO2_1' # until 2014\n",
    "    runID5 = 'COARZE_AWICM_wREcoM_constClim_constCO2_2' # after 2014\n",
    "\n",
    "    # simCssp585\n",
    "    runID6 = 'COARZE_AWICM_wREcoM_constClim_varCO2_1' \n",
    "\n",
    "    # simD\n",
    "    runID7 = 'COARZE_AWICM_wREcoM_varClim_constCO2_1'  # until 2014\n",
    "    runID8 = 'COARZE_AWICM_wREcoM_varClim_constCO2_2'  # after 2014\n",
    "\n",
    "    # simAssp245\n",
    "    runID9 = 'COARZE_AWICM_wREcoM_ssp245_incrCO2_1' \n",
    "\n",
    "    # simCssp245\n",
    "    runID10 = 'COARZE_AWICM_wREcoM_constClim_varCO2_ssp245_1' # after 2014; runID6 before\n",
    "\n",
    "    if which_sim in ['simAssp585']:\n",
    "        if year<1992:\n",
    "            runID=runID1\n",
    "        elif year>2014: # ssp585 scenario\n",
    "            runID=runID3\n",
    "        else:\n",
    "            runID=runID2\n",
    "    elif which_sim in ['simB']:\n",
    "        if year>2014:\n",
    "            runID = runID5\n",
    "        else:\n",
    "            runID = runID4\n",
    "    elif which_sim in ['simAssp370']:\n",
    "        if year<1992:\n",
    "            runID = runID1\n",
    "        elif year>2014:\n",
    "            if year>2080:\n",
    "                runID = runID6b\n",
    "            else:\n",
    "                runID = runID6a\n",
    "        else:\n",
    "            runID = runID2\n",
    "    elif which_sim in ['simAssp245']:\n",
    "        if year<1992:\n",
    "            runID = runID1\n",
    "        elif year>2014:\n",
    "            runID = runID7\n",
    "        else:\n",
    "            runID = runID2\n",
    "    elif which_sim in ['simAssp126']:\n",
    "        if year<1992:\n",
    "            runID = runID1\n",
    "        elif year>2014:\n",
    "            runID = runID8\n",
    "        else:\n",
    "            runID = runID2\n",
    "            \n",
    "    return runID\n"
   ]
  },
  {
   "cell_type": "code",
   "execution_count": 6,
   "metadata": {
    "tags": []
   },
   "outputs": [
    {
     "name": "stdout",
     "output_type": "stream",
     "text": [
      "(72411, 99)\n"
     ]
    }
   ],
   "source": [
    "print (volume.shape)"
   ]
  },
  {
   "cell_type": "code",
   "execution_count": 7,
   "metadata": {
    "tags": []
   },
   "outputs": [
    {
     "name": "stdout",
     "output_type": "stream",
     "text": [
      "num_depths: 97\n",
      "(72411, 99)\n",
      "(99, 72411)\n",
      "(97, 72411)\n",
      "4698317.0 28607110000000.0\n"
     ]
    }
   ],
   "source": [
    "#-----\n",
    "# load volume\n",
    "# convert to 3D field\n",
    "#-----\n",
    "   \n",
    "depths2000 = np.unique(zlevs) #np.unique(mesh.zlev)\n",
    "ind2000    = np.where(depths2000<5500)[0] \n",
    "depths2000 = depths2000[depths2000<5500]\n",
    "num_depths = len(depths2000)\n",
    "print ('num_depths:',num_depths)\n",
    "\n",
    "depths = np.unique(zlevs)\n",
    "\n",
    "volume_2d = np.transpose(volume)\n",
    "print (volume.shape)\n",
    "print (volume_2d.shape)\n",
    "\n",
    "# restrict to top XXm or similar\n",
    "volume_2d = volume_2d[ind2000,:]\n",
    "print (volume_2d.shape)\n",
    "print (np.nanmin(volume_2d),np.nanmax(volume_2d))\n",
    "\n"
   ]
  },
  {
   "cell_type": "code",
   "execution_count": 8,
   "metadata": {
    "tags": []
   },
   "outputs": [],
   "source": [
    "#----\n",
    "# FUNCTIONS\n",
    "#----\n",
    "\n",
    "def get_intersection(lst1, lst2):  \n",
    "        # Use of hybrid method \n",
    "        temp = set(lst2) \n",
    "        lst3 = [value for value in lst1 if value in temp] \n",
    "        return lst3\n",
    "    \n",
    "def running_mean(x, N):\n",
    "    cumsum = np.cumsum(np.insert(x, 0, 0)) \n",
    "    return (cumsum[N:] - cumsum[:-N]) / float(N)\n",
    "\n",
    "# get subareas based on lat only\n",
    "def get_subarea_indices_sectors_lat_only(lat,lon):\n",
    "    #subareas  = ['Larsen/FRIS','eWeddell','Amery/Australian','Ross Sea','Amundsen/Bellingh']\n",
    "    \n",
    "    lat_threshold = -60 #-60 # 0=all SH data\n",
    "        \n",
    "    ross1 = 150 #160\n",
    "    ross2 = -130 # -145\n",
    "    \n",
    "    eWeddell1 = -10\n",
    "    \n",
    "    print ('Subareas: south of '+str(-1*lat_threshold)+'°S...')\n",
    "        \n",
    "    shelf_ind = np.zeros(len(lon))\n",
    "    for i in range(1,len(lon)+1):\n",
    "        dd = lon[i-1]\n",
    "        if lat[i-1]<lat_threshold and dd>-52 and dd<eWeddell1: # Filchner-Ronne & Larsen \n",
    "            shelf_ind[i-1]=1\n",
    "        elif lat[i-1]<-74 and dd>-85 and dd<eWeddell1: # Filchner-Ronne & Larsen in the very south\n",
    "            shelf_ind[i-1]=1\n",
    "        elif lat[i-1]<lat_threshold and dd>eWeddell1 and dd<30: # eWeddell\n",
    "            shelf_ind[i-1]=6\n",
    "        elif lat[i-1]<lat_threshold and dd>30 and dd<90: # Prydz\n",
    "            shelf_ind[i-1]=2\n",
    "        elif lat[i-1]<lat_threshold and dd>90 and dd<ross1: # Amery & Australian\n",
    "            shelf_ind[i-1]=3\n",
    "        elif lat[i-1]<lat_threshold and dd>ross1:  # Ross Sea \n",
    "            shelf_ind[i-1]=4\n",
    "        elif lat[i-1]<lat_threshold and dd<ross2:   # Ross Sea\n",
    "            shelf_ind[i-1]=4\n",
    "        elif lat[i-1]<lat_threshold and dd>ross2 and dd<-69: #dd<-66: # Amundsen & Bellinghausen\n",
    "            shelf_ind[i-1]=5\n",
    "        elif lat[i-1]<lat_threshold and dd>-69 and dd<-52: #dd<-66: # Antarctic Peninsula\n",
    "            wap_lat = -70\n",
    "            if lat[i-1]>wap_lat:\n",
    "                shelf_ind[i-1]=7 # pensinsula\n",
    "            else:\n",
    "                #shelf_ind[i-1]=7 \n",
    "                # now find correct separation between Amundsen & Weddell Sea\n",
    "                if dd>-66:\n",
    "                    shelf_ind[i-1]=1\n",
    "                else:\n",
    "                    shelf_ind[i-1]=5\n",
    "                    \n",
    "            \n",
    "        # now find correct separation between Amundsen & Weddell Sea\n",
    "        #if lat[i-1]<=wap_lat:\n",
    "            \n",
    "                \n",
    "        \n",
    " #       # now find correct separation between Amundsen & Weddell Sea\n",
    " #       if lat[i-1]<-66 and dd>-63 and dd<eWeddell1: # Filchner-Ronne & Larsen & eastern WS\n",
    " #           shelf_ind[i-1]=1\n",
    " #       if lat[i-1]<-66 and lat[i-1]>-70 and dd>-64.5 and dd<eWeddell1: # Filchner-Ronne & Larsen & eastern WS\n",
    " #           shelf_ind[i-1]=1\n",
    " #       if lat[i-1]<-66.8 and lat[i-1]>-70 and dd>-66 and dd<eWeddell1: # Filchner-Ronne & Larsen & eastern WS\n",
    " #           shelf_ind[i-1]=1\n",
    " #       if lat[i-1]<-64 and lat[i-1]>-66 and dd>-60.6 and dd<eWeddell1: # Filchner-Ronne & Larsen & eastern WS\n",
    " #           shelf_ind[i-1]=1\n",
    " #       if lat[i-1]<-64.8 and lat[i-1]>-66 and dd>-62.4 and dd<eWeddell1: # Filchner-Ronne & Larsen & eastern WS\n",
    " #           shelf_ind[i-1]=1\n",
    " #       if lat[i-1]<-64.7 and lat[i-1]>-65.9 and dd>-62.2 and dd<eWeddell1: # Filchner-Ronne & Larsen & eastern WS\n",
    " #           shelf_ind[i-1]=1\n",
    " #       if lat[i-1]<-63.4 and lat[i-1]>-64.5 and dd>-58 and dd<eWeddell1: # Filchner-Ronne & Larsen & eastern WS\n",
    " #           shelf_ind[i-1]=1\n",
    "            \n",
    "    return shelf_ind"
   ]
  },
  {
   "cell_type": "code",
   "execution_count": 9,
   "metadata": {
    "tags": []
   },
   "outputs": [
    {
     "name": "stdout",
     "output_type": "stream",
     "text": [
      "Subareas: south of 60°S...\n",
      "0.0 7.0\n"
     ]
    }
   ],
   "source": [
    "#---\n",
    "# plot map of subregions\n",
    "#----\n",
    "\n",
    "shelf_ind = get_subarea_indices_sectors_lat_only(lat,lon)\n",
    "\n",
    "ind = np.where((topo>2000) & (cavities==0))[0]\n",
    "shelf_ind[ind]=0\n",
    "shelf_ind[cavities==1]=0\n",
    "\n",
    "weddell = np.zeros_like(shelf_ind)\n",
    "weddell[shelf_ind==1]=1\n",
    "\n",
    "eWeddell = np.zeros_like(shelf_ind)\n",
    "eWeddell[shelf_ind==6]=1\n",
    "\n",
    "prydz = np.zeros_like(shelf_ind)\n",
    "prydz[shelf_ind==2]=1\n",
    "\n",
    "adelie = np.zeros_like(shelf_ind)\n",
    "adelie[shelf_ind==3]=1\n",
    "\n",
    "ross = np.zeros_like(shelf_ind)\n",
    "ross[shelf_ind==4]=1\n",
    "\n",
    "amundsen = np.zeros_like(shelf_ind)\n",
    "amundsen[shelf_ind==5]=1\n",
    "\n",
    "wap = np.zeros_like(shelf_ind)\n",
    "wap[shelf_ind==7]=1\n",
    "\n",
    "#----\n",
    "# get masks for MPAs\n",
    "#----\n",
    "\n",
    "path1 = '/pscratch/sd/c/cnissen/HLRN_runs_postprocessed/masks/masks_MPAs/'\n",
    "\n",
    "f1 = Dataset(path1+'MPA_mask_AntarcticPeninsula_fesom_mesh_COARZE.nc')\n",
    "mask_WAP_MPA = f1.variables['mask_fesom'][:]\n",
    "f1.close()\n",
    "f1 = Dataset(path1+'MPA_mask_East_Antarctica_1_fesom_mesh_COARZE.nc')\n",
    "mask_eastAA1_MPA = f1.variables['mask_fesom'][:]\n",
    "f1.close()\n",
    "f1 = Dataset(path1+'MPA_mask_East_Antarctica_2_fesom_mesh_COARZE.nc')\n",
    "mask_eastAA2_MPA = f1.variables['mask_fesom'][:]\n",
    "f1.close()\n",
    "f1 = Dataset(path1+'MPA_mask_East_Antarctica_3_fesom_mesh_COARZE.nc')\n",
    "mask_eastAA3_MPA = f1.variables['mask_fesom'][:]\n",
    "f1.close()\n",
    "f1 = Dataset(path1+'MPA_mask_Orkney_fesom_mesh_COARZE.nc')\n",
    "mask_Orkney_MPA = f1.variables['mask_fesom'][:]\n",
    "f1.close()\n",
    "f1 = Dataset(path1+'MPA_mask_RossSea_fesom_mesh_COARZE.nc')\n",
    "mask_RossSea_MPA = f1.variables['mask_fesom'][:]\n",
    "f1.close()\n",
    "f1 = Dataset(path1+'MPA_mask_WeddellSea_fesom_mesh_COARZE.nc')\n",
    "mask_WeddellSea_MPA = f1.variables['mask_fesom'][:]\n",
    "f1.close()\n",
    "\n",
    "#------------\n",
    "\n",
    "subareas  = ['Larsen/FRIS','eWeddell','Amery/Australian','Ross Sea','Amundsen/Bellingh',\\\n",
    "             'south of SR4','south of 60S']\n",
    "subareas = ['south of SR4']\n",
    "# ADD \"south_of_SR4\" and \"south_of_60S\"\n",
    "# additionally, load masks for \"south of SR4\" and \"south of 60\n",
    "path_mask_SR4 = '/pscratch/sd/c/cnissen/HLRN_runs_postprocessed/masks/mask_south_of_transect_SR4.nc'\n",
    "path_mask_60S = '/pscratch/sd/c/cnissen/HLRN_runs_postprocessed/masks/mask_south_of_transect_60S.nc'\n",
    "path_mask_shelfBreak = '/pscratch/sd/c/cnissen/HLRN_runs_postprocessed/masks/mask_south_of_transect_shelf_break.nc'\n",
    "fileSR4 = Dataset(path_mask_SR4)\n",
    "file60S = Dataset(path_mask_60S)\n",
    "file_shelfBreak = Dataset(path_mask_shelfBreak)\n",
    "maskSR4 = fileSR4.variables['mask'][:]\n",
    "mask60S = file60S.variables['mask'][:]\n",
    "mask_shelfBreak = file_shelfBreak.variables['mask'][:]\n",
    "\n",
    "print (np.min(shelf_ind),np.max(shelf_ind))\n",
    "latlim = -60\n",
    "depth_threshold = 2000\n",
    "\n",
    "#-----\n",
    "# plot map of where subareas are\n",
    "#-----\n",
    "from matplotlib.colors import ListedColormap\n",
    "\n",
    "# make the color map:\n",
    "cmap1 = ListedColormap(['white','darkblue','cornflowerblue','firebrick',\\\n",
    "                        'gold','orange','mediumpurple','violet','mediumturquoise'])\n",
    "cmap1 = ListedColormap(['white',(51./255.,34./255.,136./255.),(136./255.,204./255.,238./255.),\\\n",
    "                  (68./255.,170./255.,153./255.),(17./255.,119./255.,51./255.),\\\n",
    "                  (153./255.,153./255.,51./255.),(221./255.,204./255.,119./255.),\\\n",
    "                   (204./255.,102./255.,119./255.),(136./255.,34./255.,85./255.)])\n",
    "\n",
    "levels1 = np.arange(0,10,1)\n",
    "\n",
    "plot_regions = False\n",
    "if plot_regions:\n",
    "    dpicnt = 200\n",
    "    elem_no_nan = mesh.elem[mesh.no_cyclic_elem,:]\n",
    "\n",
    "    fig8= plt.figure(num=18, figsize=(4,3), dpi=200, facecolor='w', edgecolor='k')\n",
    "    map = Basemap(projection='spstere',boundinglat=-60,lon_0=-180,resolution='l')\n",
    "    #map.drawcoastlines()\n",
    "    map.drawcountries()#\n",
    "    map.drawmapboundary(fill_color='0.7')\n",
    "    x, y = map(mesh.x2, mesh.y2)\n",
    "    shelf_ind[shelf_ind==0]=-999\n",
    "    mm=plt.tricontourf(x, y, elem_no_nan[::], shelf_ind, levels = levels1, \\\n",
    "                        cmap=cmap1, extend='both') #,vmin=-4, vmax=4)\n",
    "    cbar = plt.colorbar(orientation='horizontal',fraction=0.075, pad=0.03,shrink=0.75)# ,ticks=cticks)\n",
    "    #cbar.cmap.set_under('white')\n",
    "    cbar.remove() \n",
    "    #plt.draw()\n",
    "    lw = 1.2\n",
    "\n",
    "    topo_plot = np.copy(mesh.topo)\n",
    "    topo_plot[cavities==1]=-999\n",
    "    m2=plt.tricontour(x, y, elem_no_nan[::], topo_plot, levels = [2000],linewidths=[lw],colors=['black'])\n",
    "\n",
    "    save_plot = False\n",
    "    if save_plot:\n",
    "        plt.savefig(savepath1+'Map_subareas_for_C_anth_analysis.png',\\\n",
    "                                            dpi = dpicnt, bbox_inches='tight') \n",
    "    plt.show()\n",
    "    #plt.close(fig8)\n",
    "\n",
    "# Weddell\n",
    "# eWeddell\n",
    "# Prydz\n",
    "# Adelie\n",
    "# Ross\n",
    "# Amundsen/Bellinghausen\n",
    "# Antarctic Pensinsula\n"
   ]
  },
  {
   "cell_type": "code",
   "execution_count": 10,
   "metadata": {
    "tags": []
   },
   "outputs": [],
   "source": [
    "#---\n",
    "# subareas\n",
    "#---\n",
    "\n",
    "#weddell[shelf_ind==1]=1\n",
    "#eWeddell[shelf_ind==6]=1\n",
    "#prydz[shelf_ind==2]=1\n",
    "#adelie[shelf_ind==3]=1\n",
    "#ross[shelf_ind==4]=1\n",
    "#amundsen[shelf_ind==5]=1\n",
    "#wap[shelf_ind==7]=1\n",
    "\n",
    "# for MPAs (outside cavities only for now):\n",
    "# 1) complete MPA\n",
    "# 2) shelf only\n",
    "# 3) open ocean only\n",
    "\n",
    "#subregions = ['all_shelves','WeddellSea','eWeddellSea','Prydz','Adelie','RossSea','Amundsen_Bellingshausen','WAP',\\\n",
    "#             'RossSea_MPA','RossSea_MPA_shelf','RossSea_MPA_openOcean',\\\n",
    "#              'WeddellSea_MPA','WeddellSea_MPA_shelf','WeddellSea_MPA_openOcean',\\\n",
    "#             'Orkney_MPA','AntarcticPeninsula_MPA',\\\n",
    "#             'East_Antarctica_1_MPA','East_Antarctica_2_MPA','East_Antarctica_3_MPA','East_Antarctica_all_MPA',\\\n",
    "#             'East_Antarctica_1_MPA_shelf','East_Antarctica_2_MPA_shelf',\\\n",
    "#              'East_Antarctica_3_MPA_shelf','East_Antarctica_all_MPA_shelf',\\\n",
    "#             'East_Antarctica_1_MPA_openOcean','East_Antarctica_2_MPA_openOcean',\\\n",
    "#              'East_Antarctica_3_MPA_openOcean','East_Antarctica_all_MPA_openOcean']\n",
    "\n",
    "subregions = ['AntarcticPeninsula_MPA','AntarcticPeninsula_MPA_shelf','AntarcticPeninsula_MPA_openOcean']\n"
   ]
  },
  {
   "cell_type": "code",
   "execution_count": null,
   "metadata": {},
   "outputs": [],
   "source": []
  },
  {
   "cell_type": "code",
   "execution_count": 11,
   "metadata": {
    "tags": []
   },
   "outputs": [
    {
     "name": "stdout",
     "output_type": "stream",
     "text": [
      "(72411,)\n"
     ]
    }
   ],
   "source": [
    "print(area.shape)"
   ]
  },
  {
   "cell_type": "code",
   "execution_count": 15,
   "metadata": {
    "tags": []
   },
   "outputs": [
    {
     "name": "stdout",
     "output_type": "stream",
     "text": [
      "[1990 1991 1992 1993 1994 1995 1996 1997 1998 1999 2000 2001 2002 2003\n",
      " 2004 2005 2006 2007 2008 2009 2010 2011 2012 2013 2014 2015 2016 2017\n",
      " 2018 2019 2020 2021 2022 2023 2024 2025 2026 2027 2028 2029 2030 2031\n",
      " 2032 2033 2034 2035 2036 2037 2038 2039 2040 2041 2042 2043 2044 2045\n",
      " 2046 2047 2048 2049 2050 2051 2052 2053 2054 2055 2056 2057 2058 2059\n",
      " 2060 2061 2062 2063 2064 2065 2066 2067 2068 2069 2070 2071 2072 2073\n",
      " 2074 2075 2076 2077 2078 2079 2080 2081 2082 2083 2084 2085 2086 2087\n",
      " 2088 2089 2090 2091 2092 2093 2094 2095 2096 2097 2098 2099 2100]\n",
      "year 1990...\n"
     ]
    },
    {
     "name": "stderr",
     "output_type": "stream",
     "text": [
      "100%|██████████| 12/12 [00:25<00:00,  2.16s/it]\n"
     ]
    },
    {
     "name": "stdout",
     "output_type": "stream",
     "text": [
      "Create file /pscratch/sd/c/cnissen/carbonate_chemistry_3D_v2/regional/Carbonate_chemistry_regional_simAssp585_1990_2100_v4_AntarcticPeninsula_only.nc\n",
      "year 1991...\n"
     ]
    },
    {
     "name": "stderr",
     "output_type": "stream",
     "text": [
      "100%|██████████| 12/12 [00:23<00:00,  1.98s/it]\n"
     ]
    },
    {
     "name": "stdout",
     "output_type": "stream",
     "text": [
      "year 1992...\n"
     ]
    },
    {
     "name": "stderr",
     "output_type": "stream",
     "text": [
      "100%|██████████| 12/12 [00:27<00:00,  2.32s/it]\n"
     ]
    },
    {
     "name": "stdout",
     "output_type": "stream",
     "text": [
      "year 1993...\n"
     ]
    },
    {
     "name": "stderr",
     "output_type": "stream",
     "text": [
      "100%|██████████| 12/12 [00:31<00:00,  2.66s/it]\n"
     ]
    },
    {
     "name": "stdout",
     "output_type": "stream",
     "text": [
      "year 1994...\n"
     ]
    },
    {
     "name": "stderr",
     "output_type": "stream",
     "text": [
      "100%|██████████| 12/12 [00:31<00:00,  2.63s/it]\n"
     ]
    },
    {
     "name": "stdout",
     "output_type": "stream",
     "text": [
      "year 1995...\n"
     ]
    },
    {
     "name": "stderr",
     "output_type": "stream",
     "text": [
      "100%|██████████| 12/12 [00:29<00:00,  2.44s/it]\n"
     ]
    },
    {
     "name": "stdout",
     "output_type": "stream",
     "text": [
      "year 1996...\n"
     ]
    },
    {
     "name": "stderr",
     "output_type": "stream",
     "text": [
      "100%|██████████| 12/12 [00:30<00:00,  2.58s/it]\n"
     ]
    },
    {
     "name": "stdout",
     "output_type": "stream",
     "text": [
      "year 1997...\n"
     ]
    },
    {
     "name": "stderr",
     "output_type": "stream",
     "text": [
      "100%|██████████| 12/12 [00:35<00:00,  2.96s/it]\n"
     ]
    },
    {
     "name": "stdout",
     "output_type": "stream",
     "text": [
      "year 1998...\n"
     ]
    },
    {
     "name": "stderr",
     "output_type": "stream",
     "text": [
      "100%|██████████| 12/12 [00:28<00:00,  2.34s/it]\n"
     ]
    },
    {
     "name": "stdout",
     "output_type": "stream",
     "text": [
      "year 1999...\n"
     ]
    },
    {
     "name": "stderr",
     "output_type": "stream",
     "text": [
      "100%|██████████| 12/12 [00:26<00:00,  2.21s/it]\n"
     ]
    },
    {
     "name": "stdout",
     "output_type": "stream",
     "text": [
      "year 2000...\n"
     ]
    },
    {
     "name": "stderr",
     "output_type": "stream",
     "text": [
      "100%|██████████| 12/12 [00:28<00:00,  2.42s/it]\n"
     ]
    },
    {
     "name": "stdout",
     "output_type": "stream",
     "text": [
      "year 2001...\n"
     ]
    },
    {
     "name": "stderr",
     "output_type": "stream",
     "text": [
      "100%|██████████| 12/12 [00:29<00:00,  2.45s/it]\n"
     ]
    },
    {
     "name": "stdout",
     "output_type": "stream",
     "text": [
      "year 2002...\n"
     ]
    },
    {
     "name": "stderr",
     "output_type": "stream",
     "text": [
      "100%|██████████| 12/12 [00:26<00:00,  2.18s/it]\n"
     ]
    },
    {
     "name": "stdout",
     "output_type": "stream",
     "text": [
      "year 2003...\n"
     ]
    },
    {
     "name": "stderr",
     "output_type": "stream",
     "text": [
      "100%|██████████| 12/12 [00:29<00:00,  2.44s/it]\n"
     ]
    },
    {
     "name": "stdout",
     "output_type": "stream",
     "text": [
      "year 2004...\n"
     ]
    },
    {
     "name": "stderr",
     "output_type": "stream",
     "text": [
      "100%|██████████| 12/12 [00:26<00:00,  2.24s/it]\n"
     ]
    },
    {
     "name": "stdout",
     "output_type": "stream",
     "text": [
      "year 2005...\n"
     ]
    },
    {
     "name": "stderr",
     "output_type": "stream",
     "text": [
      "100%|██████████| 12/12 [00:27<00:00,  2.27s/it]\n"
     ]
    },
    {
     "name": "stdout",
     "output_type": "stream",
     "text": [
      "year 2006...\n"
     ]
    },
    {
     "name": "stderr",
     "output_type": "stream",
     "text": [
      "100%|██████████| 12/12 [00:26<00:00,  2.22s/it]\n"
     ]
    },
    {
     "name": "stdout",
     "output_type": "stream",
     "text": [
      "year 2007...\n"
     ]
    },
    {
     "name": "stderr",
     "output_type": "stream",
     "text": [
      "100%|██████████| 12/12 [00:27<00:00,  2.25s/it]\n"
     ]
    },
    {
     "name": "stdout",
     "output_type": "stream",
     "text": [
      "year 2008...\n"
     ]
    },
    {
     "name": "stderr",
     "output_type": "stream",
     "text": [
      "100%|██████████| 12/12 [00:27<00:00,  2.31s/it]\n"
     ]
    },
    {
     "name": "stdout",
     "output_type": "stream",
     "text": [
      "year 2009...\n"
     ]
    },
    {
     "name": "stderr",
     "output_type": "stream",
     "text": [
      "100%|██████████| 12/12 [00:28<00:00,  2.41s/it]\n"
     ]
    },
    {
     "name": "stdout",
     "output_type": "stream",
     "text": [
      "year 2010...\n"
     ]
    },
    {
     "name": "stderr",
     "output_type": "stream",
     "text": [
      "100%|██████████| 12/12 [00:27<00:00,  2.25s/it]\n"
     ]
    },
    {
     "name": "stdout",
     "output_type": "stream",
     "text": [
      "year 2011...\n"
     ]
    },
    {
     "name": "stderr",
     "output_type": "stream",
     "text": [
      "100%|██████████| 12/12 [00:29<00:00,  2.43s/it]\n"
     ]
    },
    {
     "name": "stdout",
     "output_type": "stream",
     "text": [
      "year 2012...\n"
     ]
    },
    {
     "name": "stderr",
     "output_type": "stream",
     "text": [
      "100%|██████████| 12/12 [00:29<00:00,  2.42s/it]\n"
     ]
    },
    {
     "name": "stdout",
     "output_type": "stream",
     "text": [
      "year 2013...\n"
     ]
    },
    {
     "name": "stderr",
     "output_type": "stream",
     "text": [
      "100%|██████████| 12/12 [00:29<00:00,  2.46s/it]\n"
     ]
    },
    {
     "name": "stdout",
     "output_type": "stream",
     "text": [
      "year 2014...\n"
     ]
    },
    {
     "name": "stderr",
     "output_type": "stream",
     "text": [
      "100%|██████████| 12/12 [00:29<00:00,  2.49s/it]\n"
     ]
    },
    {
     "name": "stdout",
     "output_type": "stream",
     "text": [
      "year 2015...\n"
     ]
    },
    {
     "name": "stderr",
     "output_type": "stream",
     "text": [
      "100%|██████████| 12/12 [00:28<00:00,  2.37s/it]\n"
     ]
    },
    {
     "name": "stdout",
     "output_type": "stream",
     "text": [
      "year 2016...\n"
     ]
    },
    {
     "name": "stderr",
     "output_type": "stream",
     "text": [
      "100%|██████████| 12/12 [00:29<00:00,  2.45s/it]\n"
     ]
    },
    {
     "name": "stdout",
     "output_type": "stream",
     "text": [
      "year 2017...\n"
     ]
    },
    {
     "name": "stderr",
     "output_type": "stream",
     "text": [
      "100%|██████████| 12/12 [00:31<00:00,  2.59s/it]\n"
     ]
    },
    {
     "name": "stdout",
     "output_type": "stream",
     "text": [
      "year 2018...\n"
     ]
    },
    {
     "name": "stderr",
     "output_type": "stream",
     "text": [
      "100%|██████████| 12/12 [00:29<00:00,  2.43s/it]\n"
     ]
    },
    {
     "name": "stdout",
     "output_type": "stream",
     "text": [
      "year 2019...\n"
     ]
    },
    {
     "name": "stderr",
     "output_type": "stream",
     "text": [
      "100%|██████████| 12/12 [00:29<00:00,  2.45s/it]\n"
     ]
    },
    {
     "name": "stdout",
     "output_type": "stream",
     "text": [
      "year 2020...\n"
     ]
    },
    {
     "name": "stderr",
     "output_type": "stream",
     "text": [
      "100%|██████████| 12/12 [00:29<00:00,  2.46s/it]\n"
     ]
    },
    {
     "name": "stdout",
     "output_type": "stream",
     "text": [
      "year 2021...\n"
     ]
    },
    {
     "name": "stderr",
     "output_type": "stream",
     "text": [
      "100%|██████████| 12/12 [00:28<00:00,  2.33s/it]\n"
     ]
    },
    {
     "name": "stdout",
     "output_type": "stream",
     "text": [
      "year 2022...\n"
     ]
    },
    {
     "name": "stderr",
     "output_type": "stream",
     "text": [
      "100%|██████████| 12/12 [00:29<00:00,  2.47s/it]\n"
     ]
    },
    {
     "name": "stdout",
     "output_type": "stream",
     "text": [
      "year 2023...\n"
     ]
    },
    {
     "name": "stderr",
     "output_type": "stream",
     "text": [
      "100%|██████████| 12/12 [00:29<00:00,  2.48s/it]\n"
     ]
    },
    {
     "name": "stdout",
     "output_type": "stream",
     "text": [
      "year 2024...\n"
     ]
    },
    {
     "name": "stderr",
     "output_type": "stream",
     "text": [
      "100%|██████████| 12/12 [00:30<00:00,  2.53s/it]\n"
     ]
    },
    {
     "name": "stdout",
     "output_type": "stream",
     "text": [
      "year 2025...\n"
     ]
    },
    {
     "name": "stderr",
     "output_type": "stream",
     "text": [
      "100%|██████████| 12/12 [00:29<00:00,  2.45s/it]\n"
     ]
    },
    {
     "name": "stdout",
     "output_type": "stream",
     "text": [
      "year 2026...\n"
     ]
    },
    {
     "name": "stderr",
     "output_type": "stream",
     "text": [
      "100%|██████████| 12/12 [00:32<00:00,  2.74s/it]\n"
     ]
    },
    {
     "name": "stdout",
     "output_type": "stream",
     "text": [
      "year 2027...\n"
     ]
    },
    {
     "name": "stderr",
     "output_type": "stream",
     "text": [
      "100%|██████████| 12/12 [00:31<00:00,  2.59s/it]\n"
     ]
    },
    {
     "name": "stdout",
     "output_type": "stream",
     "text": [
      "year 2028...\n"
     ]
    },
    {
     "name": "stderr",
     "output_type": "stream",
     "text": [
      "100%|██████████| 12/12 [00:29<00:00,  2.49s/it]\n"
     ]
    },
    {
     "name": "stdout",
     "output_type": "stream",
     "text": [
      "year 2029...\n"
     ]
    },
    {
     "name": "stderr",
     "output_type": "stream",
     "text": [
      "100%|██████████| 12/12 [00:28<00:00,  2.39s/it]\n"
     ]
    },
    {
     "name": "stdout",
     "output_type": "stream",
     "text": [
      "year 2030...\n"
     ]
    },
    {
     "name": "stderr",
     "output_type": "stream",
     "text": [
      "100%|██████████| 12/12 [00:30<00:00,  2.52s/it]\n"
     ]
    },
    {
     "name": "stdout",
     "output_type": "stream",
     "text": [
      "year 2031...\n"
     ]
    },
    {
     "name": "stderr",
     "output_type": "stream",
     "text": [
      "100%|██████████| 12/12 [00:29<00:00,  2.49s/it]\n"
     ]
    },
    {
     "name": "stdout",
     "output_type": "stream",
     "text": [
      "year 2032...\n"
     ]
    },
    {
     "name": "stderr",
     "output_type": "stream",
     "text": [
      "100%|██████████| 12/12 [00:29<00:00,  2.44s/it]\n"
     ]
    },
    {
     "name": "stdout",
     "output_type": "stream",
     "text": [
      "year 2033...\n"
     ]
    },
    {
     "name": "stderr",
     "output_type": "stream",
     "text": [
      "100%|██████████| 12/12 [00:30<00:00,  2.52s/it]\n"
     ]
    },
    {
     "name": "stdout",
     "output_type": "stream",
     "text": [
      "year 2034...\n"
     ]
    },
    {
     "name": "stderr",
     "output_type": "stream",
     "text": [
      "100%|██████████| 12/12 [00:33<00:00,  2.81s/it]\n"
     ]
    },
    {
     "name": "stdout",
     "output_type": "stream",
     "text": [
      "year 2035...\n"
     ]
    },
    {
     "name": "stderr",
     "output_type": "stream",
     "text": [
      "100%|██████████| 12/12 [00:30<00:00,  2.51s/it]\n"
     ]
    },
    {
     "name": "stdout",
     "output_type": "stream",
     "text": [
      "year 2036...\n"
     ]
    },
    {
     "name": "stderr",
     "output_type": "stream",
     "text": [
      "100%|██████████| 12/12 [00:31<00:00,  2.63s/it]\n"
     ]
    },
    {
     "name": "stdout",
     "output_type": "stream",
     "text": [
      "year 2037...\n"
     ]
    },
    {
     "name": "stderr",
     "output_type": "stream",
     "text": [
      "100%|██████████| 12/12 [00:32<00:00,  2.68s/it]\n"
     ]
    },
    {
     "name": "stdout",
     "output_type": "stream",
     "text": [
      "year 2038...\n"
     ]
    },
    {
     "name": "stderr",
     "output_type": "stream",
     "text": [
      "100%|██████████| 12/12 [00:31<00:00,  2.61s/it]\n"
     ]
    },
    {
     "name": "stdout",
     "output_type": "stream",
     "text": [
      "year 2039...\n"
     ]
    },
    {
     "name": "stderr",
     "output_type": "stream",
     "text": [
      "100%|██████████| 12/12 [00:30<00:00,  2.50s/it]\n"
     ]
    },
    {
     "name": "stdout",
     "output_type": "stream",
     "text": [
      "year 2040...\n"
     ]
    },
    {
     "name": "stderr",
     "output_type": "stream",
     "text": [
      "100%|██████████| 12/12 [00:30<00:00,  2.57s/it]\n"
     ]
    },
    {
     "name": "stdout",
     "output_type": "stream",
     "text": [
      "year 2041...\n"
     ]
    },
    {
     "name": "stderr",
     "output_type": "stream",
     "text": [
      "100%|██████████| 12/12 [00:31<00:00,  2.67s/it]\n"
     ]
    },
    {
     "name": "stdout",
     "output_type": "stream",
     "text": [
      "year 2042...\n"
     ]
    },
    {
     "name": "stderr",
     "output_type": "stream",
     "text": [
      "100%|██████████| 12/12 [00:32<00:00,  2.70s/it]\n"
     ]
    },
    {
     "name": "stdout",
     "output_type": "stream",
     "text": [
      "year 2043...\n"
     ]
    },
    {
     "name": "stderr",
     "output_type": "stream",
     "text": [
      "100%|██████████| 12/12 [00:32<00:00,  2.67s/it]\n"
     ]
    },
    {
     "name": "stdout",
     "output_type": "stream",
     "text": [
      "year 2044...\n"
     ]
    },
    {
     "name": "stderr",
     "output_type": "stream",
     "text": [
      "100%|██████████| 12/12 [00:31<00:00,  2.66s/it]\n"
     ]
    },
    {
     "name": "stdout",
     "output_type": "stream",
     "text": [
      "year 2045...\n"
     ]
    },
    {
     "name": "stderr",
     "output_type": "stream",
     "text": [
      "100%|██████████| 12/12 [00:30<00:00,  2.50s/it]\n"
     ]
    },
    {
     "name": "stdout",
     "output_type": "stream",
     "text": [
      "year 2046...\n"
     ]
    },
    {
     "name": "stderr",
     "output_type": "stream",
     "text": [
      "100%|██████████| 12/12 [00:34<00:00,  2.88s/it]\n"
     ]
    },
    {
     "name": "stdout",
     "output_type": "stream",
     "text": [
      "year 2047...\n"
     ]
    },
    {
     "name": "stderr",
     "output_type": "stream",
     "text": [
      "100%|██████████| 12/12 [00:28<00:00,  2.41s/it]\n"
     ]
    },
    {
     "name": "stdout",
     "output_type": "stream",
     "text": [
      "year 2048...\n"
     ]
    },
    {
     "name": "stderr",
     "output_type": "stream",
     "text": [
      "100%|██████████| 12/12 [00:29<00:00,  2.46s/it]\n"
     ]
    },
    {
     "name": "stdout",
     "output_type": "stream",
     "text": [
      "year 2049...\n"
     ]
    },
    {
     "name": "stderr",
     "output_type": "stream",
     "text": [
      "100%|██████████| 12/12 [00:30<00:00,  2.53s/it]\n"
     ]
    },
    {
     "name": "stdout",
     "output_type": "stream",
     "text": [
      "year 2050...\n"
     ]
    },
    {
     "name": "stderr",
     "output_type": "stream",
     "text": [
      "100%|██████████| 12/12 [00:31<00:00,  2.62s/it]\n"
     ]
    },
    {
     "name": "stdout",
     "output_type": "stream",
     "text": [
      "year 2051...\n"
     ]
    },
    {
     "name": "stderr",
     "output_type": "stream",
     "text": [
      "100%|██████████| 12/12 [00:32<00:00,  2.67s/it]\n"
     ]
    },
    {
     "name": "stdout",
     "output_type": "stream",
     "text": [
      "year 2052...\n"
     ]
    },
    {
     "name": "stderr",
     "output_type": "stream",
     "text": [
      "100%|██████████| 12/12 [00:30<00:00,  2.57s/it]\n"
     ]
    },
    {
     "name": "stdout",
     "output_type": "stream",
     "text": [
      "year 2053...\n"
     ]
    },
    {
     "name": "stderr",
     "output_type": "stream",
     "text": [
      "100%|██████████| 12/12 [00:28<00:00,  2.41s/it]\n"
     ]
    },
    {
     "name": "stdout",
     "output_type": "stream",
     "text": [
      "year 2054...\n"
     ]
    },
    {
     "name": "stderr",
     "output_type": "stream",
     "text": [
      "100%|██████████| 12/12 [00:31<00:00,  2.60s/it]\n"
     ]
    },
    {
     "name": "stdout",
     "output_type": "stream",
     "text": [
      "year 2055...\n"
     ]
    },
    {
     "name": "stderr",
     "output_type": "stream",
     "text": [
      "100%|██████████| 12/12 [00:30<00:00,  2.52s/it]\n"
     ]
    },
    {
     "name": "stdout",
     "output_type": "stream",
     "text": [
      "year 2056...\n"
     ]
    },
    {
     "name": "stderr",
     "output_type": "stream",
     "text": [
      "100%|██████████| 12/12 [00:31<00:00,  2.63s/it]\n"
     ]
    },
    {
     "name": "stdout",
     "output_type": "stream",
     "text": [
      "year 2057...\n"
     ]
    },
    {
     "name": "stderr",
     "output_type": "stream",
     "text": [
      "100%|██████████| 12/12 [00:29<00:00,  2.47s/it]\n"
     ]
    },
    {
     "name": "stdout",
     "output_type": "stream",
     "text": [
      "year 2058...\n"
     ]
    },
    {
     "name": "stderr",
     "output_type": "stream",
     "text": [
      "100%|██████████| 12/12 [00:28<00:00,  2.36s/it]\n"
     ]
    },
    {
     "name": "stdout",
     "output_type": "stream",
     "text": [
      "year 2059...\n"
     ]
    },
    {
     "name": "stderr",
     "output_type": "stream",
     "text": [
      "100%|██████████| 12/12 [00:29<00:00,  2.50s/it]\n"
     ]
    },
    {
     "name": "stdout",
     "output_type": "stream",
     "text": [
      "year 2060...\n"
     ]
    },
    {
     "name": "stderr",
     "output_type": "stream",
     "text": [
      "100%|██████████| 12/12 [00:29<00:00,  2.49s/it]\n"
     ]
    },
    {
     "name": "stdout",
     "output_type": "stream",
     "text": [
      "year 2061...\n"
     ]
    },
    {
     "name": "stderr",
     "output_type": "stream",
     "text": [
      "100%|██████████| 12/12 [00:29<00:00,  2.48s/it]\n"
     ]
    },
    {
     "name": "stdout",
     "output_type": "stream",
     "text": [
      "year 2062...\n"
     ]
    },
    {
     "name": "stderr",
     "output_type": "stream",
     "text": [
      "100%|██████████| 12/12 [00:29<00:00,  2.45s/it]\n"
     ]
    },
    {
     "name": "stdout",
     "output_type": "stream",
     "text": [
      "year 2063...\n"
     ]
    },
    {
     "name": "stderr",
     "output_type": "stream",
     "text": [
      "100%|██████████| 12/12 [00:29<00:00,  2.45s/it]\n"
     ]
    },
    {
     "name": "stdout",
     "output_type": "stream",
     "text": [
      "year 2064...\n"
     ]
    },
    {
     "name": "stderr",
     "output_type": "stream",
     "text": [
      "100%|██████████| 12/12 [00:31<00:00,  2.59s/it]\n"
     ]
    },
    {
     "name": "stdout",
     "output_type": "stream",
     "text": [
      "year 2065...\n"
     ]
    },
    {
     "name": "stderr",
     "output_type": "stream",
     "text": [
      "100%|██████████| 12/12 [00:29<00:00,  2.43s/it]\n"
     ]
    },
    {
     "name": "stdout",
     "output_type": "stream",
     "text": [
      "year 2066...\n"
     ]
    },
    {
     "name": "stderr",
     "output_type": "stream",
     "text": [
      "100%|██████████| 12/12 [00:27<00:00,  2.28s/it]\n"
     ]
    },
    {
     "name": "stdout",
     "output_type": "stream",
     "text": [
      "year 2067...\n"
     ]
    },
    {
     "name": "stderr",
     "output_type": "stream",
     "text": [
      "100%|██████████| 12/12 [00:30<00:00,  2.51s/it]\n"
     ]
    },
    {
     "name": "stdout",
     "output_type": "stream",
     "text": [
      "year 2068...\n"
     ]
    },
    {
     "name": "stderr",
     "output_type": "stream",
     "text": [
      "100%|██████████| 12/12 [00:29<00:00,  2.49s/it]\n"
     ]
    },
    {
     "name": "stdout",
     "output_type": "stream",
     "text": [
      "year 2069...\n"
     ]
    },
    {
     "name": "stderr",
     "output_type": "stream",
     "text": [
      "100%|██████████| 12/12 [00:30<00:00,  2.51s/it]\n"
     ]
    },
    {
     "name": "stdout",
     "output_type": "stream",
     "text": [
      "year 2070...\n"
     ]
    },
    {
     "name": "stderr",
     "output_type": "stream",
     "text": [
      "100%|██████████| 12/12 [00:30<00:00,  2.54s/it]\n"
     ]
    },
    {
     "name": "stdout",
     "output_type": "stream",
     "text": [
      "year 2071...\n"
     ]
    },
    {
     "name": "stderr",
     "output_type": "stream",
     "text": [
      "100%|██████████| 12/12 [00:31<00:00,  2.66s/it]\n"
     ]
    },
    {
     "name": "stdout",
     "output_type": "stream",
     "text": [
      "year 2072...\n"
     ]
    },
    {
     "name": "stderr",
     "output_type": "stream",
     "text": [
      "100%|██████████| 12/12 [00:32<00:00,  2.73s/it]\n"
     ]
    },
    {
     "name": "stdout",
     "output_type": "stream",
     "text": [
      "year 2073...\n"
     ]
    },
    {
     "name": "stderr",
     "output_type": "stream",
     "text": [
      "100%|██████████| 12/12 [00:33<00:00,  2.79s/it]\n"
     ]
    },
    {
     "name": "stdout",
     "output_type": "stream",
     "text": [
      "year 2074...\n"
     ]
    },
    {
     "name": "stderr",
     "output_type": "stream",
     "text": [
      "100%|██████████| 12/12 [00:32<00:00,  2.72s/it]\n"
     ]
    },
    {
     "name": "stdout",
     "output_type": "stream",
     "text": [
      "year 2075...\n"
     ]
    },
    {
     "name": "stderr",
     "output_type": "stream",
     "text": [
      "100%|██████████| 12/12 [00:32<00:00,  2.73s/it]\n"
     ]
    },
    {
     "name": "stdout",
     "output_type": "stream",
     "text": [
      "year 2076...\n"
     ]
    },
    {
     "name": "stderr",
     "output_type": "stream",
     "text": [
      "100%|██████████| 12/12 [00:33<00:00,  2.81s/it]\n"
     ]
    },
    {
     "name": "stdout",
     "output_type": "stream",
     "text": [
      "year 2077...\n"
     ]
    },
    {
     "name": "stderr",
     "output_type": "stream",
     "text": [
      "100%|██████████| 12/12 [00:36<00:00,  3.01s/it]\n"
     ]
    },
    {
     "name": "stdout",
     "output_type": "stream",
     "text": [
      "year 2078...\n"
     ]
    },
    {
     "name": "stderr",
     "output_type": "stream",
     "text": [
      "100%|██████████| 12/12 [00:34<00:00,  2.88s/it]\n"
     ]
    },
    {
     "name": "stdout",
     "output_type": "stream",
     "text": [
      "year 2079...\n"
     ]
    },
    {
     "name": "stderr",
     "output_type": "stream",
     "text": [
      "100%|██████████| 12/12 [00:33<00:00,  2.80s/it]\n"
     ]
    },
    {
     "name": "stdout",
     "output_type": "stream",
     "text": [
      "year 2080...\n"
     ]
    },
    {
     "name": "stderr",
     "output_type": "stream",
     "text": [
      "100%|██████████| 12/12 [00:33<00:00,  2.78s/it]\n"
     ]
    },
    {
     "name": "stdout",
     "output_type": "stream",
     "text": [
      "year 2081...\n"
     ]
    },
    {
     "name": "stderr",
     "output_type": "stream",
     "text": [
      "100%|██████████| 12/12 [00:31<00:00,  2.63s/it]\n"
     ]
    },
    {
     "name": "stdout",
     "output_type": "stream",
     "text": [
      "year 2082...\n"
     ]
    },
    {
     "name": "stderr",
     "output_type": "stream",
     "text": [
      "100%|██████████| 12/12 [00:30<00:00,  2.53s/it]\n"
     ]
    },
    {
     "name": "stdout",
     "output_type": "stream",
     "text": [
      "year 2083...\n"
     ]
    },
    {
     "name": "stderr",
     "output_type": "stream",
     "text": [
      "100%|██████████| 12/12 [00:28<00:00,  2.35s/it]\n"
     ]
    },
    {
     "name": "stdout",
     "output_type": "stream",
     "text": [
      "year 2084...\n"
     ]
    },
    {
     "name": "stderr",
     "output_type": "stream",
     "text": [
      "100%|██████████| 12/12 [00:28<00:00,  2.39s/it]\n"
     ]
    },
    {
     "name": "stdout",
     "output_type": "stream",
     "text": [
      "year 2085...\n"
     ]
    },
    {
     "name": "stderr",
     "output_type": "stream",
     "text": [
      "100%|██████████| 12/12 [00:26<00:00,  2.20s/it]\n"
     ]
    },
    {
     "name": "stdout",
     "output_type": "stream",
     "text": [
      "year 2086...\n"
     ]
    },
    {
     "name": "stderr",
     "output_type": "stream",
     "text": [
      "100%|██████████| 12/12 [00:26<00:00,  2.19s/it]\n"
     ]
    },
    {
     "name": "stdout",
     "output_type": "stream",
     "text": [
      "year 2087...\n"
     ]
    },
    {
     "name": "stderr",
     "output_type": "stream",
     "text": [
      "100%|██████████| 12/12 [00:28<00:00,  2.34s/it]\n"
     ]
    },
    {
     "name": "stdout",
     "output_type": "stream",
     "text": [
      "year 2088...\n"
     ]
    },
    {
     "name": "stderr",
     "output_type": "stream",
     "text": [
      "100%|██████████| 12/12 [00:28<00:00,  2.35s/it]\n"
     ]
    },
    {
     "name": "stdout",
     "output_type": "stream",
     "text": [
      "year 2089...\n"
     ]
    },
    {
     "name": "stderr",
     "output_type": "stream",
     "text": [
      "100%|██████████| 12/12 [00:26<00:00,  2.18s/it]\n"
     ]
    },
    {
     "name": "stdout",
     "output_type": "stream",
     "text": [
      "year 2090...\n"
     ]
    },
    {
     "name": "stderr",
     "output_type": "stream",
     "text": [
      "100%|██████████| 12/12 [00:30<00:00,  2.52s/it]\n"
     ]
    },
    {
     "name": "stdout",
     "output_type": "stream",
     "text": [
      "year 2091...\n"
     ]
    },
    {
     "name": "stderr",
     "output_type": "stream",
     "text": [
      "100%|██████████| 12/12 [00:29<00:00,  2.45s/it]\n"
     ]
    },
    {
     "name": "stdout",
     "output_type": "stream",
     "text": [
      "year 2092...\n"
     ]
    },
    {
     "name": "stderr",
     "output_type": "stream",
     "text": [
      "100%|██████████| 12/12 [00:26<00:00,  2.17s/it]\n"
     ]
    },
    {
     "name": "stdout",
     "output_type": "stream",
     "text": [
      "year 2093...\n"
     ]
    },
    {
     "name": "stderr",
     "output_type": "stream",
     "text": [
      "100%|██████████| 12/12 [00:27<00:00,  2.28s/it]\n"
     ]
    },
    {
     "name": "stdout",
     "output_type": "stream",
     "text": [
      "year 2094...\n"
     ]
    },
    {
     "name": "stderr",
     "output_type": "stream",
     "text": [
      "100%|██████████| 12/12 [00:23<00:00,  1.92s/it]\n"
     ]
    },
    {
     "name": "stdout",
     "output_type": "stream",
     "text": [
      "year 2095...\n"
     ]
    },
    {
     "name": "stderr",
     "output_type": "stream",
     "text": [
      "100%|██████████| 12/12 [00:25<00:00,  2.09s/it]\n"
     ]
    },
    {
     "name": "stdout",
     "output_type": "stream",
     "text": [
      "year 2096...\n"
     ]
    },
    {
     "name": "stderr",
     "output_type": "stream",
     "text": [
      "100%|██████████| 12/12 [00:34<00:00,  2.84s/it]\n"
     ]
    },
    {
     "name": "stdout",
     "output_type": "stream",
     "text": [
      "year 2097...\n"
     ]
    },
    {
     "name": "stderr",
     "output_type": "stream",
     "text": [
      "100%|██████████| 12/12 [00:30<00:00,  2.52s/it]\n"
     ]
    },
    {
     "name": "stdout",
     "output_type": "stream",
     "text": [
      "year 2098...\n"
     ]
    },
    {
     "name": "stderr",
     "output_type": "stream",
     "text": [
      "100%|██████████| 12/12 [00:28<00:00,  2.40s/it]\n"
     ]
    },
    {
     "name": "stdout",
     "output_type": "stream",
     "text": [
      "year 2099...\n"
     ]
    },
    {
     "name": "stderr",
     "output_type": "stream",
     "text": [
      "100%|██████████| 12/12 [00:30<00:00,  2.55s/it]\n"
     ]
    },
    {
     "name": "stdout",
     "output_type": "stream",
     "text": [
      "year 2100...\n"
     ]
    },
    {
     "name": "stderr",
     "output_type": "stream",
     "text": [
      "100%|██████████| 12/12 [00:27<00:00,  2.32s/it]\n"
     ]
    },
    {
     "name": "stdout",
     "output_type": "stream",
     "text": [
      "done\n"
     ]
    }
   ],
   "source": [
    "#----\n",
    "# loop over simulations and years\n",
    "#----\n",
    "from tqdm import tqdm\n",
    "\n",
    "#indSO = np.where((mesh.y2<-60.0) & (topo<2000.0) & (cavities==0))[0]\n",
    "#print ('Number of nodes:',indSO.shape)\n",
    "\n",
    "which_sim = 'simAssp585'\n",
    "path1 = '/pscratch/sd/c/cnissen/carbonate_chemistry_3D_v2/'+which_sim+'/' \n",
    "\n",
    "if which_sim in ['simAssp126','simAssp245','simAssp370','simCssp245']:\n",
    "    year_list1 = np.arange(2015,2100+1,1) \n",
    "elif which_sim in ['simAssp585','simB','simCssp585']:\n",
    "    year_list1 = np.arange(1990,2100+1,1) \n",
    "    \n",
    "print(year_list1)\n",
    "\n",
    "# depth levels to avg over\n",
    "ind1 = np.where(depths2000<=100)[0]\n",
    "ind2 = np.where((depths2000>100) & (depths2000<=500))[0]\n",
    "ind3 = np.where((depths2000>500))[0]\n",
    "\n",
    "ind4 = np.where(depths2000<=10)[0]\n",
    "ind5 = np.where(depths2000<=20)[0]\n",
    "ind6 = np.where(depths2000<=50)[0]\n",
    "\n",
    "ind7 = np.where((depths2000>0) & (depths2000<=10))[0]\n",
    "ind8 = np.where((depths2000>10) & (depths2000<=100))[0]\n",
    "\n",
    "ind9 = np.where((depths2000<=2000))[0]\n",
    "\n",
    "ind10 = np.where(depths2000<=200)[0]\n",
    "\n",
    "process_top100    = True\n",
    "process_100_500   = True\n",
    "process_below500  = True\n",
    "\n",
    "process_top10     = True\n",
    "process_top20     = True\n",
    "process_top50     = True\n",
    "\n",
    "process_0_10      = True\n",
    "process_10_100    = True\n",
    "\n",
    "process_above2000 = True\n",
    "process_top200    = True\n",
    "\n",
    "process_water_column = True\n",
    "process_surface      = True\n",
    "\n",
    "#---\n",
    "# Make sure to define the correct variable list!!\n",
    "# currently still hard-coded\n",
    "#---\n",
    "vari_list = ['omegaA_avg_srf','omegaA_avg_top10','omegaA_avg_top20','omegaA_avg_top50',\\\n",
    "                         'omegaA_avg_top100','omegaA_avg_100_500','omegaA_avg_below500','omegaA_avg_water_column',\\\n",
    "                         'omegaA_avg_0_10','omegaA_avg_10_100','omegaA_avg_above2000',\\\n",
    "                         #\n",
    "                        'omegaC_avg_srf','omegaC_avg_top10','omegaC_avg_top20','omegaC_avg_top50',\\\n",
    "                         'omegaC_avg_top100','omegaC_avg_100_500','omegaC_avg_below500','omegaC_avg_water_column',\\\n",
    "                         'omegaC_avg_0_10','omegaC_avg_10_100','omegaC_avg_above2000',\\\n",
    "                         #\n",
    "                        'pH_avg_srf','pH_avg_top10','pH_avg_top20','pH_avg_top50',\\\n",
    "                         'pH_avg_top100','pH_avg_100_500','pH_avg_below500','pH_avg_water_column',\\\n",
    "                         'pH_avg_0_10','pH_avg_10_100','pH_avg_above2000',\\\n",
    "                         #\n",
    "                        'omegaA_vol_below1_srf','omegaA_vol_below1_top10','omegaA_vol_below1_top20',\\\n",
    "                         'omegaA_vol_below1_top50','omegaA_vol_below1_top100','omegaA_vol_below1_100_500',\\\n",
    "                         'omegaA_vol_below1_below500','omegaA_vol_below1_water_column',\\\n",
    "                         'omegaA_vol_below1_0_10','omegaA_vol_below1_10_100','omegaA_vol_below1_above2000',\\\n",
    "                         #\n",
    "                        'omegaC_vol_below1_srf','omegaC_vol_below1_top10','omegaC_vol_below1_top20',\\\n",
    "                         'omegaC_vol_below1_top50','omegaC_vol_below1_top100','omegaC_vol_below1_100_500',\\\n",
    "                         'omegaC_vol_below1_below500','omegaC_vol_below1_water_column',\\\n",
    "                         'omegaC_vol_below1_0_10','omegaC_vol_below1_10_100','omegaC_vol_below1_above2000',\\\n",
    "                        #\n",
    "                        'omegaA_vol_below05_srf','omegaA_vol_below05_top10','omegaA_vol_below05_top20',\\\n",
    "                         'omegaA_vol_below05_top50','omegaA_vol_below05_top100','omegaA_vol_below05_100_500',\\\n",
    "                         'omegaA_vol_below05_below500','omegaA_vol_below05_water_column',\\\n",
    "                         'omegaA_vol_below05_0_10','omegaA_vol_below05_10_100','omegaA_vol_below05_above2000',\\\n",
    "                         #\n",
    "                        'omegaC_vol_below05_srf','omegaC_vol_below05_top10','omegaC_vol_below05_top20',\\\n",
    "                         'omegaC_vol_below05_top50','omegaC_vol_below05_top100','omegaC_vol_below05_100_500',\\\n",
    "                         'omegaC_vol_below05_below500','omegaC_vol_below05_water_column',\\\n",
    "                         'omegaC_vol_below05_0_10','omegaC_vol_below05_10_100','omegaC_vol_below05_above2000',\\\n",
    "                        #\n",
    "                        'omegaA_vol_below15_srf','omegaA_vol_below15_top10','omegaA_vol_below15_top20',\\\n",
    "                         'omegaA_vol_below15_top50','omegaA_vol_below15_top100','omegaA_vol_below15_100_500',\\\n",
    "                         'omegaA_vol_below15_below500','omegaA_vol_below15_water_column',\\\n",
    "                         'omegaA_vol_below15_0_10','omegaA_vol_below15_10_100','omegaA_vol_below15_above2000',\\\n",
    "                         #\n",
    "                        'omegaC_vol_below15_srf','omegaC_vol_below15_top10','omegaC_vol_below15_top20',\\\n",
    "                         'omegaC_vol_below15_top50','omegaC_vol_below15_top100','omegaC_vol_below15_100_500',\\\n",
    "                         'omegaC_vol_below15_below500','omegaC_vol_below15_water_column',\\\n",
    "                         'omegaC_vol_below15_0_10','omegaC_vol_below15_10_100','omegaC_vol_below15_above2000',\\\n",
    "                        #\n",
    "                        'omegaA_vol_above15_srf','omegaA_vol_above15_top10','omegaA_vol_above15_top20',\\\n",
    "                         'omegaA_vol_above15_top50','omegaA_vol_above15_top100','omegaA_vol_above15_100_500',\\\n",
    "                         'omegaA_vol_above15_below500','omegaA_vol_above15_water_column',\\\n",
    "                         'omegaA_vol_above15_0_10','omegaA_vol_above15_10_100','omegaA_vol_above15_above2000',\\\n",
    "                         #\n",
    "                        'omegaC_vol_above15_srf','omegaC_vol_above15_top10','omegaC_vol_above15_top20',\\\n",
    "                         'omegaC_vol_above15_top50','omegaC_vol_above15_top100','omegaC_vol_above15_100_500',\\\n",
    "                         'omegaC_vol_above15_below500','omegaC_vol_above15_water_column',\\\n",
    "                        'omegaC_vol_above15_0_10','omegaC_vol_above15_10_100','omegaC_vol_above15_above2000',\\\n",
    "                        #\n",
    "                        'omegaA_vol_above2_srf','omegaA_vol_above2_top10','omegaA_vol_above2_top20',\\\n",
    "                         'omegaA_vol_above2_top50','omegaA_vol_above2_top100','omegaA_vol_above2_100_500',\\\n",
    "                         'omegaA_vol_above2_below500','omegaA_vol_above2_water_column',\\\n",
    "                         'omegaA_vol_above2_0_10','omegaA_vol_above2_10_100','omegaA_vol_above2_above2000',\\\n",
    "                         #\n",
    "                        'omegaC_vol_above2_srf','omegaC_vol_above2_top10','omegaC_vol_above2_top20',\\\n",
    "                         'omegaC_vol_above2_top50','omegaC_vol_above2_top100','omegaC_vol_above2_100_500',\\\n",
    "                         'omegaC_vol_above2_below500','omegaC_vol_above2_water_column',\\\n",
    "                        'omegaC_vol_above2_0_10','omegaC_vol_above2_10_100','omegaC_vol_above2_above2000',\\\n",
    "                    #\n",
    "             #'omegaA_avg_above2000',\\\n",
    "             #            'omegaC_avg_above2000',\\\n",
    "             #            'pH_avg_above2000',\\\n",
    "             #            'omegaA_vol_below1_above2000',\\\n",
    "             #            'omegaC_vol_below1_above2000',\\\n",
    "             #           'omegaA_vol_below05_above2000',\\\n",
    "             #            'omegaC_vol_below05_above2000',\\\n",
    "             #           'omegaA_vol_below15_above2000',\\\n",
    "             #           'omegaC_vol_below15_above2000',\\\n",
    "             #           'omegaA_vol_above15_above2000',\\\n",
    "             #            'omegaC_vol_above15_above2000',\\\n",
    "             #           'omegaA_vol_above2_above2000',\\\n",
    "             #            'omegaC_vol_above2_above2000',\\\n",
    "             #\n",
    "             'omegaA_avg_top200',\\\n",
    "                         'omegaC_avg_top200',\\\n",
    "                         'pH_avg_top200',\\\n",
    "                         'omegaA_vol_below1_top200',\\\n",
    "                         'omegaC_vol_below1_top200',\\\n",
    "                        'omegaA_vol_below05_top200',\\\n",
    "                         'omegaC_vol_below05_top200',\\\n",
    "                        'omegaA_vol_below15_top200',\\\n",
    "                        'omegaC_vol_below15_top200',\\\n",
    "                        'omegaA_vol_above15_top200',\\\n",
    "                         'omegaC_vol_above15_top200',\\\n",
    "                        'omegaA_vol_above2_top200',\\\n",
    "                         'omegaC_vol_above2_top200']\n",
    "\n",
    "if process_water_column:\n",
    "    # full water column\n",
    "    omegaA_avg_shelf1 = np.zeros([12,len(year_list1),len(subregions)])\n",
    "    omegaC_avg_shelf1 = np.zeros([12,len(year_list1),len(subregions)])\n",
    "    pH_avg_shelf1     = np.zeros([12,len(year_list1),len(subregions)])\n",
    "    omegaA_vol_underst1 = np.zeros([12,len(year_list1),len(subregions)])\n",
    "    omegaC_vol_underst1 = np.zeros([12,len(year_list1),len(subregions)])\n",
    "    omegaA_vol_underst1_05 = np.zeros([12,len(year_list1),len(subregions)])\n",
    "    omegaC_vol_underst1_05 = np.zeros([12,len(year_list1),len(subregions)])\n",
    "    omegaA_vol_underst1_15 = np.zeros([12,len(year_list1),len(subregions)])\n",
    "    omegaC_vol_underst1_15 = np.zeros([12,len(year_list1),len(subregions)])\n",
    "    omegaA_vol_underst1_gt15 = np.zeros([12,len(year_list1),len(subregions)])\n",
    "    omegaC_vol_underst1_gt15 = np.zeros([12,len(year_list1),len(subregions)])\n",
    "    omegaA_vol_underst1_gt2 = np.zeros([12,len(year_list1),len(subregions)])\n",
    "    omegaC_vol_underst1_gt2 = np.zeros([12,len(year_list1),len(subregions)])\n",
    "\n",
    "if process_surface:\n",
    "    # surface only\n",
    "    omegaA_avg_shelf_srf1 = np.zeros([12,len(year_list1),len(subregions)])\n",
    "    omegaC_avg_shelf_srf1 = np.zeros([12,len(year_list1),len(subregions)])\n",
    "    pH_avg_shelf_srf1     = np.zeros([12,len(year_list1),len(subregions)])\n",
    "    omegaA_vol_underst_srf1 = np.zeros([12,len(year_list1),len(subregions)])\n",
    "    omegaC_vol_underst_srf1 = np.zeros([12,len(year_list1),len(subregions)])\n",
    "    omegaA_vol_underst_srf1_05 = np.zeros([12,len(year_list1),len(subregions)])\n",
    "    omegaC_vol_underst_srf1_05 = np.zeros([12,len(year_list1),len(subregions)])\n",
    "    omegaA_vol_underst_srf1_15 = np.zeros([12,len(year_list1),len(subregions)])\n",
    "    omegaC_vol_underst_srf1_15 = np.zeros([12,len(year_list1),len(subregions)])\n",
    "    omegaA_vol_underst_srf1_gt15 = np.zeros([12,len(year_list1),len(subregions)])\n",
    "    omegaC_vol_underst_srf1_gt15 = np.zeros([12,len(year_list1),len(subregions)])\n",
    "    omegaA_vol_underst_srf1_gt2 = np.zeros([12,len(year_list1),len(subregions)])\n",
    "    omegaC_vol_underst_srf1_gt2 = np.zeros([12,len(year_list1),len(subregions)])\n",
    "\n",
    "if process_top10:\n",
    "    # top10 m\n",
    "    omegaA_avg_shelf_top10_1 = np.zeros([12,len(year_list1),len(subregions)])\n",
    "    omegaC_avg_shelf_top10_1 = np.zeros([12,len(year_list1),len(subregions)])\n",
    "    pH_avg_shelf_top10_1     = np.zeros([12,len(year_list1),len(subregions)])\n",
    "    omegaA_vol_underst_top10_1 = np.zeros([12,len(year_list1),len(subregions)])\n",
    "    omegaC_vol_underst_top10_1 = np.zeros([12,len(year_list1),len(subregions)])\n",
    "    omegaA_vol_underst_top10_1_05 = np.zeros([12,len(year_list1),len(subregions)])\n",
    "    omegaC_vol_underst_top10_1_05 = np.zeros([12,len(year_list1),len(subregions)])\n",
    "    omegaA_vol_underst_top10_1_15 = np.zeros([12,len(year_list1),len(subregions)])\n",
    "    omegaC_vol_underst_top10_1_15 = np.zeros([12,len(year_list1),len(subregions)])\n",
    "    omegaA_vol_underst_top10_1_gt15 = np.zeros([12,len(year_list1),len(subregions)])\n",
    "    omegaC_vol_underst_top10_1_gt15 = np.zeros([12,len(year_list1),len(subregions)])\n",
    "    omegaA_vol_underst_top10_1_gt2 = np.zeros([12,len(year_list1),len(subregions)])\n",
    "    omegaC_vol_underst_top10_1_gt2 = np.zeros([12,len(year_list1),len(subregions)])\n",
    "\n",
    "if process_top20:\n",
    "    # top20 m\n",
    "    omegaA_avg_shelf_top20_1 = np.zeros([12,len(year_list1),len(subregions)])\n",
    "    omegaC_avg_shelf_top20_1 = np.zeros([12,len(year_list1),len(subregions)])\n",
    "    pH_avg_shelf_top20_1     = np.zeros([12,len(year_list1),len(subregions)])\n",
    "    omegaA_vol_underst_top20_1 = np.zeros([12,len(year_list1),len(subregions)])\n",
    "    omegaC_vol_underst_top20_1 = np.zeros([12,len(year_list1),len(subregions)])\n",
    "    omegaA_vol_underst_top20_1_05 = np.zeros([12,len(year_list1),len(subregions)])\n",
    "    omegaC_vol_underst_top20_1_05 = np.zeros([12,len(year_list1),len(subregions)])\n",
    "    omegaA_vol_underst_top20_1_15 = np.zeros([12,len(year_list1),len(subregions)])\n",
    "    omegaC_vol_underst_top20_1_15 = np.zeros([12,len(year_list1),len(subregions)])\n",
    "    omegaA_vol_underst_top20_1_gt15 = np.zeros([12,len(year_list1),len(subregions)])\n",
    "    omegaC_vol_underst_top20_1_gt15 = np.zeros([12,len(year_list1),len(subregions)])\n",
    "    omegaA_vol_underst_top20_1_gt2 = np.zeros([12,len(year_list1),len(subregions)])\n",
    "    omegaC_vol_underst_top20_1_gt2 = np.zeros([12,len(year_list1),len(subregions)])\n",
    "    \n",
    "if process_top50:\n",
    "    # top50 m\n",
    "    omegaA_avg_shelf_top50_1 = np.zeros([12,len(year_list1),len(subregions)])\n",
    "    omegaC_avg_shelf_top50_1 = np.zeros([12,len(year_list1),len(subregions)])\n",
    "    pH_avg_shelf_top50_1     = np.zeros([12,len(year_list1),len(subregions)])\n",
    "    omegaA_vol_underst_top50_1 = np.zeros([12,len(year_list1),len(subregions)])\n",
    "    omegaC_vol_underst_top50_1 = np.zeros([12,len(year_list1),len(subregions)])\n",
    "    omegaA_vol_underst_top50_1_05 = np.zeros([12,len(year_list1),len(subregions)])\n",
    "    omegaC_vol_underst_top50_1_05 = np.zeros([12,len(year_list1),len(subregions)])\n",
    "    omegaA_vol_underst_top50_1_15 = np.zeros([12,len(year_list1),len(subregions)])\n",
    "    omegaC_vol_underst_top50_1_15 = np.zeros([12,len(year_list1),len(subregions)])\n",
    "    omegaA_vol_underst_top50_1_gt15 = np.zeros([12,len(year_list1),len(subregions)])\n",
    "    omegaC_vol_underst_top50_1_gt15 = np.zeros([12,len(year_list1),len(subregions)])\n",
    "    omegaA_vol_underst_top50_1_gt2 = np.zeros([12,len(year_list1),len(subregions)])\n",
    "    omegaC_vol_underst_top50_1_gt2 = np.zeros([12,len(year_list1),len(subregions)])\n",
    "    \n",
    "if process_top100: \n",
    "    # top100 m\n",
    "    omegaA_avg_shelf_top100_1 = np.zeros([12,len(year_list1),len(subregions)])\n",
    "    omegaC_avg_shelf_top100_1 = np.zeros([12,len(year_list1),len(subregions)])\n",
    "    pH_avg_shelf_top100_1     = np.zeros([12,len(year_list1),len(subregions)])\n",
    "    omegaA_vol_underst_top100_1 = np.zeros([12,len(year_list1),len(subregions)])\n",
    "    omegaC_vol_underst_top100_1 = np.zeros([12,len(year_list1),len(subregions)])\n",
    "    omegaA_vol_underst_top100_1_05 = np.zeros([12,len(year_list1),len(subregions)])\n",
    "    omegaC_vol_underst_top100_1_05 = np.zeros([12,len(year_list1),len(subregions)])\n",
    "    omegaA_vol_underst_top100_1_15 = np.zeros([12,len(year_list1),len(subregions)])\n",
    "    omegaC_vol_underst_top100_1_15 = np.zeros([12,len(year_list1),len(subregions)])\n",
    "    omegaA_vol_underst_top100_1_gt15 = np.zeros([12,len(year_list1),len(subregions)])\n",
    "    omegaC_vol_underst_top100_1_gt15 = np.zeros([12,len(year_list1),len(subregions)])\n",
    "    omegaA_vol_underst_top100_1_gt2 = np.zeros([12,len(year_list1),len(subregions)])\n",
    "    omegaC_vol_underst_top100_1_gt2 = np.zeros([12,len(year_list1),len(subregions)])\n",
    "    \n",
    "if process_top200: \n",
    "    # top100 m\n",
    "    omegaA_avg_shelf_top200_1 = np.zeros([12,len(year_list1),len(subregions)])\n",
    "    omegaC_avg_shelf_top200_1 = np.zeros([12,len(year_list1),len(subregions)])\n",
    "    pH_avg_shelf_top200_1     = np.zeros([12,len(year_list1),len(subregions)])\n",
    "    omegaA_vol_underst_top200_1 = np.zeros([12,len(year_list1),len(subregions)])\n",
    "    omegaC_vol_underst_top200_1 = np.zeros([12,len(year_list1),len(subregions)])\n",
    "    omegaA_vol_underst_top200_1_05 = np.zeros([12,len(year_list1),len(subregions)])\n",
    "    omegaC_vol_underst_top200_1_05 = np.zeros([12,len(year_list1),len(subregions)])\n",
    "    omegaA_vol_underst_top200_1_15 = np.zeros([12,len(year_list1),len(subregions)])\n",
    "    omegaC_vol_underst_top200_1_15 = np.zeros([12,len(year_list1),len(subregions)])\n",
    "    omegaA_vol_underst_top200_1_gt15 = np.zeros([12,len(year_list1),len(subregions)])\n",
    "    omegaC_vol_underst_top200_1_gt15 = np.zeros([12,len(year_list1),len(subregions)])\n",
    "    omegaA_vol_underst_top200_1_gt2 = np.zeros([12,len(year_list1),len(subregions)])\n",
    "    omegaC_vol_underst_top200_1_gt2 = np.zeros([12,len(year_list1),len(subregions)])\n",
    "    \n",
    "if process_0_10:\n",
    "    # 0-10m\n",
    "    omegaA_avg_shelf_0_10_1 = np.zeros([12,len(year_list1),len(subregions)])\n",
    "    omegaC_avg_shelf_0_10_1 = np.zeros([12,len(year_list1),len(subregions)])\n",
    "    pH_avg_shelf_0_10_1     = np.zeros([12,len(year_list1),len(subregions)])\n",
    "    omegaA_vol_underst_0_10_1 = np.zeros([12,len(year_list1),len(subregions)])\n",
    "    omegaC_vol_underst_0_10_1 = np.zeros([12,len(year_list1),len(subregions)])\n",
    "    omegaA_vol_underst_0_10_1_05 = np.zeros([12,len(year_list1),len(subregions)])\n",
    "    omegaC_vol_underst_0_10_1_05 = np.zeros([12,len(year_list1),len(subregions)])\n",
    "    omegaA_vol_underst_0_10_1_15 = np.zeros([12,len(year_list1),len(subregions)])\n",
    "    omegaC_vol_underst_0_10_1_15 = np.zeros([12,len(year_list1),len(subregions)])\n",
    "    omegaA_vol_underst_0_10_1_gt15 = np.zeros([12,len(year_list1),len(subregions)])\n",
    "    omegaC_vol_underst_0_10_1_gt15 = np.zeros([12,len(year_list1),len(subregions)])\n",
    "    omegaA_vol_underst_0_10_1_gt2 = np.zeros([12,len(year_list1),len(subregions)])\n",
    "    omegaC_vol_underst_0_10_1_gt2 = np.zeros([12,len(year_list1),len(subregions)])\n",
    "\n",
    "if process_10_100:\n",
    "    # 10-100m\n",
    "    omegaA_avg_shelf_10_100_1 = np.zeros([12,len(year_list1),len(subregions)])\n",
    "    omegaC_avg_shelf_10_100_1 = np.zeros([12,len(year_list1),len(subregions)])\n",
    "    pH_avg_shelf_10_100_1     = np.zeros([12,len(year_list1),len(subregions)])\n",
    "    omegaA_vol_underst_10_100_1 = np.zeros([12,len(year_list1),len(subregions)])\n",
    "    omegaC_vol_underst_10_100_1 = np.zeros([12,len(year_list1),len(subregions)])\n",
    "    omegaA_vol_underst_10_100_1_05 = np.zeros([12,len(year_list1),len(subregions)])\n",
    "    omegaC_vol_underst_10_100_1_05 = np.zeros([12,len(year_list1),len(subregions)])\n",
    "    omegaA_vol_underst_10_100_1_15 = np.zeros([12,len(year_list1),len(subregions)])\n",
    "    omegaC_vol_underst_10_100_1_15 = np.zeros([12,len(year_list1),len(subregions)])\n",
    "    omegaA_vol_underst_10_100_1_gt15 = np.zeros([12,len(year_list1),len(subregions)])\n",
    "    omegaC_vol_underst_10_100_1_gt15 = np.zeros([12,len(year_list1),len(subregions)])\n",
    "    omegaA_vol_underst_10_100_1_gt2 = np.zeros([12,len(year_list1),len(subregions)])\n",
    "    omegaC_vol_underst_10_100_1_gt2 = np.zeros([12,len(year_list1),len(subregions)])\n",
    "\n",
    "if process_100_500:\n",
    "    # 100-500m\n",
    "    omegaA_avg_shelf_100_500_1 = np.zeros([12,len(year_list1),len(subregions)])\n",
    "    omegaC_avg_shelf_100_500_1 = np.zeros([12,len(year_list1),len(subregions)])\n",
    "    pH_avg_shelf_100_500_1     = np.zeros([12,len(year_list1),len(subregions)])\n",
    "    omegaA_vol_underst_100_500_1 = np.zeros([12,len(year_list1),len(subregions)])\n",
    "    omegaC_vol_underst_100_500_1 = np.zeros([12,len(year_list1),len(subregions)])\n",
    "    omegaA_vol_underst_100_500_1_05 = np.zeros([12,len(year_list1),len(subregions)])\n",
    "    omegaC_vol_underst_100_500_1_05 = np.zeros([12,len(year_list1),len(subregions)])\n",
    "    omegaA_vol_underst_100_500_1_15 = np.zeros([12,len(year_list1),len(subregions)])\n",
    "    omegaC_vol_underst_100_500_1_15 = np.zeros([12,len(year_list1),len(subregions)])\n",
    "    omegaA_vol_underst_100_500_1_gt15 = np.zeros([12,len(year_list1),len(subregions)])\n",
    "    omegaC_vol_underst_100_500_1_gt15 = np.zeros([12,len(year_list1),len(subregions)])\n",
    "    omegaA_vol_underst_100_500_1_gt2 = np.zeros([12,len(year_list1),len(subregions)])\n",
    "    omegaC_vol_underst_100_500_1_gt2 = np.zeros([12,len(year_list1),len(subregions)])\n",
    "\n",
    "if process_below500:\n",
    "    # below 500m\n",
    "    omegaA_avg_shelf_below500_1 = np.zeros([12,len(year_list1),len(subregions)])\n",
    "    omegaC_avg_shelf_below500_1 = np.zeros([12,len(year_list1),len(subregions)])\n",
    "    pH_avg_shelf_below500_1     = np.zeros([12,len(year_list1),len(subregions)])\n",
    "    omegaA_vol_underst_below500_1 = np.zeros([12,len(year_list1),len(subregions)])\n",
    "    omegaC_vol_underst_below500_1 = np.zeros([12,len(year_list1),len(subregions)])\n",
    "    omegaA_vol_underst_below500_1_05 = np.zeros([12,len(year_list1),len(subregions)])\n",
    "    omegaC_vol_underst_below500_1_05 = np.zeros([12,len(year_list1),len(subregions)])\n",
    "    omegaA_vol_underst_below500_1_15 = np.zeros([12,len(year_list1),len(subregions)])\n",
    "    omegaC_vol_underst_below500_1_15 = np.zeros([12,len(year_list1),len(subregions)])\n",
    "    omegaA_vol_underst_below500_1_gt15 = np.zeros([12,len(year_list1),len(subregions)])\n",
    "    omegaC_vol_underst_below500_1_gt15 = np.zeros([12,len(year_list1),len(subregions)])\n",
    "    omegaA_vol_underst_below500_1_gt2 = np.zeros([12,len(year_list1),len(subregions)])\n",
    "    omegaC_vol_underst_below500_1_gt2 = np.zeros([12,len(year_list1),len(subregions)])\n",
    "\n",
    "if process_above2000:\n",
    "    # above 2000m \n",
    "    omegaA_avg_shelf_above2000_1 = np.zeros([12,len(year_list1),len(subregions)])\n",
    "    omegaC_avg_shelf_above2000_1 = np.zeros([12,len(year_list1),len(subregions)])\n",
    "    pH_avg_shelf_above2000_1     = np.zeros([12,len(year_list1),len(subregions)])\n",
    "    omegaA_vol_underst_above2000_1 = np.zeros([12,len(year_list1),len(subregions)])\n",
    "    omegaC_vol_underst_above2000_1 = np.zeros([12,len(year_list1),len(subregions)])\n",
    "    omegaA_vol_underst_above2000_1_05 = np.zeros([12,len(year_list1),len(subregions)])\n",
    "    omegaC_vol_underst_above2000_1_05 = np.zeros([12,len(year_list1),len(subregions)])\n",
    "    omegaA_vol_underst_above2000_1_15 = np.zeros([12,len(year_list1),len(subregions)])\n",
    "    omegaC_vol_underst_above2000_1_15 = np.zeros([12,len(year_list1),len(subregions)])\n",
    "    omegaA_vol_underst_above2000_1_gt15 = np.zeros([12,len(year_list1),len(subregions)])\n",
    "    omegaC_vol_underst_above2000_1_gt15 = np.zeros([12,len(year_list1),len(subregions)])\n",
    "    omegaA_vol_underst_above2000_1_gt2 = np.zeros([12,len(year_list1),len(subregions)])\n",
    "    omegaC_vol_underst_above2000_1_gt2 = np.zeros([12,len(year_list1),len(subregions)])\n",
    "\n",
    "# loop over years\n",
    "for yy in range(0,len(year_list1)):\n",
    "    print('year '+str(year_list1[yy])+'...')\n",
    "                \n",
    "    #runID = get_runID(which_sim,year_list[yy])\n",
    "\n",
    "    # open netcdf files\n",
    "    f1 = Dataset(path1+'OmegaA_fesom_'+str(year_list1[yy])+'0101.nc')\n",
    "    f2 = Dataset(path1+'OmegaC_fesom_'+str(year_list1[yy])+'0101.nc')\n",
    "    f3 = Dataset(path1+'pH_fesom_'+str(year_list1[yy])+'0101.nc') \n",
    "    \n",
    "    for mm in tqdm(range(0,12)):\n",
    "        #print ('Month '+str(mm+1)+'...')\n",
    "        \n",
    "        for rr in range(0,len(subregions)):\n",
    "            #print subregions[rr]\n",
    "            if subregions[rr] in ['all_shelves']:\n",
    "                ind_regions = np.where(shelf_ind>0)[0]\n",
    "            elif subregions[rr] in ['WeddellSea']:\n",
    "                ind_regions = np.where(weddell==1)[0]\n",
    "            elif subregions[rr] in ['eWeddellSea']:\n",
    "                ind_regions = np.where(eWeddell==1)[0]\n",
    "            elif subregions[rr] in ['Prydz']:\n",
    "                ind_regions = np.where(prydz==1)[0]\n",
    "            elif subregions[rr] in ['Adelie']:\n",
    "                ind_regions = np.where(adelie==1)[0]\n",
    "            elif subregions[rr] in ['RossSea']:\n",
    "                ind_regions = np.where(ross==1)[0]\n",
    "            elif subregions[rr] in ['Amundsen_Bellingshausen']:\n",
    "                ind_regions = np.where(amundsen==1)[0]\n",
    "            elif subregions[rr] in ['WAP']:\n",
    "                ind_regions = np.where(wap==1)[0]\n",
    "            \n",
    "            elif subregions[rr] in ['RossSea_MPA']:\n",
    "                ind_regions = np.where((mask_RossSea_MPA==1) & (cavities==0))[0]\n",
    "            elif subregions[rr] in ['RossSea_MPA_shelf']:\n",
    "                ind_regions = np.where((mask_RossSea_MPA==1) & (cavities==0) & (topo<=2000))[0]\n",
    "            elif subregions[rr] in ['RossSea_MPA_openOcean']:\n",
    "                ind_regions = np.where((mask_RossSea_MPA==1) & (cavities==0) & (topo>2000))[0]\n",
    "            elif subregions[rr] in ['WeddellSea_MPA']:\n",
    "                ind_regions = np.where((mask_WeddellSea_MPA==1) & (cavities==0))[0]\n",
    "            elif subregions[rr] in ['WeddellSea_MPA_shelf']:\n",
    "                ind_regions = np.where((mask_WeddellSea_MPA==1) & (cavities==0) & (topo<=2000))[0]\n",
    "            elif subregions[rr] in ['WeddellSea_MPA_openOcean']:\n",
    "                ind_regions = np.where((mask_WeddellSea_MPA==1) & (cavities==0) & (topo>2000))[0]\n",
    "            elif subregions[rr] in ['AntarcticPeninsula_MPA']:\n",
    "                ind_regions = np.where((mask_WAP_MPA==1) & (cavities==0))[0]\n",
    "            elif subregions[rr] in ['AntarcticPeninsula_MPA_shelf']:\n",
    "                ind_regions = np.where((mask_WAP_MPA==1) & (cavities==0) & (topo<=2000))[0]\n",
    "            elif subregions[rr] in ['AntarcticPeninsula_MPA_openOcean']:\n",
    "                ind_regions = np.where((mask_WAP_MPA==1) & (cavities==0) & (topo>2000))[0]\n",
    "            elif subregions[rr] in ['Orkney_MPA']:\n",
    "                ind_regions = np.where((mask_Orkney_MPA==1) & (cavities==0))[0]\n",
    "            elif subregions[rr] in ['Orkney_MPA_shelf']:\n",
    "                ind_regions = np.where((mask_Orkney_MPA==1) & (cavities==0) & (topo<=2000))[0]\n",
    "            elif subregions[rr] in ['Orkney_MPA_openOcean']:\n",
    "                ind_regions = np.where((mask_Orkney_MPA==1) & (cavities==0) & (topo>2000))[0]\n",
    "            elif subregions[rr] in ['East_Antarctica_1_MPA']:\n",
    "                ind_regions = np.where((mask_eastAA1_MPA==1) & (cavities==0))[0]\n",
    "            elif subregions[rr] in ['East_Antarctica_1_MPA_shelf']:\n",
    "                ind_regions = np.where((mask_eastAA1_MPA==1) & (cavities==0) & (topo<=2000))[0]\n",
    "            elif subregions[rr] in ['East_Antarctica_1_MPA_openOcean']:\n",
    "                ind_regions = np.where((mask_eastAA1_MPA==1) & (cavities==0) & (topo>2000))[0]\n",
    "            elif subregions[rr] in ['East_Antarctica_2_MPA']:\n",
    "                ind_regions = np.where((mask_eastAA2_MPA==1) & (cavities==0))[0]\n",
    "            elif subregions[rr] in ['East_Antarctica_2_MPA_shelf']:\n",
    "                ind_regions = np.where((mask_eastAA2_MPA==1) & (cavities==0) & (topo<=2000))[0]\n",
    "            elif subregions[rr] in ['East_Antarctica_2_MPA_openOcean']:\n",
    "                ind_regions = np.where((mask_eastAA2_MPA==1) & (cavities==0) & (topo>2000))[0]\n",
    "            elif subregions[rr] in ['East_Antarctica_3_MPA']:\n",
    "                ind_regions = np.where((mask_eastAA3_MPA==1) & (cavities==0))[0]\n",
    "            elif subregions[rr] in ['East_Antarctica_3_MPA_shelf']:\n",
    "                ind_regions = np.where((mask_eastAA3_MPA==1) & (cavities==0) & (topo<=2000))[0]\n",
    "            elif subregions[rr] in ['East_Antarctica_3_MPA_openOcean']:\n",
    "                ind_regions = np.where((mask_eastAA3_MPA==1) & (cavities==0) & (topo>2000))[0]\n",
    "            \n",
    "            elif subregions[rr] in ['East_Antarctica_all_MPA']:\n",
    "                ind_regions = np.where(((mask_eastAA1_MPA==1) | (mask_eastAA2_MPA==1) | (mask_eastAA3_MPA==1) ) & (cavities==0))[0]\n",
    "            elif subregions[rr] in ['East_Antarctica_all_MPA_shelf']:\n",
    "                ind_regions = np.where(((mask_eastAA1_MPA==1) | (mask_eastAA2_MPA==1) | (mask_eastAA3_MPA==1) ) & (cavities==0) & (topo<=2000))[0]\n",
    "            elif subregions[rr] in ['East_Antarctica_all_MPA_openOcean']:\n",
    "                ind_regions = np.where(((mask_eastAA1_MPA==1) | (mask_eastAA2_MPA==1) | (mask_eastAA3_MPA==1) ) & (cavities==0) & (topo>2000))[0]\n",
    "\n",
    "            #print(subregions[rr],ind_regions.shape)\n",
    "            \n",
    "            \n",
    "            if process_top10:\n",
    "                #----\n",
    "                # top10m\n",
    "                #----\n",
    "                omegaA = f1.variables['OmegaA'][mm,:,:]\n",
    "                omegaC = f2.variables['OmegaC'][mm,:,:]\n",
    "                pH     = f3.variables['pH'][mm,:,:]\n",
    "\n",
    "                omegaA = omegaA[ind4,:]\n",
    "                omegaC = omegaC[ind4,:]\n",
    "                pH = pH[ind4,:]\n",
    "                omegaA = omegaA[:,ind_regions].ravel()\n",
    "                omegaC = omegaC[:,ind_regions].ravel()\n",
    "                pH = pH[:,ind_regions].ravel()\n",
    "\n",
    "                # get avg over whole shelf area\n",
    "                #ind_av = omegaA.mask==False\n",
    "                ind_av = np.where(omegaA>0)[0]\n",
    "                vv = volume_2d[ind4,:]\n",
    "                vol = vv[:,ind_regions].ravel()[ind_av]\n",
    "                del vv\n",
    "                omegaA_avg_shelf_top10_1[mm,yy,rr] = np.sum(omegaA[ind_av]*vol/np.sum(vol))\n",
    "                omegaC_avg_shelf_top10_1[mm,yy,rr] = np.sum(omegaC[ind_av]*vol/np.sum(vol))\n",
    "                pH_avg_shelf_top10_1[mm,yy,rr]     = np.sum(pH[ind_av]*vol/np.sum(vol))\n",
    "\n",
    "                # get volume of undersaturated waters (omegaA & omegaC)\n",
    "                ind_low = np.where(omegaA[ind_av]<1)[0]\n",
    "                omegaA_vol_underst_top10_1[mm,yy,rr] = 100*np.sum(vol[ind_low])/np.sum(vol)\n",
    "                del ind_low\n",
    "                ind_low = np.where(omegaA[ind_av]<0.5)[0]\n",
    "                omegaA_vol_underst_top10_1_05[mm,yy,rr] = 100*np.sum(vol[ind_low])/np.sum(vol)\n",
    "                del ind_low\n",
    "                ind_low = np.where(omegaA[ind_av]<1.5)[0]\n",
    "                omegaA_vol_underst_top10_1_15[mm,yy,rr] = 100*np.sum(vol[ind_low])/np.sum(vol)\n",
    "                del ind_low\n",
    "                ind_low = np.where(omegaA[ind_av]>=1.5)[0]\n",
    "                omegaA_vol_underst_top10_1_gt15[mm,yy,rr] = 100*np.sum(vol[ind_low])/np.sum(vol)\n",
    "                del ind_low\n",
    "                ind_low = np.where(omegaA[ind_av]>=2)[0]\n",
    "                omegaA_vol_underst_top10_1_gt2[mm,yy,rr] = 100*np.sum(vol[ind_low])/np.sum(vol)\n",
    "                del ind_low\n",
    "\n",
    "                ind_low = np.where(omegaC[ind_av]<1)[0]\n",
    "                omegaC_vol_underst_top10_1[mm,yy,rr] = 100*np.sum(vol[ind_low])/np.sum(vol)\n",
    "                del ind_low\n",
    "                ind_low = np.where(omegaC[ind_av]<0.5)[0]\n",
    "                omegaC_vol_underst_top10_1_05[mm,yy,rr] = 100*np.sum(vol[ind_low])/np.sum(vol)\n",
    "                del ind_low\n",
    "                ind_low = np.where(omegaC[ind_av]<1.5)[0]\n",
    "                omegaC_vol_underst_top10_1_15[mm,yy,rr] = 100*np.sum(vol[ind_low])/np.sum(vol)\n",
    "                del ind_low\n",
    "                ind_low = np.where(omegaC[ind_av]>=1.5)[0]\n",
    "                omegaC_vol_underst_top10_1_gt15[mm,yy,rr] = 100*np.sum(vol[ind_low])/np.sum(vol)\n",
    "                del ind_low\n",
    "                ind_low = np.where(omegaC[ind_av]>=2)[0]\n",
    "                omegaC_vol_underst_top10_1_gt2[mm,yy,rr] = 100*np.sum(vol[ind_low])/np.sum(vol)\n",
    "                del ind_low\n",
    "\n",
    "\n",
    "                del ind_av,vol,omegaA,omegaC,pH\n",
    "            \n",
    "            if process_top20:\n",
    "                #----\n",
    "                # top20m\n",
    "                #----\n",
    "                omegaA = f1.variables['OmegaA'][mm,:,:]\n",
    "                omegaC = f2.variables['OmegaC'][mm,:,:]\n",
    "                pH     = f3.variables['pH'][mm,:,:]\n",
    "\n",
    "                omegaA = omegaA[ind5,:]\n",
    "                omegaC = omegaC[ind5,:]\n",
    "                pH = pH[ind5,:]\n",
    "                omegaA = omegaA[:,ind_regions].ravel()\n",
    "                omegaC = omegaC[:,ind_regions].ravel()\n",
    "                pH = pH[:,ind_regions].ravel()\n",
    "\n",
    "                # get avg over whole shelf area\n",
    "                #ind_av = omegaA.mask==False\n",
    "                ind_av = np.where(omegaA>0)[0]\n",
    "                vv = volume_2d[ind5,:]\n",
    "                vol = vv[:,ind_regions].ravel()[ind_av]\n",
    "                del vv\n",
    "                omegaA_avg_shelf_top20_1[mm,yy,rr] = np.sum(omegaA[ind_av]*vol/np.sum(vol))\n",
    "                omegaC_avg_shelf_top20_1[mm,yy,rr] = np.sum(omegaC[ind_av]*vol/np.sum(vol))\n",
    "                pH_avg_shelf_top20_1[mm,yy,rr]     = np.sum(pH[ind_av]*vol/np.sum(vol))\n",
    "\n",
    "                # get volume of undersaturated waters (omegaA & omegaC)\n",
    "                ind_low = np.where(omegaA[ind_av]<1)[0]\n",
    "                omegaA_vol_underst_top20_1[mm,yy,rr] = 100*np.sum(vol[ind_low])/np.sum(vol)\n",
    "                del ind_low\n",
    "                ind_low = np.where(omegaA[ind_av]<0.5)[0]\n",
    "                omegaA_vol_underst_top20_1_05[mm,yy,rr] = 100*np.sum(vol[ind_low])/np.sum(vol)\n",
    "                del ind_low\n",
    "                ind_low = np.where(omegaA[ind_av]<1.5)[0]\n",
    "                omegaA_vol_underst_top20_1_15[mm,yy,rr] = 100*np.sum(vol[ind_low])/np.sum(vol)\n",
    "                del ind_low\n",
    "                ind_low = np.where(omegaA[ind_av]>=1.5)[0]\n",
    "                omegaA_vol_underst_top20_1_gt15[mm,yy,rr] = 100*np.sum(vol[ind_low])/np.sum(vol)\n",
    "                del ind_low\n",
    "                ind_low = np.where(omegaA[ind_av]>=2)[0]\n",
    "                omegaA_vol_underst_top20_1_gt2[mm,yy,rr] = 100*np.sum(vol[ind_low])/np.sum(vol)\n",
    "                del ind_low\n",
    "\n",
    "                ind_low = np.where(omegaC[ind_av]<1)[0]\n",
    "                omegaC_vol_underst_top20_1[mm,yy,rr] = 100*np.sum(vol[ind_low])/np.sum(vol)\n",
    "                del ind_low\n",
    "                ind_low = np.where(omegaC[ind_av]<0.5)[0]\n",
    "                omegaC_vol_underst_top20_1_05[mm,yy,rr] = 100*np.sum(vol[ind_low])/np.sum(vol)\n",
    "                del ind_low\n",
    "                ind_low = np.where(omegaC[ind_av]<1.5)[0]\n",
    "                omegaC_vol_underst_top20_1_15[mm,yy,rr] = 100*np.sum(vol[ind_low])/np.sum(vol)\n",
    "                del ind_low\n",
    "                ind_low = np.where(omegaC[ind_av]>=1.5)[0]\n",
    "                omegaC_vol_underst_top20_1_gt15[mm,yy,rr] = 100*np.sum(vol[ind_low])/np.sum(vol)\n",
    "                del ind_low\n",
    "                ind_low = np.where(omegaC[ind_av]>=2)[0]\n",
    "                omegaC_vol_underst_top20_1_gt2[mm,yy,rr] = 100*np.sum(vol[ind_low])/np.sum(vol)\n",
    "                del ind_low\n",
    "\n",
    "                del ind_av,vol,omegaA,omegaC,pH\n",
    "\n",
    "            if process_top50:\n",
    "                #----\n",
    "                # top50m\n",
    "                #----\n",
    "                omegaA = f1.variables['OmegaA'][mm,:,:]\n",
    "                omegaC = f2.variables['OmegaC'][mm,:,:]\n",
    "                pH     = f3.variables['pH'][mm,:,:]\n",
    "\n",
    "                omegaA = omegaA[ind6,:]\n",
    "                omegaC = omegaC[ind6,:]\n",
    "                pH = pH[ind6,:]\n",
    "                omegaA = omegaA[:,ind_regions].ravel()\n",
    "                omegaC = omegaC[:,ind_regions].ravel()\n",
    "                pH = pH[:,ind_regions].ravel()\n",
    "\n",
    "                # get avg over whole shelf area\n",
    "                #ind_av = omegaA.mask==False\n",
    "                ind_av = np.where(omegaA>0)[0]\n",
    "                vv = volume_2d[ind6,:]\n",
    "                vol = vv[:,ind_regions].ravel()[ind_av]\n",
    "                del vv\n",
    "                omegaA_avg_shelf_top50_1[mm,yy,rr] = np.sum(omegaA[ind_av]*vol/np.sum(vol))\n",
    "                omegaC_avg_shelf_top50_1[mm,yy,rr] = np.sum(omegaC[ind_av]*vol/np.sum(vol))\n",
    "                pH_avg_shelf_top50_1[mm,yy,rr]     = np.sum(pH[ind_av]*vol/np.sum(vol))\n",
    "\n",
    "                # get volume of undersaturated waters (omegaA & omegaC)\n",
    "                ind_low = np.where(omegaA[ind_av]<1)[0]\n",
    "                omegaA_vol_underst_top50_1[mm,yy,rr] = 100*np.sum(vol[ind_low])/np.sum(vol)\n",
    "                del ind_low\n",
    "                ind_low = np.where(omegaA[ind_av]<0.5)[0]\n",
    "                omegaA_vol_underst_top50_1_05[mm,yy,rr] = 100*np.sum(vol[ind_low])/np.sum(vol)\n",
    "                del ind_low\n",
    "                ind_low = np.where(omegaA[ind_av]<1.5)[0]\n",
    "                omegaA_vol_underst_top50_1_15[mm,yy,rr] = 100*np.sum(vol[ind_low])/np.sum(vol)\n",
    "                del ind_low\n",
    "                ind_low = np.where(omegaA[ind_av]>=1.5)[0]\n",
    "                omegaA_vol_underst_top50_1_gt15[mm,yy,rr] = 100*np.sum(vol[ind_low])/np.sum(vol)\n",
    "                del ind_low\n",
    "                ind_low = np.where(omegaA[ind_av]>=2)[0]\n",
    "                omegaA_vol_underst_top50_1_gt2[mm,yy,rr] = 100*np.sum(vol[ind_low])/np.sum(vol)\n",
    "                del ind_low\n",
    "\n",
    "                ind_low = np.where(omegaC[ind_av]<1)[0]\n",
    "                omegaC_vol_underst_top50_1[mm,yy,rr] = 100*np.sum(vol[ind_low])/np.sum(vol)\n",
    "                del ind_low\n",
    "                ind_low = np.where(omegaC[ind_av]<0.5)[0]\n",
    "                omegaC_vol_underst_top50_1_05[mm,yy,rr] = 100*np.sum(vol[ind_low])/np.sum(vol)\n",
    "                del ind_low\n",
    "                ind_low = np.where(omegaC[ind_av]<1.5)[0]\n",
    "                omegaC_vol_underst_top50_1_15[mm,yy,rr] = 100*np.sum(vol[ind_low])/np.sum(vol)\n",
    "                del ind_low\n",
    "                ind_low = np.where(omegaC[ind_av]>=1.5)[0]\n",
    "                omegaC_vol_underst_top50_1_gt15[mm,yy,rr] = 100*np.sum(vol[ind_low])/np.sum(vol)\n",
    "                del ind_low\n",
    "                ind_low = np.where(omegaC[ind_av]>=2)[0]\n",
    "                omegaC_vol_underst_top50_1_gt2[mm,yy,rr] = 100*np.sum(vol[ind_low])/np.sum(vol)\n",
    "                del ind_low\n",
    "\n",
    "                del ind_av,vol,omegaA,omegaC,pH\n",
    "\n",
    "            if process_top100:\n",
    "                #----\n",
    "                # top100m\n",
    "                #----\n",
    "                omegaA = f1.variables['OmegaA'][mm,:,:]\n",
    "                omegaC = f2.variables['OmegaC'][mm,:,:]\n",
    "                pH     = f3.variables['pH'][mm,:,:]\n",
    "\n",
    "                omegaA = omegaA[ind1,:]\n",
    "                omegaC = omegaC[ind1,:]\n",
    "                pH = pH[ind1,:]\n",
    "                omegaA = omegaA[:,ind_regions].ravel()\n",
    "                omegaC = omegaC[:,ind_regions].ravel()\n",
    "                pH = pH[:,ind_regions].ravel()\n",
    "\n",
    "                # get avg over whole shelf area\n",
    "                #ind_av = omegaA.mask==False\n",
    "                ind_av = np.where(omegaA>0)[0]\n",
    "                vv = volume_2d[ind1,:]\n",
    "                vol = vv[:,ind_regions].ravel()[ind_av]\n",
    "                del vv\n",
    "                omegaA_avg_shelf_top100_1[mm,yy,rr] = np.sum(omegaA[ind_av]*vol/np.sum(vol))\n",
    "                omegaC_avg_shelf_top100_1[mm,yy,rr] = np.sum(omegaC[ind_av]*vol/np.sum(vol))\n",
    "                pH_avg_shelf_top100_1[mm,yy,rr]     = np.sum(pH[ind_av]*vol/np.sum(vol))\n",
    "\n",
    "                # get volume of undersaturated waters (omegaA & omegaC)\n",
    "                ind_low = np.where(omegaA[ind_av]<1)[0]\n",
    "                omegaA_vol_underst_top100_1[mm,yy,rr] = 100*np.sum(vol[ind_low])/np.sum(vol)\n",
    "                del ind_low\n",
    "                ind_low = np.where(omegaA[ind_av]<0.5)[0]\n",
    "                omegaA_vol_underst_top100_1_05[mm,yy,rr] = 100*np.sum(vol[ind_low])/np.sum(vol)\n",
    "                del ind_low\n",
    "                ind_low = np.where(omegaA[ind_av]<1.5)[0]\n",
    "                omegaA_vol_underst_top100_1_15[mm,yy,rr] = 100*np.sum(vol[ind_low])/np.sum(vol)\n",
    "                del ind_low\n",
    "                ind_low = np.where(omegaA[ind_av]>=1.5)[0]\n",
    "                omegaA_vol_underst_top100_1_gt15[mm,yy,rr] = 100*np.sum(vol[ind_low])/np.sum(vol)\n",
    "                del ind_low\n",
    "                ind_low = np.where(omegaA[ind_av]>=2)[0]\n",
    "                omegaA_vol_underst_top100_1_gt2[mm,yy,rr] = 100*np.sum(vol[ind_low])/np.sum(vol)\n",
    "                del ind_low\n",
    "\n",
    "\n",
    "                ind_low = np.where(omegaC[ind_av]<1)[0]\n",
    "                omegaC_vol_underst_top100_1[mm,yy,rr] = 100*np.sum(vol[ind_low])/np.sum(vol)\n",
    "                del ind_low\n",
    "                ind_low = np.where(omegaC[ind_av]<0.5)[0]\n",
    "                omegaC_vol_underst_top100_1_05[mm,yy,rr] = 100*np.sum(vol[ind_low])/np.sum(vol)\n",
    "                del ind_low\n",
    "                ind_low = np.where(omegaC[ind_av]<1.5)[0]\n",
    "                omegaC_vol_underst_top100_1_15[mm,yy,rr] = 100*np.sum(vol[ind_low])/np.sum(vol)\n",
    "                del ind_low\n",
    "                ind_low = np.where(omegaC[ind_av]>=1.5)[0]\n",
    "                omegaC_vol_underst_top100_1_gt15[mm,yy,rr] = 100*np.sum(vol[ind_low])/np.sum(vol)\n",
    "                del ind_low\n",
    "                ind_low = np.where(omegaC[ind_av]>=2)[0]\n",
    "                omegaC_vol_underst_top100_1_gt2[mm,yy,rr] = 100*np.sum(vol[ind_low])/np.sum(vol)\n",
    "                del ind_low\n",
    "\n",
    "                del ind_av,vol,omegaA,omegaC,pH\n",
    "\n",
    "                \n",
    "            if process_top200:\n",
    "                #----\n",
    "                # top200m\n",
    "                #----\n",
    "                omegaA = f1.variables['OmegaA'][mm,:,:]\n",
    "                omegaC = f2.variables['OmegaC'][mm,:,:]\n",
    "                pH     = f3.variables['pH'][mm,:,:]\n",
    "\n",
    "                omegaA = omegaA[ind10,:]\n",
    "                omegaC = omegaC[ind10,:]\n",
    "                pH = pH[ind10,:]\n",
    "                omegaA = omegaA[:,ind_regions].ravel()\n",
    "                omegaC = omegaC[:,ind_regions].ravel()\n",
    "                pH = pH[:,ind_regions].ravel()\n",
    "\n",
    "                # get avg over whole shelf area\n",
    "                #ind_av = omegaA.mask==False\n",
    "                ind_av = np.where(omegaA>0)[0]\n",
    "                vv = volume_2d[ind10,:]\n",
    "                vol = vv[:,ind_regions].ravel()[ind_av]\n",
    "                del vv\n",
    "                omegaA_avg_shelf_top200_1[mm,yy,rr] = np.sum(omegaA[ind_av]*vol/np.sum(vol))\n",
    "                omegaC_avg_shelf_top200_1[mm,yy,rr] = np.sum(omegaC[ind_av]*vol/np.sum(vol))\n",
    "                pH_avg_shelf_top200_1[mm,yy,rr]     = np.sum(pH[ind_av]*vol/np.sum(vol))\n",
    "\n",
    "                # get volume of undersaturated waters (omegaA & omegaC)\n",
    "                ind_low = np.where(omegaA[ind_av]<1)[0]\n",
    "                omegaA_vol_underst_top200_1[mm,yy,rr] = 100*np.sum(vol[ind_low])/np.sum(vol)\n",
    "                del ind_low\n",
    "                ind_low = np.where(omegaA[ind_av]<0.5)[0]\n",
    "                omegaA_vol_underst_top200_1_05[mm,yy,rr] = 100*np.sum(vol[ind_low])/np.sum(vol)\n",
    "                del ind_low\n",
    "                ind_low = np.where(omegaA[ind_av]<1.5)[0]\n",
    "                omegaA_vol_underst_top200_1_15[mm,yy,rr] = 100*np.sum(vol[ind_low])/np.sum(vol)\n",
    "                del ind_low\n",
    "                ind_low = np.where(omegaA[ind_av]>=1.5)[0]\n",
    "                omegaA_vol_underst_top200_1_gt15[mm,yy,rr] = 100*np.sum(vol[ind_low])/np.sum(vol)\n",
    "                del ind_low\n",
    "                ind_low = np.where(omegaA[ind_av]>=2)[0]\n",
    "                omegaA_vol_underst_top200_1_gt2[mm,yy,rr] = 100*np.sum(vol[ind_low])/np.sum(vol)\n",
    "                del ind_low\n",
    "\n",
    "\n",
    "                ind_low = np.where(omegaC[ind_av]<1)[0]\n",
    "                omegaC_vol_underst_top200_1[mm,yy,rr] = 100*np.sum(vol[ind_low])/np.sum(vol)\n",
    "                del ind_low\n",
    "                ind_low = np.where(omegaC[ind_av]<0.5)[0]\n",
    "                omegaC_vol_underst_top200_1_05[mm,yy,rr] = 100*np.sum(vol[ind_low])/np.sum(vol)\n",
    "                del ind_low\n",
    "                ind_low = np.where(omegaC[ind_av]<1.5)[0]\n",
    "                omegaC_vol_underst_top200_1_15[mm,yy,rr] = 100*np.sum(vol[ind_low])/np.sum(vol)\n",
    "                del ind_low\n",
    "                ind_low = np.where(omegaC[ind_av]>=1.5)[0]\n",
    "                omegaC_vol_underst_top200_1_gt15[mm,yy,rr] = 100*np.sum(vol[ind_low])/np.sum(vol)\n",
    "                del ind_low\n",
    "                ind_low = np.where(omegaC[ind_av]>=2)[0]\n",
    "                omegaC_vol_underst_top200_1_gt2[mm,yy,rr] = 100*np.sum(vol[ind_low])/np.sum(vol)\n",
    "                del ind_low\n",
    "\n",
    "                del ind_av,vol,omegaA,omegaC,pH\n",
    "                \n",
    "                \n",
    "            if process_100_500:\n",
    "                #----\n",
    "                # 100-500m\n",
    "                #----\n",
    "                omegaA = f1.variables['OmegaA'][mm,:,:]\n",
    "                omegaC = f2.variables['OmegaC'][mm,:,:]\n",
    "                pH     = f3.variables['pH'][mm,:,:]\n",
    "\n",
    "                omegaA = omegaA[ind2,:]\n",
    "                omegaC = omegaC[ind2,:]\n",
    "                pH = pH[ind2,:]\n",
    "                omegaA = omegaA[:,ind_regions].ravel()\n",
    "                omegaC = omegaC[:,ind_regions].ravel()\n",
    "                pH = pH[:,ind_regions].ravel()\n",
    "\n",
    "                # get avg over whole shelf area\n",
    "                ind_av = omegaA.mask==False\n",
    "                vv = volume_2d[ind2,:]\n",
    "                vol = vv[:,ind_regions].ravel()[ind_av]\n",
    "                del vv\n",
    "                omegaA_avg_shelf_100_500_1[mm,yy,rr] = np.sum(omegaA[ind_av]*vol/np.sum(vol))\n",
    "                omegaC_avg_shelf_100_500_1[mm,yy,rr] = np.sum(omegaC[ind_av]*vol/np.sum(vol))\n",
    "                pH_avg_shelf_100_500_1[mm,yy,rr]     = np.sum(pH[ind_av]*vol/np.sum(vol))\n",
    "\n",
    "                # get volume of undersaturated waters (omegaA & omegaC)\n",
    "                ind_low = np.where(omegaA[ind_av]<1)[0]\n",
    "                omegaA_vol_underst_100_500_1[mm,yy,rr] = 100*np.sum(vol[ind_low])/np.sum(vol)\n",
    "                del ind_low\n",
    "                ind_low = np.where(omegaA[ind_av]<0.5)[0]\n",
    "                omegaA_vol_underst_100_500_1_05[mm,yy,rr] = 100*np.sum(vol[ind_low])/np.sum(vol)\n",
    "                del ind_low\n",
    "                ind_low = np.where(omegaA[ind_av]<1.5)[0]\n",
    "                omegaA_vol_underst_100_500_1_15[mm,yy,rr] = 100*np.sum(vol[ind_low])/np.sum(vol)\n",
    "                del ind_low\n",
    "                ind_low = np.where(omegaA[ind_av]>=1.5)[0]\n",
    "                omegaA_vol_underst_100_500_1_gt15[mm,yy,rr] = 100*np.sum(vol[ind_low])/np.sum(vol)\n",
    "                del ind_low\n",
    "                ind_low = np.where(omegaA[ind_av]>=2)[0]\n",
    "                omegaA_vol_underst_100_500_1_gt2[mm,yy,rr] = 100*np.sum(vol[ind_low])/np.sum(vol)\n",
    "                del ind_low\n",
    "\n",
    "\n",
    "                ind_low = np.where(omegaC[ind_av]<1)[0]\n",
    "                omegaC_vol_underst_100_500_1[mm,yy,rr] = 100*np.sum(vol[ind_low])/np.sum(vol)\n",
    "                del ind_low\n",
    "                ind_low = np.where(omegaC[ind_av]<0.5)[0]\n",
    "                omegaC_vol_underst_100_500_1_05[mm,yy,rr] = 100*np.sum(vol[ind_low])/np.sum(vol)\n",
    "                del ind_low\n",
    "                ind_low = np.where(omegaC[ind_av]<1.5)[0]\n",
    "                omegaC_vol_underst_100_500_1_15[mm,yy,rr] = 100*np.sum(vol[ind_low])/np.sum(vol)\n",
    "                del ind_low\n",
    "                ind_low = np.where(omegaC[ind_av]>=1.5)[0]\n",
    "                omegaC_vol_underst_100_500_1_gt15[mm,yy,rr] = 100*np.sum(vol[ind_low])/np.sum(vol)\n",
    "                del ind_low\n",
    "                ind_low = np.where(omegaC[ind_av]>=2)[0]\n",
    "                omegaC_vol_underst_100_500_1_gt2[mm,yy,rr] = 100*np.sum(vol[ind_low])/np.sum(vol)\n",
    "                del ind_low\n",
    "\n",
    "                del ind_av,vol,omegaA,omegaC,pH\n",
    "\n",
    "            if process_0_10:\n",
    "                #----\n",
    "                # 0-10m\n",
    "                #----\n",
    "                omegaA = f1.variables['OmegaA'][mm,:,:]\n",
    "                omegaC = f2.variables['OmegaC'][mm,:,:]\n",
    "                pH     = f3.variables['pH'][mm,:,:]\n",
    "\n",
    "                omegaA = omegaA[ind7,:]\n",
    "                omegaC = omegaC[ind7,:]\n",
    "                pH = pH[ind7,:]\n",
    "                omegaA = omegaA[:,ind_regions].ravel()\n",
    "                omegaC = omegaC[:,ind_regions].ravel()\n",
    "                pH = pH[:,ind_regions].ravel()\n",
    "\n",
    "                # get avg over whole shelf area\n",
    "                ind_av = omegaA.mask==False\n",
    "                vv = volume_2d[ind7,:]\n",
    "                vol = vv[:,ind_regions].ravel()[ind_av]\n",
    "                del vv\n",
    "                omegaA_avg_shelf_0_10_1[mm,yy,rr] = np.sum(omegaA[ind_av]*vol/np.sum(vol))\n",
    "                omegaC_avg_shelf_0_10_1[mm,yy,rr] = np.sum(omegaC[ind_av]*vol/np.sum(vol))\n",
    "                pH_avg_shelf_0_10_1[mm,yy,rr]     = np.sum(pH[ind_av]*vol/np.sum(vol))\n",
    "\n",
    "                # get volume of undersaturated waters (omegaA & omegaC)\n",
    "                ind_low = np.where(omegaA[ind_av]<1)[0]\n",
    "                omegaA_vol_underst_0_10_1[mm,yy,rr] = 100*np.sum(vol[ind_low])/np.sum(vol)\n",
    "                del ind_low\n",
    "                ind_low = np.where(omegaA[ind_av]<0.5)[0]\n",
    "                omegaA_vol_underst_0_10_1_05[mm,yy,rr] = 100*np.sum(vol[ind_low])/np.sum(vol)\n",
    "                del ind_low\n",
    "                ind_low = np.where(omegaA[ind_av]<1.5)[0]\n",
    "                omegaA_vol_underst_0_10_1_15[mm,yy,rr] = 100*np.sum(vol[ind_low])/np.sum(vol)\n",
    "                del ind_low\n",
    "                ind_low = np.where(omegaA[ind_av]>=1.5)[0]\n",
    "                omegaA_vol_underst_0_10_1_gt15[mm,yy,rr] = 100*np.sum(vol[ind_low])/np.sum(vol)\n",
    "                del ind_low\n",
    "                ind_low = np.where(omegaA[ind_av]>=2)[0]\n",
    "                omegaA_vol_underst_0_10_1_gt2[mm,yy,rr] = 100*np.sum(vol[ind_low])/np.sum(vol)\n",
    "                del ind_low\n",
    "\n",
    "                ind_low = np.where(omegaC[ind_av]<1)[0]\n",
    "                omegaC_vol_underst_0_10_1[mm,yy,rr] = 100*np.sum(vol[ind_low])/np.sum(vol)\n",
    "                del ind_low\n",
    "                ind_low = np.where(omegaC[ind_av]<0.5)[0]\n",
    "                omegaC_vol_underst_0_10_1_05[mm,yy,rr] = 100*np.sum(vol[ind_low])/np.sum(vol)\n",
    "                del ind_low\n",
    "                ind_low = np.where(omegaC[ind_av]<1.5)[0]\n",
    "                omegaC_vol_underst_0_10_1_15[mm,yy,rr] = 100*np.sum(vol[ind_low])/np.sum(vol)\n",
    "                del ind_low\n",
    "                ind_low = np.where(omegaC[ind_av]>=1.5)[0]\n",
    "                omegaC_vol_underst_0_10_1_gt15[mm,yy,rr] = 100*np.sum(vol[ind_low])/np.sum(vol)\n",
    "                del ind_low\n",
    "                ind_low = np.where(omegaC[ind_av]>=2)[0]\n",
    "                omegaC_vol_underst_0_10_1_gt2[mm,yy,rr] = 100*np.sum(vol[ind_low])/np.sum(vol)\n",
    "                del ind_low\n",
    "\n",
    "                del ind_av,vol,omegaA,omegaC,pH\n",
    "\n",
    "            if process_10_100:\n",
    "                #----\n",
    "                # 10-100m\n",
    "                #----\n",
    "                omegaA = f1.variables['OmegaA'][mm,:,:]\n",
    "                omegaC = f2.variables['OmegaC'][mm,:,:]\n",
    "                pH     = f3.variables['pH'][mm,:,:]\n",
    "\n",
    "                omegaA = omegaA[ind8,:]\n",
    "                omegaC = omegaC[ind8,:]\n",
    "                pH = pH[ind8,:]\n",
    "                omegaA = omegaA[:,ind_regions].ravel()\n",
    "                omegaC = omegaC[:,ind_regions].ravel()\n",
    "                pH = pH[:,ind_regions].ravel()\n",
    "\n",
    "                # get avg over whole shelf area\n",
    "                ind_av = omegaA.mask==False\n",
    "                vv = volume_2d[ind8,:]\n",
    "                vol = vv[:,ind_regions].ravel()[ind_av]\n",
    "                del vv\n",
    "                omegaA_avg_shelf_10_100_1[mm,yy,rr] = np.sum(omegaA[ind_av]*vol/np.sum(vol))\n",
    "                omegaC_avg_shelf_10_100_1[mm,yy,rr] = np.sum(omegaC[ind_av]*vol/np.sum(vol))\n",
    "                pH_avg_shelf_10_100_1[mm,yy,rr]     = np.sum(pH[ind_av]*vol/np.sum(vol))\n",
    "\n",
    "                # get volume of undersaturated waters (omegaA & omegaC)\n",
    "                ind_low = np.where(omegaA[ind_av]<1)[0]\n",
    "                omegaA_vol_underst_10_100_1[mm,yy,rr] = 100*np.sum(vol[ind_low])/np.sum(vol)\n",
    "                del ind_low\n",
    "                ind_low = np.where(omegaA[ind_av]<0.5)[0]\n",
    "                omegaA_vol_underst_10_100_1_05[mm,yy,rr] = 100*np.sum(vol[ind_low])/np.sum(vol)\n",
    "                del ind_low\n",
    "                ind_low = np.where(omegaA[ind_av]<1.5)[0]\n",
    "                omegaA_vol_underst_10_100_1_15[mm,yy,rr] = 100*np.sum(vol[ind_low])/np.sum(vol)\n",
    "                del ind_low\n",
    "                ind_low = np.where(omegaA[ind_av]>=1.5)[0]\n",
    "                omegaA_vol_underst_10_100_1_gt15[mm,yy,rr] = 100*np.sum(vol[ind_low])/np.sum(vol)\n",
    "                del ind_low\n",
    "                ind_low = np.where(omegaA[ind_av]>=2)[0]\n",
    "                omegaA_vol_underst_10_100_1_gt2[mm,yy,rr] = 100*np.sum(vol[ind_low])/np.sum(vol)\n",
    "                del ind_low\n",
    "\n",
    "                ind_low = np.where(omegaC[ind_av]<1)[0]\n",
    "                omegaC_vol_underst_10_100_1[mm,yy,rr] = 100*np.sum(vol[ind_low])/np.sum(vol)\n",
    "                del ind_low\n",
    "                ind_low = np.where(omegaC[ind_av]<0.5)[0]\n",
    "                omegaC_vol_underst_10_100_1_05[mm,yy,rr] = 100*np.sum(vol[ind_low])/np.sum(vol)\n",
    "                del ind_low\n",
    "                ind_low = np.where(omegaC[ind_av]<1.5)[0]\n",
    "                omegaC_vol_underst_10_100_1_15[mm,yy,rr] = 100*np.sum(vol[ind_low])/np.sum(vol)\n",
    "                del ind_low\n",
    "                ind_low = np.where(omegaC[ind_av]>=1.5)[0]\n",
    "                omegaC_vol_underst_10_100_1_gt15[mm,yy,rr] = 100*np.sum(vol[ind_low])/np.sum(vol)\n",
    "                del ind_low\n",
    "                ind_low = np.where(omegaC[ind_av]>=2)[0]\n",
    "                omegaC_vol_underst_10_100_1_gt2[mm,yy,rr] = 100*np.sum(vol[ind_low])/np.sum(vol)\n",
    "                del ind_low\n",
    "\n",
    "\n",
    "                del ind_av,vol,omegaA,omegaC,pH\n",
    "\n",
    "\n",
    "            if process_below500:\n",
    "                #----\n",
    "                # below 500m\n",
    "                #----\n",
    "                omegaA = f1.variables['OmegaA'][mm,:,:]\n",
    "                omegaC = f2.variables['OmegaC'][mm,:,:]\n",
    "                pH     = f3.variables['pH'][mm,:,:]\n",
    "\n",
    "                omegaA = omegaA[ind3,:]\n",
    "                omegaC = omegaC[ind3,:]\n",
    "                pH = pH[ind3,:]\n",
    "                omegaA = omegaA[:,ind_regions].ravel()\n",
    "                omegaC = omegaC[:,ind_regions].ravel()\n",
    "                pH = pH[:,ind_regions].ravel()\n",
    "\n",
    "                # get avg over whole shelf area\n",
    "                ind_av = omegaA.mask==False\n",
    "                vv = volume_2d[ind3,:]\n",
    "                vol = vv[:,ind_regions].ravel()[ind_av]\n",
    "                del vv\n",
    "                omegaA_avg_shelf_below500_1[mm,yy,rr] = np.sum(omegaA[ind_av]*vol/np.sum(vol))\n",
    "                omegaC_avg_shelf_below500_1[mm,yy,rr] = np.sum(omegaC[ind_av]*vol/np.sum(vol))\n",
    "                pH_avg_shelf_below500_1[mm,yy,rr]     = np.sum(pH[ind_av]*vol/np.sum(vol))\n",
    "\n",
    "                # get volume of undersaturated waters (omegaA & omegaC)\n",
    "                ind_low = np.where(omegaA[ind_av]<1)[0]\n",
    "                omegaA_vol_underst_below500_1[mm,yy,rr] = 100*np.sum(vol[ind_low])/np.sum(vol)\n",
    "                del ind_low\n",
    "                ind_low = np.where(omegaA[ind_av]<0.5)[0]\n",
    "                omegaA_vol_underst_below500_1_05[mm,yy,rr] = 100*np.sum(vol[ind_low])/np.sum(vol)\n",
    "                del ind_low\n",
    "                ind_low = np.where(omegaA[ind_av]<1.5)[0]\n",
    "                omegaA_vol_underst_below500_1_15[mm,yy,rr] = 100*np.sum(vol[ind_low])/np.sum(vol)\n",
    "                del ind_low\n",
    "                ind_low = np.where(omegaA[ind_av]>=1.5)[0]\n",
    "                omegaA_vol_underst_below500_1_gt15[mm,yy,rr] = 100*np.sum(vol[ind_low])/np.sum(vol)\n",
    "                del ind_low\n",
    "                ind_low = np.where(omegaA[ind_av]>=2)[0]\n",
    "                omegaA_vol_underst_below500_1_gt2[mm,yy,rr] = 100*np.sum(vol[ind_low])/np.sum(vol)\n",
    "                del ind_low\n",
    "\n",
    "\n",
    "                ind_low = np.where(omegaC[ind_av]<1)[0]\n",
    "                omegaC_vol_underst_below500_1[mm,yy,rr] = 100*np.sum(vol[ind_low])/np.sum(vol)\n",
    "                del ind_low\n",
    "                ind_low = np.where(omegaC[ind_av]<0.5)[0]\n",
    "                omegaC_vol_underst_below500_1_05[mm,yy,rr] = 100*np.sum(vol[ind_low])/np.sum(vol)\n",
    "                del ind_low\n",
    "                ind_low = np.where(omegaC[ind_av]<1.5)[0]\n",
    "                omegaC_vol_underst_below500_1_15[mm,yy,rr] = 100*np.sum(vol[ind_low])/np.sum(vol)\n",
    "                del ind_low\n",
    "                ind_low = np.where(omegaC[ind_av]>=1.5)[0]\n",
    "                omegaC_vol_underst_below500_1_gt15[mm,yy,rr] = 100*np.sum(vol[ind_low])/np.sum(vol)\n",
    "                del ind_low\n",
    "                ind_low = np.where(omegaC[ind_av]>=2)[0]\n",
    "                omegaC_vol_underst_below500_1_gt2[mm,yy,rr] = 100*np.sum(vol[ind_low])/np.sum(vol)\n",
    "                del ind_low\n",
    "\n",
    "\n",
    "                del ind_av,vol,omegaA,omegaC,pH\n",
    "\n",
    "            if process_above2000:\n",
    "                #----\n",
    "                # above 2000m\n",
    "                #----\n",
    "                omegaA = f1.variables['OmegaA'][mm,:,:]\n",
    "                omegaC = f2.variables['OmegaC'][mm,:,:]\n",
    "                pH     = f3.variables['pH'][mm,:,:]\n",
    "\n",
    "                omegaA = omegaA[ind9,:]\n",
    "                omegaC = omegaC[ind9,:]\n",
    "                pH = pH[ind9,:]\n",
    "                omegaA = omegaA[:,ind_regions].ravel()\n",
    "                omegaC = omegaC[:,ind_regions].ravel()\n",
    "                pH = pH[:,ind_regions].ravel()\n",
    "\n",
    "                # get avg over whole shelf area\n",
    "                ind_av = omegaA.mask==False\n",
    "                vv = volume_2d[ind9,:]\n",
    "                vol = vv[:,ind_regions].ravel()[ind_av]\n",
    "                del vv\n",
    "                omegaA_avg_shelf_above2000_1[mm,yy,rr] = np.sum(omegaA[ind_av]*vol/np.sum(vol))\n",
    "                omegaC_avg_shelf_above2000_1[mm,yy,rr] = np.sum(omegaC[ind_av]*vol/np.sum(vol))\n",
    "                pH_avg_shelf_above2000_1[mm,yy,rr]     = np.sum(pH[ind_av]*vol/np.sum(vol))\n",
    "\n",
    "                # get volume of undersaturated waters (omegaA & omegaC)\n",
    "                ind_low = np.where(omegaA[ind_av]<1)[0]\n",
    "                omegaA_vol_underst_above2000_1[mm,yy,rr] = 100*np.sum(vol[ind_low])/np.sum(vol)\n",
    "                del ind_low\n",
    "                ind_low = np.where(omegaA[ind_av]<0.5)[0]\n",
    "                omegaA_vol_underst_above2000_1_05[mm,yy,rr] = 100*np.sum(vol[ind_low])/np.sum(vol)\n",
    "                del ind_low\n",
    "                ind_low = np.where(omegaA[ind_av]<1.5)[0]\n",
    "                omegaA_vol_underst_above2000_1_15[mm,yy,rr] = 100*np.sum(vol[ind_low])/np.sum(vol)\n",
    "                del ind_low\n",
    "                ind_low = np.where(omegaA[ind_av]>=1.5)[0]\n",
    "                omegaA_vol_underst_above2000_1_gt15[mm,yy,rr] = 100*np.sum(vol[ind_low])/np.sum(vol)\n",
    "                del ind_low\n",
    "                ind_low = np.where(omegaA[ind_av]>=2)[0]\n",
    "                omegaA_vol_underst_above2000_1_gt2[mm,yy,rr] = 100*np.sum(vol[ind_low])/np.sum(vol)\n",
    "                del ind_low\n",
    "\n",
    "\n",
    "                ind_low = np.where(omegaC[ind_av]<1)[0]\n",
    "                omegaC_vol_underst_above2000_1[mm,yy,rr] = 100*np.sum(vol[ind_low])/np.sum(vol)\n",
    "                del ind_low\n",
    "                ind_low = np.where(omegaC[ind_av]<0.5)[0]\n",
    "                omegaC_vol_underst_above2000_1_05[mm,yy,rr] = 100*np.sum(vol[ind_low])/np.sum(vol)\n",
    "                del ind_low\n",
    "                ind_low = np.where(omegaC[ind_av]<1.5)[0]\n",
    "                omegaC_vol_underst_above2000_1_15[mm,yy,rr] = 100*np.sum(vol[ind_low])/np.sum(vol)\n",
    "                del ind_low\n",
    "                ind_low = np.where(omegaC[ind_av]>=1.5)[0]\n",
    "                omegaC_vol_underst_above2000_1_gt15[mm,yy,rr] = 100*np.sum(vol[ind_low])/np.sum(vol)\n",
    "                del ind_low\n",
    "                ind_low = np.where(omegaC[ind_av]>=2)[0]\n",
    "                omegaC_vol_underst_above2000_1_gt2[mm,yy,rr] = 100*np.sum(vol[ind_low])/np.sum(vol)\n",
    "                del ind_low\n",
    "\n",
    "\n",
    "                del ind_av,vol,omegaA,omegaC,pH\n",
    "\n",
    "            if process_water_column:\n",
    "                #----\n",
    "                # whole water column\n",
    "                #----\n",
    "                omegaA = f1.variables['OmegaA'][mm,:,:]\n",
    "                omegaC = f2.variables['OmegaC'][mm,:,:]\n",
    "                pH     = f3.variables['pH'][mm,:,:]\n",
    "\n",
    "                omegaA = omegaA[:,ind_regions].ravel()\n",
    "                omegaC = omegaC[:,ind_regions].ravel()\n",
    "                pH = pH[:,ind_regions].ravel()\n",
    "\n",
    "                # get avg over whole shelf area\n",
    "                ind_av = omegaA.mask==False\n",
    "                vol = volume_2d[:,ind_regions].ravel()[ind_av]\n",
    "                omegaA_avg_shelf1[mm,yy,rr] = np.sum(omegaA[ind_av]*vol/np.sum(vol))\n",
    "                omegaC_avg_shelf1[mm,yy,rr] = np.sum(omegaC[ind_av]*vol/np.sum(vol))\n",
    "                pH_avg_shelf1[mm,yy,rr]     = np.sum(pH[ind_av]*vol/np.sum(vol))\n",
    "\n",
    "                # get volume of undersaturated waters (omegaA & omegaC)\n",
    "                ind_low = np.where(omegaA[ind_av]<1)[0]\n",
    "                omegaA_vol_underst1[mm,yy,rr] = 100*np.sum(vol[ind_low])/np.sum(vol)\n",
    "                del ind_low\n",
    "                ind_low = np.where(omegaA[ind_av]<0.5)[0]\n",
    "                omegaA_vol_underst1_05[mm,yy,rr] = 100*np.sum(vol[ind_low])/np.sum(vol)\n",
    "                del ind_low\n",
    "                ind_low = np.where(omegaA[ind_av]<1.5)[0]\n",
    "                omegaA_vol_underst1_15[mm,yy,rr] = 100*np.sum(vol[ind_low])/np.sum(vol)\n",
    "                del ind_low\n",
    "                ind_low = np.where(omegaA[ind_av]>=1.5)[0]\n",
    "                omegaA_vol_underst1_gt15[mm,yy,rr] = 100*np.sum(vol[ind_low])/np.sum(vol)\n",
    "                del ind_low\n",
    "                ind_low = np.where(omegaA[ind_av]>=2)[0]\n",
    "                omegaA_vol_underst1_gt2[mm,yy,rr] = 100*np.sum(vol[ind_low])/np.sum(vol)\n",
    "                del ind_low\n",
    "\n",
    "                ind_low = np.where(omegaC[ind_av]<1)[0]\n",
    "                omegaC_vol_underst1[mm,yy,rr] = 100*np.sum(vol[ind_low])/np.sum(vol)\n",
    "                del ind_low\n",
    "                ind_low = np.where(omegaC[ind_av]<0.5)[0]\n",
    "                omegaC_vol_underst1_05[mm,yy,rr] = 100*np.sum(vol[ind_low])/np.sum(vol)\n",
    "                del ind_low\n",
    "                ind_low = np.where(omegaC[ind_av]<1.5)[0]\n",
    "                omegaC_vol_underst1_15[mm,yy,rr] = 100*np.sum(vol[ind_low])/np.sum(vol)\n",
    "                del ind_low\n",
    "                ind_low = np.where(omegaC[ind_av]>=1.5)[0]\n",
    "                omegaC_vol_underst1_gt15[mm,yy,rr] = 100*np.sum(vol[ind_low])/np.sum(vol)\n",
    "                del ind_low\n",
    "                ind_low = np.where(omegaC[ind_av]>=2)[0]\n",
    "                omegaC_vol_underst1_gt2[mm,yy,rr] = 100*np.sum(vol[ind_low])/np.sum(vol)\n",
    "                del ind_low\n",
    "\n",
    "                del ind_av,vol,omegaA,omegaC,pH\n",
    "\n",
    "            if process_surface:\n",
    "                #----\n",
    "                # surface only\n",
    "                #----\n",
    "                omegaA = f1.variables['OmegaA'][mm,0,:]\n",
    "                omegaC = f2.variables['OmegaC'][mm,0,:]\n",
    "                pH     = f3.variables['pH'][mm,0,:]\n",
    "\n",
    "                omegaA = omegaA[ind_regions].ravel()\n",
    "                omegaC = omegaC[ind_regions].ravel()\n",
    "                pH = pH[ind_regions].ravel()\n",
    "\n",
    "                # get avg over whole shelf area\n",
    "                ind_av = omegaA.mask==False\n",
    "                vv = volume_2d[0,:]\n",
    "                vol = vv[ind_regions].ravel()[ind_av]\n",
    "                del vv\n",
    "                omegaA_avg_shelf_srf1[mm,yy,rr] = np.sum(omegaA[ind_av]*vol/np.sum(vol))\n",
    "                omegaC_avg_shelf_srf1[mm,yy,rr] = np.sum(omegaC[ind_av]*vol/np.sum(vol))\n",
    "                pH_avg_shelf_srf1[mm,yy,rr]     = np.sum(pH[ind_av]*vol/np.sum(vol))\n",
    "\n",
    "                # get volume of undersaturated waters (omegaA & omegaC)\n",
    "                ind_low = np.where(omegaA[ind_av]<1)[0]\n",
    "                omegaA_vol_underst_srf1[mm,yy,rr] = 100*np.sum(vol[ind_low])/np.sum(vol)\n",
    "                del ind_low\n",
    "                ind_low = np.where(omegaA[ind_av]<0.5)[0]\n",
    "                omegaA_vol_underst_srf1_05[mm,yy,rr] = 100*np.sum(vol[ind_low])/np.sum(vol)\n",
    "                del ind_low\n",
    "                ind_low = np.where(omegaA[ind_av]<1.5)[0]\n",
    "                omegaA_vol_underst_srf1_15[mm,yy,rr] = 100*np.sum(vol[ind_low])/np.sum(vol)\n",
    "                del ind_low\n",
    "                ind_low = np.where(omegaA[ind_av]>=1.5)[0]\n",
    "                omegaA_vol_underst_srf1_gt15[mm,yy,rr] = 100*np.sum(vol[ind_low])/np.sum(vol)\n",
    "                del ind_low\n",
    "                ind_low = np.where(omegaA[ind_av]>=2)[0]\n",
    "                omegaA_vol_underst_srf1_gt2[mm,yy,rr] = 100*np.sum(vol[ind_low])/np.sum(vol)\n",
    "                del ind_low\n",
    "\n",
    "                ind_low = np.where(omegaC[ind_av]<1)[0]\n",
    "                omegaC_vol_underst_srf1[mm,yy,rr] = 100*np.sum(vol[ind_low])/np.sum(vol)\n",
    "                del ind_low\n",
    "                ind_low = np.where(omegaC[ind_av]<0.5)[0]\n",
    "                omegaC_vol_underst_srf1_05[mm,yy,rr] = 100*np.sum(vol[ind_low])/np.sum(vol)\n",
    "                del ind_low\n",
    "                ind_low = np.where(omegaC[ind_av]<1.5)[0]\n",
    "                omegaC_vol_underst_srf1_15[mm,yy,rr] = 100*np.sum(vol[ind_low])/np.sum(vol)\n",
    "                del ind_low\n",
    "                ind_low = np.where(omegaC[ind_av]>=1.5)[0]\n",
    "                omegaC_vol_underst_srf1_gt15[mm,yy,rr] = 100*np.sum(vol[ind_low])/np.sum(vol)\n",
    "                del ind_low\n",
    "                ind_low = np.where(omegaC[ind_av]>=2)[0]\n",
    "                omegaC_vol_underst_srf1_gt2[mm,yy,rr] = 100*np.sum(vol[ind_low])/np.sum(vol)\n",
    "                del ind_low\n",
    "\n",
    "                del ind_av,vol,omegaA,omegaC,pH\n",
    "            \n",
    "            \n",
    "    #-----\n",
    "    # save as netcdf file\n",
    "    #-----\n",
    "    \n",
    "    save_netcdf = True\n",
    "    # only save every year (takes too much time otherwise)\n",
    "    if save_netcdf:\n",
    "        if save_netcdf:\n",
    "            if save_netcdf:\n",
    "                savepath = '/pscratch/sd/c/cnissen/carbonate_chemistry_3D_v2/regional/'\n",
    "                netcdf_name = 'Carbonate_chemistry_regional_'+which_sim+'_'+str(year_list1[0])+'_'+str(year_list1[-1])+'_v4_AntarcticPeninsula_only.nc'\n",
    "\n",
    "                if not os.path.exists(savepath+netcdf_name):\n",
    "                    print('Create file '+savepath+netcdf_name)\n",
    "                    w_nc_fid = Dataset(savepath+netcdf_name, 'w', format='NETCDF4_CLASSIC')\n",
    "                    w_nc_fid.regions1 = '1=AntarcticPeninsula_MPA, 2=AntarcticPeninsula_MPA_shelf, 3=AntarcticPeninsula_MPA_openOcean'\n",
    "                       \n",
    "                    w_nc_fid.mocsy_source = 'https://github.com/jamesorr/mocsy'\n",
    "                    w_nc_fid.mocsy_dir    = '/home/ollie/ncara/scripts/mocsy/mocsy'\n",
    "                    w_nc_fid.script    = '/global/homes/c/cnissen/scripts/plot_PAPER_carbonate_chemistry_regional_save_netcdf_v3_Peninsula.ipynb'\n",
    "                    # create dimension & variable\n",
    "                    w_nc_fid.createDimension('month', 12)  # monthly\n",
    "                    w_nc_fid.createDimension('year', len(year_list1)) \n",
    "                    w_nc_fid.createDimension('subregions', len(subregions)) \n",
    "                    w_nc_fid.createDimension('nodes_2d', len(topo)) \n",
    "                    w_nc_fid.createVariable('year', 'f4',('year'))\n",
    "                    w_nc_fid.variables['year'][:] = year_list1\n",
    "\n",
    "                    w_nc_fid.createVariable('mask_subregions', 'f4',('nodes_2d'))\n",
    "                    w_nc_fid.variables['mask_subregions'][:] = shelf_ind\n",
    "\n",
    "                    for vv in range(0,len(vari_list)):\n",
    "                        w_nc_var1 = w_nc_fid.createVariable(vari_list[vv], 'f4',('month','year','subregions'))\n",
    "                    w_nc_fid.close()\n",
    "                else: # file exists, but check if variables exist as well\n",
    "                    w_nc_fid = Dataset(savepath+netcdf_name, 'r+', format='NETCDF4_CLASSIC') \n",
    "                    for vv in range(0,len(vari_list)):\n",
    "                        try:\n",
    "                            w_nc_var1 = w_nc_fid.createVariable(vari_list[vv], 'f4',('month','year','subregions'))\n",
    "                        except: \n",
    "                            if yy==0:\n",
    "                                print (vari_list[vv]+' exists in file')\n",
    "                            pass\n",
    "                    w_nc_fid.close()\n",
    "                    \n",
    "\n",
    "                for vv in range(0,len(vari_list)):\n",
    "                    w_nc_fid = Dataset(savepath+netcdf_name, 'r+', format='NETCDF4_CLASSIC') \n",
    "                    if vari_list[vv] in ['omegaA_avg_srf']:\n",
    "                        w_nc_fid.variables[vari_list[vv]][:,yy,:] = omegaA_avg_shelf_srf1[:,yy,:]\n",
    "                    elif vari_list[vv] in ['omegaA_avg_top10']:\n",
    "                        w_nc_fid.variables[vari_list[vv]][:,yy,:] = omegaA_avg_shelf_top10_1[:,yy,:]\n",
    "                    elif vari_list[vv] in ['omegaA_avg_top20']:\n",
    "                        w_nc_fid.variables[vari_list[vv]][:,yy,:] = omegaA_avg_shelf_top20_1[:,yy,:]\n",
    "                    elif vari_list[vv] in ['omegaA_avg_top50']:\n",
    "                        w_nc_fid.variables[vari_list[vv]][:,yy,:] = omegaA_avg_shelf_top50_1[:,yy,:]\n",
    "                    elif vari_list[vv] in ['omegaA_avg_top100']:\n",
    "                        w_nc_fid.variables[vari_list[vv]][:,yy,:] = omegaA_avg_shelf_top100_1[:,yy,:]\n",
    "                    elif vari_list[vv] in ['omegaA_avg_top200']:\n",
    "                        w_nc_fid.variables[vari_list[vv]][:,yy,:] = omegaA_avg_shelf_top200_1[:,yy,:]\n",
    "                    elif vari_list[vv] in ['omegaA_avg_100_500']:\n",
    "                        w_nc_fid.variables[vari_list[vv]][:,yy,:] = omegaA_avg_shelf_100_500_1[:,yy,:]\n",
    "                    elif vari_list[vv] in ['omegaA_avg_below500']:\n",
    "                        w_nc_fid.variables[vari_list[vv]][:,yy,:] = omegaA_avg_shelf_below500_1[:,yy,:]\n",
    "                    elif vari_list[vv] in ['omegaA_avg_above2000']:\n",
    "                        w_nc_fid.variables[vari_list[vv]][:,yy,:] = omegaA_avg_shelf_above2000_1[:,yy,:]\n",
    "                    elif vari_list[vv] in ['omegaA_avg_water_column']:\n",
    "                        w_nc_fid.variables[vari_list[vv]][:,yy,:] = omegaA_avg_shelf1[:,yy,:]\n",
    "                    elif vari_list[vv] in ['omegaA_avg_0_10']:\n",
    "                        w_nc_fid.variables[vari_list[vv]][:,yy,:] = omegaA_avg_shelf_0_10_1[:,yy,:]\n",
    "                    elif vari_list[vv] in ['omegaA_avg_10_100']:\n",
    "                        w_nc_fid.variables[vari_list[vv]][:,yy,:] = omegaA_avg_shelf_10_100_1[:,yy,:]\n",
    "                    #########\n",
    "                    elif vari_list[vv] in ['omegaC_avg_srf']:\n",
    "                        w_nc_fid.variables[vari_list[vv]][:,yy,:] = omegaC_avg_shelf_srf1[:,yy,:]\n",
    "                    elif vari_list[vv] in ['omegaC_avg_top10']:\n",
    "                        w_nc_fid.variables[vari_list[vv]][:,yy,:] = omegaC_avg_shelf_top10_1[:,yy,:]\n",
    "                    elif vari_list[vv] in ['omegaC_avg_top20']:\n",
    "                        w_nc_fid.variables[vari_list[vv]][:,yy,:] = omegaC_avg_shelf_top20_1[:,yy,:]\n",
    "                    elif vari_list[vv] in ['omegaC_avg_top50']:\n",
    "                        w_nc_fid.variables[vari_list[vv]][:,yy,:] = omegaC_avg_shelf_top50_1[:,yy,:]\n",
    "                    elif vari_list[vv] in ['omegaC_avg_top100']:\n",
    "                        w_nc_fid.variables[vari_list[vv]][:,yy,:] = omegaC_avg_shelf_top100_1[:,yy,:]\n",
    "                    elif vari_list[vv] in ['omegaC_avg_top200']:\n",
    "                        w_nc_fid.variables[vari_list[vv]][:,yy,:] = omegaC_avg_shelf_top200_1[:,yy,:]\n",
    "                    elif vari_list[vv] in ['omegaC_avg_100_500']:\n",
    "                        w_nc_fid.variables[vari_list[vv]][:,yy,:] = omegaC_avg_shelf_100_500_1[:,yy,:]\n",
    "                    elif vari_list[vv] in ['omegaC_avg_below500']:\n",
    "                        w_nc_fid.variables[vari_list[vv]][:,yy,:] = omegaC_avg_shelf_below500_1[:,yy,:]\n",
    "                    elif vari_list[vv] in ['omegaC_avg_above2000']:\n",
    "                        w_nc_fid.variables[vari_list[vv]][:,yy,:] = omegaC_avg_shelf_above2000_1[:,yy,:]\n",
    "                    elif vari_list[vv] in ['omegaC_avg_water_column']:\n",
    "                        w_nc_fid.variables[vari_list[vv]][:,yy,:] = omegaC_avg_shelf1[:,yy,:]\n",
    "                    elif vari_list[vv] in ['omegaC_avg_0_10']:\n",
    "                        w_nc_fid.variables[vari_list[vv]][:,yy,:] = omegaC_avg_shelf_0_10_1[:,yy,:]\n",
    "                    elif vari_list[vv] in ['omegaC_avg_10_100']:\n",
    "                        w_nc_fid.variables[vari_list[vv]][:,yy,:] = omegaC_avg_shelf_10_100_1[:,yy,:]\n",
    "                    #########\n",
    "                    elif vari_list[vv] in ['pH_avg_srf']:\n",
    "                        w_nc_fid.variables[vari_list[vv]][:,yy,:] = pH_avg_shelf_srf1[:,yy,:]\n",
    "                    elif vari_list[vv] in ['pH_avg_top10']:\n",
    "                        w_nc_fid.variables[vari_list[vv]][:,yy,:] = pH_avg_shelf_top10_1[:,yy,:]\n",
    "                    elif vari_list[vv] in ['pH_avg_top20']:\n",
    "                        w_nc_fid.variables[vari_list[vv]][:,yy,:] = pH_avg_shelf_top20_1[:,yy,:]\n",
    "                    elif vari_list[vv] in ['pH_avg_top50']:\n",
    "                        w_nc_fid.variables[vari_list[vv]][:,yy,:] = pH_avg_shelf_top50_1[:,yy,:]\n",
    "                    elif vari_list[vv] in ['pH_avg_top100']:\n",
    "                        w_nc_fid.variables[vari_list[vv]][:,yy,:] = pH_avg_shelf_top100_1[:,yy,:]\n",
    "                    elif vari_list[vv] in ['pH_avg_top200']:\n",
    "                        w_nc_fid.variables[vari_list[vv]][:,yy,:] = pH_avg_shelf_top200_1[:,yy,:]\n",
    "                    elif vari_list[vv] in ['pH_avg_100_500']:\n",
    "                        w_nc_fid.variables[vari_list[vv]][:,yy,:] = pH_avg_shelf_100_500_1[:,yy,:]\n",
    "                    elif vari_list[vv] in ['pH_avg_below500']:\n",
    "                        w_nc_fid.variables[vari_list[vv]][:,yy,:] = pH_avg_shelf_below500_1[:,yy,:]\n",
    "                    elif vari_list[vv] in ['pH_avg_above2000']:\n",
    "                        w_nc_fid.variables[vari_list[vv]][:,yy,:] = pH_avg_shelf_above2000_1[:,yy,:]\n",
    "                    elif vari_list[vv] in ['pH_avg_water_column']:\n",
    "                        w_nc_fid.variables[vari_list[vv]][:,yy,:] = pH_avg_shelf1[:,yy,:]\n",
    "                    elif vari_list[vv] in ['pH_avg_0_10']:\n",
    "                        w_nc_fid.variables[vari_list[vv]][:,yy,:] = pH_avg_shelf_0_10_1[:,yy,:]\n",
    "                    elif vari_list[vv] in ['pH_avg_10_100']:\n",
    "                        w_nc_fid.variables[vari_list[vv]][:,yy,:] = pH_avg_shelf_10_100_1[:,yy,:]\n",
    "                    #########\n",
    "                    elif vari_list[vv] in ['omegaA_vol_below1_srf']:\n",
    "                        w_nc_fid.variables[vari_list[vv]][:,yy,:] = omegaA_vol_underst_srf1[:,yy,:]\n",
    "                    elif vari_list[vv] in ['omegaA_vol_below1_top10']:\n",
    "                        w_nc_fid.variables[vari_list[vv]][:,yy,:] = omegaA_vol_underst_top10_1[:,yy,:]\n",
    "                    elif vari_list[vv] in ['omegaA_vol_below1_top20']:\n",
    "                        w_nc_fid.variables[vari_list[vv]][:,yy,:] = omegaA_vol_underst_top20_1[:,yy,:]\n",
    "                    elif vari_list[vv] in ['omegaA_vol_below1_top50']:\n",
    "                        w_nc_fid.variables[vari_list[vv]][:,yy,:] = omegaA_vol_underst_top50_1[:,yy,:]\n",
    "                    elif vari_list[vv] in ['omegaA_vol_below1_top100']:\n",
    "                        w_nc_fid.variables[vari_list[vv]][:,yy,:] = omegaA_vol_underst_top100_1[:,yy,:]\n",
    "                    elif vari_list[vv] in ['omegaA_vol_below1_top200']:\n",
    "                        w_nc_fid.variables[vari_list[vv]][:,yy,:] = omegaA_vol_underst_top200_1[:,yy,:]\n",
    "                    elif vari_list[vv] in ['omegaA_vol_below1_100_500']:\n",
    "                        w_nc_fid.variables[vari_list[vv]][:,yy,:] = omegaA_vol_underst_100_500_1[:,yy,:]\n",
    "                    elif vari_list[vv] in ['omegaA_vol_below1_below500']:\n",
    "                        w_nc_fid.variables[vari_list[vv]][:,yy,:] = omegaA_vol_underst_below500_1[:,yy,:]\n",
    "                    elif vari_list[vv] in ['omegaA_vol_below1_above2000']:\n",
    "                        w_nc_fid.variables[vari_list[vv]][:,yy,:] = omegaA_vol_underst_above2000_1[:,yy,:]\n",
    "                    elif vari_list[vv] in ['omegaA_vol_below1_water_column']:\n",
    "                        w_nc_fid.variables[vari_list[vv]][:,yy,:] = omegaA_vol_underst1[:,yy,:]\n",
    "                    elif vari_list[vv] in ['omegaA_vol_below1_0_10']:\n",
    "                        w_nc_fid.variables[vari_list[vv]][:,yy,:] = omegaA_vol_underst_0_10_1[:,yy,:]\n",
    "                    elif vari_list[vv] in ['omegaA_vol_below1_10_100']:\n",
    "                        w_nc_fid.variables[vari_list[vv]][:,yy,:] = omegaA_vol_underst_10_100_1[:,yy,:]\n",
    "                    #########\n",
    "                    elif vari_list[vv] in ['omegaC_vol_below1_srf']:\n",
    "                        w_nc_fid.variables[vari_list[vv]][:,yy,:] = omegaC_vol_underst_srf1[:,yy,:]\n",
    "                    elif vari_list[vv] in ['omegaC_vol_below1_top10']:\n",
    "                        w_nc_fid.variables[vari_list[vv]][:,yy,:] = omegaC_vol_underst_top10_1[:,yy,:]\n",
    "                    elif vari_list[vv] in ['omegaC_vol_below1_top20']:\n",
    "                        w_nc_fid.variables[vari_list[vv]][:,yy,:] = omegaC_vol_underst_top20_1[:,yy,:]\n",
    "                    elif vari_list[vv] in ['omegaC_vol_below1_top50']:\n",
    "                        w_nc_fid.variables[vari_list[vv]][:,yy,:] = omegaC_vol_underst_top50_1[:,yy,:]\n",
    "                    elif vari_list[vv] in ['omegaC_vol_below1_top100']:\n",
    "                        w_nc_fid.variables[vari_list[vv]][:,yy,:] = omegaC_vol_underst_top100_1[:,yy,:]\n",
    "                    elif vari_list[vv] in ['omegaC_vol_below1_top200']:\n",
    "                        w_nc_fid.variables[vari_list[vv]][:,yy,:] = omegaC_vol_underst_top200_1[:,yy,:]\n",
    "                    elif vari_list[vv] in ['omegaC_vol_below1_100_500']:\n",
    "                        w_nc_fid.variables[vari_list[vv]][:,yy,:] = omegaC_vol_underst_100_500_1[:,yy,:]\n",
    "                    elif vari_list[vv] in ['omegaC_vol_below1_below500']:\n",
    "                        w_nc_fid.variables[vari_list[vv]][:,yy,:] = omegaC_vol_underst_below500_1[:,yy,:]\n",
    "                    elif vari_list[vv] in ['omegaC_vol_below1_above2000']:\n",
    "                        w_nc_fid.variables[vari_list[vv]][:,yy,:] = omegaC_vol_underst_above2000_1[:,yy,:]\n",
    "                    elif vari_list[vv] in ['omegaC_vol_below1_water_column']:\n",
    "                        w_nc_fid.variables[vari_list[vv]][:,yy,:] = omegaC_vol_underst1[:,yy,:]\n",
    "                    elif vari_list[vv] in ['omegaC_vol_below1_0_10']:\n",
    "                        w_nc_fid.variables[vari_list[vv]][:,yy,:] = omegaA_vol_underst_0_10_1[:,yy,:]\n",
    "                    elif vari_list[vv] in ['omegaC_vol_below1_10_100']:\n",
    "                        w_nc_fid.variables[vari_list[vv]][:,yy,:] = omegaA_vol_underst_10_100_1[:,yy,:]\n",
    "                    #########\n",
    "                    #########\n",
    "                    elif vari_list[vv] in ['omegaA_vol_below05_srf']:\n",
    "                        w_nc_fid.variables[vari_list[vv]][:,yy,:] = omegaA_vol_underst_srf1_05[:,yy,:]\n",
    "                    elif vari_list[vv] in ['omegaA_vol_below05_top10']:\n",
    "                        w_nc_fid.variables[vari_list[vv]][:,yy,:] = omegaA_vol_underst_top10_1_05[:,yy,:]\n",
    "                    elif vari_list[vv] in ['omegaA_vol_below05_top20']:\n",
    "                        w_nc_fid.variables[vari_list[vv]][:,yy,:] = omegaA_vol_underst_top20_1_05[:,yy,:]\n",
    "                    elif vari_list[vv] in ['omegaA_vol_below05_top50']:\n",
    "                        w_nc_fid.variables[vari_list[vv]][:,yy,:] = omegaA_vol_underst_top50_1_05[:,yy,:]\n",
    "                    elif vari_list[vv] in ['omegaA_vol_below05_top100']:\n",
    "                        w_nc_fid.variables[vari_list[vv]][:,yy,:] = omegaA_vol_underst_top100_1_05[:,yy,:]\n",
    "                    elif vari_list[vv] in ['omegaA_vol_below05_top200']:\n",
    "                        w_nc_fid.variables[vari_list[vv]][:,yy,:] = omegaA_vol_underst_top200_1_05[:,yy,:]\n",
    "                    elif vari_list[vv] in ['omegaA_vol_below05_100_500']:\n",
    "                        w_nc_fid.variables[vari_list[vv]][:,yy,:] = omegaA_vol_underst_100_500_1_05[:,yy,:]\n",
    "                    elif vari_list[vv] in ['omegaA_vol_below05_below500']:\n",
    "                        w_nc_fid.variables[vari_list[vv]][:,yy,:] = omegaA_vol_underst_below500_1_05[:,yy,:]\n",
    "                    elif vari_list[vv] in ['omegaA_vol_below05_above2000']:\n",
    "                        w_nc_fid.variables[vari_list[vv]][:,yy,:] = omegaA_vol_underst_above2000_1_05[:,yy,:]\n",
    "                    elif vari_list[vv] in ['omegaA_vol_below05_water_column']:\n",
    "                        w_nc_fid.variables[vari_list[vv]][:,yy,:] = omegaA_vol_underst1_05[:,yy,:]\n",
    "                    elif vari_list[vv] in ['omegaA_vol_below05_0_10']:\n",
    "                        w_nc_fid.variables[vari_list[vv]][:,yy,:] = omegaA_vol_underst_0_10_1_05[:,yy,:]\n",
    "                    elif vari_list[vv] in ['omegaA_vol_below05_10_100']:\n",
    "                        w_nc_fid.variables[vari_list[vv]][:,yy,:] = omegaA_vol_underst_10_100_1_05[:,yy,:]\n",
    "                    #########\n",
    "                    elif vari_list[vv] in ['omegaC_vol_below05_srf']:\n",
    "                        w_nc_fid.variables[vari_list[vv]][:,yy,:] = omegaC_vol_underst_srf1_05[:,yy,:]\n",
    "                    elif vari_list[vv] in ['omegaC_vol_below05_top10']:\n",
    "                        w_nc_fid.variables[vari_list[vv]][:,yy,:] = omegaC_vol_underst_top10_1_05[:,yy,:]\n",
    "                    elif vari_list[vv] in ['omegaC_vol_below05_top20']:\n",
    "                        w_nc_fid.variables[vari_list[vv]][:,yy,:] = omegaC_vol_underst_top20_1_05[:,yy,:]\n",
    "                    elif vari_list[vv] in ['omegaC_vol_below05_top50']:\n",
    "                        w_nc_fid.variables[vari_list[vv]][:,yy,:] = omegaC_vol_underst_top50_1_05[:,yy,:]\n",
    "                    elif vari_list[vv] in ['omegaC_vol_below05_top100']:\n",
    "                        w_nc_fid.variables[vari_list[vv]][:,yy,:] = omegaC_vol_underst_top100_1_05[:,yy,:]\n",
    "                    elif vari_list[vv] in ['omegaC_vol_below05_top200']:\n",
    "                        w_nc_fid.variables[vari_list[vv]][:,yy,:] = omegaC_vol_underst_top200_1_05[:,yy,:]\n",
    "                    elif vari_list[vv] in ['omegaC_vol_below05_100_500']:\n",
    "                        w_nc_fid.variables[vari_list[vv]][:,yy,:] = omegaC_vol_underst_100_500_1_05[:,yy,:]\n",
    "                    elif vari_list[vv] in ['omegaC_vol_below05_below500']:\n",
    "                        w_nc_fid.variables[vari_list[vv]][:,yy,:] = omegaC_vol_underst_below500_1_05[:,yy,:]\n",
    "                    elif vari_list[vv] in ['omegaC_vol_below05_above2000']:\n",
    "                        w_nc_fid.variables[vari_list[vv]][:,yy,:] = omegaC_vol_underst_above2000_1_05[:,yy,:]\n",
    "                    elif vari_list[vv] in ['omegaC_vol_below05_water_column']:\n",
    "                        w_nc_fid.variables[vari_list[vv]][:,yy,:] = omegaC_vol_underst1_05[:,yy,:]\n",
    "                    elif vari_list[vv] in ['omegaC_vol_below05_0_10']:\n",
    "                        w_nc_fid.variables[vari_list[vv]][:,yy,:] = omegaC_vol_underst_0_10_1_05[:,yy,:]\n",
    "                    elif vari_list[vv] in ['omegaC_vol_below05_10_100']:\n",
    "                        w_nc_fid.variables[vari_list[vv]][:,yy,:] = omegaC_vol_underst_10_100_1_05[:,yy,:]\n",
    "                    #########\n",
    "                    elif vari_list[vv] in ['omegaA_vol_below15_srf']:\n",
    "                        w_nc_fid.variables[vari_list[vv]][:,yy,:] = omegaA_vol_underst_srf1_15[:,yy,:]\n",
    "                    elif vari_list[vv] in ['omegaA_vol_below15_top10']:\n",
    "                        w_nc_fid.variables[vari_list[vv]][:,yy,:] = omegaA_vol_underst_top10_1_15[:,yy,:]\n",
    "                    elif vari_list[vv] in ['omegaA_vol_below15_top20']:\n",
    "                        w_nc_fid.variables[vari_list[vv]][:,yy,:] = omegaA_vol_underst_top20_1_15[:,yy,:]\n",
    "                    elif vari_list[vv] in ['omegaA_vol_below15_top50']:\n",
    "                        w_nc_fid.variables[vari_list[vv]][:,yy,:] = omegaA_vol_underst_top50_1_15[:,yy,:]\n",
    "                    elif vari_list[vv] in ['omegaA_vol_below15_top100']:\n",
    "                        w_nc_fid.variables[vari_list[vv]][:,yy,:] = omegaA_vol_underst_top100_1_15[:,yy,:]\n",
    "                    elif vari_list[vv] in ['omegaA_vol_below15_top200']:\n",
    "                        w_nc_fid.variables[vari_list[vv]][:,yy,:] = omegaA_vol_underst_top200_1_15[:,yy,:]\n",
    "                    elif vari_list[vv] in ['omegaA_vol_below15_100_500']:\n",
    "                        w_nc_fid.variables[vari_list[vv]][:,yy,:] = omegaA_vol_underst_100_500_1_15[:,yy,:]\n",
    "                    elif vari_list[vv] in ['omegaA_vol_below15_below500']:\n",
    "                        w_nc_fid.variables[vari_list[vv]][:,yy,:] = omegaA_vol_underst_below500_1_15[:,yy,:]\n",
    "                    elif vari_list[vv] in ['omegaA_vol_below15_above2000']:\n",
    "                        w_nc_fid.variables[vari_list[vv]][:,yy,:] = omegaA_vol_underst_above2000_1_15[:,yy,:]\n",
    "                    elif vari_list[vv] in ['omegaA_vol_below15_water_column']:\n",
    "                        w_nc_fid.variables[vari_list[vv]][:,yy,:] = omegaA_vol_underst1_15[:,yy,:]\n",
    "                    elif vari_list[vv] in ['omegaA_vol_below15_0_10']:\n",
    "                        w_nc_fid.variables[vari_list[vv]][:,yy,:] = omegaA_vol_underst_0_10_1_15[:,yy,:]\n",
    "                    elif vari_list[vv] in ['omegaA_vol_below15_10_100']:\n",
    "                        w_nc_fid.variables[vari_list[vv]][:,yy,:] = omegaA_vol_underst_10_100_1_15[:,yy,:]\n",
    "                    #########\n",
    "                    elif vari_list[vv] in ['omegaC_vol_below15_srf']:\n",
    "                        w_nc_fid.variables[vari_list[vv]][:,yy,:] = omegaC_vol_underst_srf1_15[:,yy,:]\n",
    "                    elif vari_list[vv] in ['omegaC_vol_below15_top10']:\n",
    "                        w_nc_fid.variables[vari_list[vv]][:,yy,:] = omegaC_vol_underst_top10_1_15[:,yy,:]\n",
    "                    elif vari_list[vv] in ['omegaC_vol_below15_top20']:\n",
    "                        w_nc_fid.variables[vari_list[vv]][:,yy,:] = omegaC_vol_underst_top20_1_15[:,yy,:]\n",
    "                    elif vari_list[vv] in ['omegaC_vol_below15_top50']:\n",
    "                        w_nc_fid.variables[vari_list[vv]][:,yy,:] = omegaC_vol_underst_top50_1_15[:,yy,:]\n",
    "                    elif vari_list[vv] in ['omegaC_vol_below15_top100']:\n",
    "                        w_nc_fid.variables[vari_list[vv]][:,yy,:] = omegaC_vol_underst_top100_1_15[:,yy,:]\n",
    "                    elif vari_list[vv] in ['omegaC_vol_below15_top200']:\n",
    "                        w_nc_fid.variables[vari_list[vv]][:,yy,:] = omegaC_vol_underst_top200_1_15[:,yy,:]\n",
    "                    elif vari_list[vv] in ['omegaC_vol_below15_100_500']:\n",
    "                        w_nc_fid.variables[vari_list[vv]][:,yy,:] = omegaC_vol_underst_100_500_1_15[:,yy,:]\n",
    "                    elif vari_list[vv] in ['omegaC_vol_below15_below500']:\n",
    "                        w_nc_fid.variables[vari_list[vv]][:,yy,:] = omegaC_vol_underst_below500_1_15[:,yy,:]\n",
    "                    elif vari_list[vv] in ['omegaC_vol_below15_above2000']:\n",
    "                        w_nc_fid.variables[vari_list[vv]][:,yy,:] = omegaC_vol_underst_above2000_1_15[:,yy,:]\n",
    "                    elif vari_list[vv] in ['omegaC_vol_below15_water_column']:\n",
    "                        w_nc_fid.variables[vari_list[vv]][:,yy,:] = omegaC_vol_underst1_15[:,yy,:]\n",
    "                    elif vari_list[vv] in ['omegaC_vol_below15_0_10']:\n",
    "                        w_nc_fid.variables[vari_list[vv]][:,yy,:] = omegaC_vol_underst_0_10_1_15[:,yy,:]\n",
    "                    elif vari_list[vv] in ['omegaC_vol_below15_10_100']:\n",
    "                        w_nc_fid.variables[vari_list[vv]][:,yy,:] = omegaC_vol_underst_10_100_1_15[:,yy,:]\n",
    "                    #########\n",
    "                    elif vari_list[vv] in ['omegaA_vol_above15_srf']:\n",
    "                        w_nc_fid.variables[vari_list[vv]][:,yy,:] = omegaA_vol_underst_srf1_gt15[:,yy,:]\n",
    "                    elif vari_list[vv] in ['omegaA_vol_above15_top10']:\n",
    "                        w_nc_fid.variables[vari_list[vv]][:,yy,:] = omegaA_vol_underst_top10_1_gt15[:,yy,:]\n",
    "                    elif vari_list[vv] in ['omegaA_vol_above15_top20']:\n",
    "                        w_nc_fid.variables[vari_list[vv]][:,yy,:] = omegaA_vol_underst_top20_1_gt15[:,yy,:]\n",
    "                    elif vari_list[vv] in ['omegaA_vol_above15_top50']:\n",
    "                        w_nc_fid.variables[vari_list[vv]][:,yy,:] = omegaA_vol_underst_top50_1_gt15[:,yy,:]\n",
    "                    elif vari_list[vv] in ['omegaA_vol_above15_top100']:\n",
    "                        w_nc_fid.variables[vari_list[vv]][:,yy,:] = omegaA_vol_underst_top100_1_gt15[:,yy,:]\n",
    "                    elif vari_list[vv] in ['omegaA_vol_above15_top200']:\n",
    "                        w_nc_fid.variables[vari_list[vv]][:,yy,:] = omegaA_vol_underst_top200_1_gt15[:,yy,:]\n",
    "                    elif vari_list[vv] in ['omegaA_vol_above15_100_500']:\n",
    "                        w_nc_fid.variables[vari_list[vv]][:,yy,:] = omegaA_vol_underst_100_500_1_gt15[:,yy,:]\n",
    "                    elif vari_list[vv] in ['omegaA_vol_above15_below500']:\n",
    "                        w_nc_fid.variables[vari_list[vv]][:,yy,:] = omegaA_vol_underst_below500_1_gt15[:,yy,:]\n",
    "                    elif vari_list[vv] in ['omegaA_vol_above15_above2000']:\n",
    "                        w_nc_fid.variables[vari_list[vv]][:,yy,:] = omegaA_vol_underst_above2000_1_gt15[:,yy,:]\n",
    "                    elif vari_list[vv] in ['omegaA_vol_above15_water_column']:\n",
    "                        w_nc_fid.variables[vari_list[vv]][:,yy,:] = omegaA_vol_underst1_gt15[:,yy,:]\n",
    "                    elif vari_list[vv] in ['omegaA_vol_above15_0_10']:\n",
    "                        w_nc_fid.variables[vari_list[vv]][:,yy,:] = omegaA_vol_underst_0_10_1_gt15[:,yy,:]\n",
    "                    elif vari_list[vv] in ['omegaA_vol_above15_10_100']:\n",
    "                        w_nc_fid.variables[vari_list[vv]][:,yy,:] = omegaA_vol_underst_10_100_1_gt15[:,yy,:]\n",
    "                    #########\n",
    "                    elif vari_list[vv] in ['omegaC_vol_above15_srf']:\n",
    "                        w_nc_fid.variables[vari_list[vv]][:,yy,:] = omegaC_vol_underst_srf1_gt15[:,yy,:]\n",
    "                    elif vari_list[vv] in ['omegaC_vol_above15_top10']:\n",
    "                        w_nc_fid.variables[vari_list[vv]][:,yy,:] = omegaC_vol_underst_top10_1_gt15[:,yy,:]\n",
    "                    elif vari_list[vv] in ['omegaC_vol_above15_top20']:\n",
    "                        w_nc_fid.variables[vari_list[vv]][:,yy,:] = omegaC_vol_underst_top20_1_gt15[:,yy,:]\n",
    "                    elif vari_list[vv] in ['omegaC_vol_above15_top50']:\n",
    "                        w_nc_fid.variables[vari_list[vv]][:,yy,:] = omegaC_vol_underst_top50_1_gt15[:,yy,:]\n",
    "                    elif vari_list[vv] in ['omegaC_vol_above15_top100']:\n",
    "                        w_nc_fid.variables[vari_list[vv]][:,yy,:] = omegaC_vol_underst_top100_1_gt15[:,yy,:]\n",
    "                    elif vari_list[vv] in ['omegaC_vol_above15_top200']:\n",
    "                        w_nc_fid.variables[vari_list[vv]][:,yy,:] = omegaC_vol_underst_top200_1_gt15[:,yy,:]\n",
    "                    elif vari_list[vv] in ['omegaC_vol_above15_100_500']:\n",
    "                        w_nc_fid.variables[vari_list[vv]][:,yy,:] = omegaC_vol_underst_100_500_1_gt15[:,yy,:]\n",
    "                    elif vari_list[vv] in ['omegaC_vol_above15_below500']:\n",
    "                        w_nc_fid.variables[vari_list[vv]][:,yy,:] = omegaC_vol_underst_below500_1_gt15[:,yy,:]\n",
    "                    elif vari_list[vv] in ['omegaC_vol_above15_above2000']:\n",
    "                        w_nc_fid.variables[vari_list[vv]][:,yy,:] = omegaC_vol_underst_above2000_1_gt15[:,yy,:]\n",
    "                    elif vari_list[vv] in ['omegaC_vol_above15_water_column']:\n",
    "                        w_nc_fid.variables[vari_list[vv]][:,yy,:] = omegaC_vol_underst1_gt15[:,yy,:]\n",
    "                    elif vari_list[vv] in ['omegaC_vol_above15_0_10']:\n",
    "                        w_nc_fid.variables[vari_list[vv]][:,yy,:] = omegaC_vol_underst_0_10_1_gt15[:,yy,:]\n",
    "                    elif vari_list[vv] in ['omegaC_vol_above15_10_100']:\n",
    "                        w_nc_fid.variables[vari_list[vv]][:,yy,:] = omegaC_vol_underst_10_100_1_gt15[:,yy,:]\n",
    "                    #########\n",
    "                    elif vari_list[vv] in ['omegaA_vol_above2_srf']:\n",
    "                        w_nc_fid.variables[vari_list[vv]][:,yy,:] = omegaA_vol_underst_srf1_gt2[:,yy,:]\n",
    "                    elif vari_list[vv] in ['omegaA_vol_above2_top10']:\n",
    "                        w_nc_fid.variables[vari_list[vv]][:,yy,:] = omegaA_vol_underst_top10_1_gt2[:,yy,:]\n",
    "                    elif vari_list[vv] in ['omegaA_vol_above2_top20']:\n",
    "                        w_nc_fid.variables[vari_list[vv]][:,yy,:] = omegaA_vol_underst_top20_1_gt2[:,yy,:]\n",
    "                    elif vari_list[vv] in ['omegaA_vol_above2_top50']:\n",
    "                        w_nc_fid.variables[vari_list[vv]][:,yy,:] = omegaA_vol_underst_top50_1_gt2[:,yy,:]\n",
    "                    elif vari_list[vv] in ['omegaA_vol_above2_top100']:\n",
    "                        w_nc_fid.variables[vari_list[vv]][:,yy,:] = omegaA_vol_underst_top100_1_gt2[:,yy,:]\n",
    "                    elif vari_list[vv] in ['omegaA_vol_above2_top200']:\n",
    "                        w_nc_fid.variables[vari_list[vv]][:,yy,:] = omegaA_vol_underst_top200_1_gt2[:,yy,:]\n",
    "                    elif vari_list[vv] in ['omegaA_vol_above2_100_500']:\n",
    "                        w_nc_fid.variables[vari_list[vv]][:,yy,:] = omegaA_vol_underst_100_500_1_gt2[:,yy,:]\n",
    "                    elif vari_list[vv] in ['omegaA_vol_above2_below500']:\n",
    "                        w_nc_fid.variables[vari_list[vv]][:,yy,:] = omegaA_vol_underst_below500_1_gt2[:,yy,:]\n",
    "                    elif vari_list[vv] in ['omegaA_vol_above2_above2000']:\n",
    "                        w_nc_fid.variables[vari_list[vv]][:,yy,:] = omegaA_vol_underst_above2000_1_gt2[:,yy,:]\n",
    "                    elif vari_list[vv] in ['omegaA_vol_above2_water_column']:\n",
    "                        w_nc_fid.variables[vari_list[vv]][:,yy,:] = omegaA_vol_underst1_gt2[:,yy,:]\n",
    "                    elif vari_list[vv] in ['omegaA_vol_above2_0_10']:\n",
    "                        w_nc_fid.variables[vari_list[vv]][:,yy,:] = omegaA_vol_underst_0_10_1_gt2[:,yy,:]\n",
    "                    elif vari_list[vv] in ['omegaA_vol_above2_10_100']:\n",
    "                        w_nc_fid.variables[vari_list[vv]][:,yy,:] = omegaA_vol_underst_10_100_1_gt2[:,yy,:]\n",
    "                    #########\n",
    "                    elif vari_list[vv] in ['omegaC_vol_above2_srf']:\n",
    "                        w_nc_fid.variables[vari_list[vv]][:,yy,:] = omegaC_vol_underst_srf1_gt2[:,yy,:]\n",
    "                    elif vari_list[vv] in ['omegaC_vol_above2_top10']:\n",
    "                        w_nc_fid.variables[vari_list[vv]][:,yy,:] = omegaC_vol_underst_top10_1_gt2[:,yy,:]\n",
    "                    elif vari_list[vv] in ['omegaC_vol_above2_top20']:\n",
    "                        w_nc_fid.variables[vari_list[vv]][:,yy,:] = omegaC_vol_underst_top20_1_gt2[:,yy,:]\n",
    "                    elif vari_list[vv] in ['omegaC_vol_above2_top50']:\n",
    "                        w_nc_fid.variables[vari_list[vv]][:,yy,:] = omegaC_vol_underst_top50_1_gt2[:,yy,:]\n",
    "                    elif vari_list[vv] in ['omegaC_vol_above2_top100']:\n",
    "                        w_nc_fid.variables[vari_list[vv]][:,yy,:] = omegaC_vol_underst_top100_1_gt2[:,yy,:]\n",
    "                    elif vari_list[vv] in ['omegaC_vol_above2_top200']:\n",
    "                        w_nc_fid.variables[vari_list[vv]][:,yy,:] = omegaC_vol_underst_top200_1_gt2[:,yy,:]\n",
    "                    elif vari_list[vv] in ['omegaC_vol_above2_100_500']:\n",
    "                        w_nc_fid.variables[vari_list[vv]][:,yy,:] = omegaC_vol_underst_100_500_1_gt2[:,yy,:]\n",
    "                    elif vari_list[vv] in ['omegaC_vol_above2_below500']:\n",
    "                        w_nc_fid.variables[vari_list[vv]][:,yy,:] = omegaC_vol_underst_below500_1_gt2[:,yy,:]\n",
    "                    elif vari_list[vv] in ['omegaC_vol_above2_above2000']:\n",
    "                        w_nc_fid.variables[vari_list[vv]][:,yy,:] = omegaC_vol_underst_above2000_1_gt2[:,yy,:]\n",
    "                    elif vari_list[vv] in ['omegaC_vol_above2_water_column']:\n",
    "                        w_nc_fid.variables[vari_list[vv]][:,yy,:] = omegaC_vol_underst1_gt2[:,yy,:]\n",
    "                    elif vari_list[vv] in ['omegaC_vol_above2_0_10']:\n",
    "                        w_nc_fid.variables[vari_list[vv]][:,yy,:] = omegaC_vol_underst_0_10_1_gt2[:,yy,:]\n",
    "                    elif vari_list[vv] in ['omegaC_vol_above2_10_100']:\n",
    "                        w_nc_fid.variables[vari_list[vv]][:,yy,:] = omegaC_vol_underst_10_100_1_gt2[:,yy,:]\n",
    "\n",
    "                    w_nc_fid.close()  \n",
    "                del netcdf_name\n",
    "\n",
    "                            \n",
    "\n",
    "    # close netcdf files\n",
    "    f1.close()\n",
    "    f2.close()\n",
    "    f3.close()\n",
    "\n",
    "print ('done')\n"
   ]
  },
  {
   "cell_type": "code",
   "execution_count": null,
   "metadata": {},
   "outputs": [],
   "source": []
  },
  {
   "cell_type": "code",
   "execution_count": null,
   "metadata": {},
   "outputs": [],
   "source": []
  },
  {
   "cell_type": "code",
   "execution_count": null,
   "metadata": {},
   "outputs": [],
   "source": []
  }
 ],
 "metadata": {
  "kernelspec": {
   "display_name": "myenv-jupyter",
   "language": "python",
   "name": "myenv-jupyter"
  },
  "language_info": {
   "codemirror_mode": {
    "name": "ipython",
    "version": 3
   },
   "file_extension": ".py",
   "mimetype": "text/x-python",
   "name": "python",
   "nbconvert_exporter": "python",
   "pygments_lexer": "ipython3",
   "version": "3.9.12"
  }
 },
 "nbformat": 4,
 "nbformat_minor": 4
}
