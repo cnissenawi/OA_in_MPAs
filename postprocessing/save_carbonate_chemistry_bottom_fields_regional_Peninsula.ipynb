{
 "cells": [
  {
   "cell_type": "markdown",
   "metadata": {},
   "source": [
    "# Nissen et al., 2023: Severe 21st-century OA in Antarctic MPAs\n",
    "#\n",
    "# script to save regional averages of bottom fields of omega aragonite, omega calcite and pH as netcdf files\n",
    "# Antarctic Peninsula only!\n",
    "# requires full model output\n",
    "# note that some paths are hard-coded throughout the script"
   ]
  },
  {
   "cell_type": "code",
   "execution_count": 1,
   "metadata": {
    "tags": []
   },
   "outputs": [],
   "source": [
    "import sys\n",
    "import os\n",
    "import matplotlib.pyplot as plt\n",
    "import numpy as np\n",
    "from scipy.interpolate import griddata\n",
    "from matplotlib import cm\n",
    "from netCDF4 import Dataset, MFDataset\n",
    "import pandas as pd"
   ]
  },
  {
   "cell_type": "code",
   "execution_count": 2,
   "metadata": {
    "tags": []
   },
   "outputs": [
    {
     "name": "stdout",
     "output_type": "stream",
     "text": [
      "(72411,)\n"
     ]
    }
   ],
   "source": [
    "#------\n",
    "# MODEL INFO\n",
    "#------\n",
    "    \n",
    "# load mesh\n",
    "path_mesh = '/pscratch/sd/c/cnissen/'\n",
    "file_mesh = 'Nissen2022_FESOM_REcoM_mesh_information_corrected_20220910.nc'\n",
    "\n",
    "f1 = Dataset(path_mesh+file_mesh) #xr.open_dataset(path+file1)\n",
    "lat      = f1.variables['lat'][:]\n",
    "lon      = f1.variables['lon'][:]\n",
    "zlevs    = f1.variables['zlevs'][:]\n",
    "cavities = f1.variables['cavity'][:]\n",
    "topo     = f1.variables['topo'][:]\n",
    "area     = f1.variables['cell_area'][:]\n",
    "volume   = f1.variables['cell_volume'][:]\n",
    "f1.close()\n",
    "print(lat.shape)\n",
    "ind_cavities = np.where(cavities==1)[0]\n"
   ]
  },
  {
   "cell_type": "code",
   "execution_count": 3,
   "metadata": {
    "tags": []
   },
   "outputs": [],
   "source": [
    "#----\n",
    "# FUNCTIONS\n",
    "#----\n",
    "\n",
    "# get subareas based on lat only\n",
    "def get_subarea_indices_sectors_lat_only(lat,lon):\n",
    "    #subareas  = ['Larsen/FRIS','eWeddell','Amery/Australian','Ross Sea','Amundsen/Bellingh']\n",
    "    \n",
    "    lat_threshold = -60 #-60 # 0=all SH data\n",
    "        \n",
    "    ross1 = 150 #160\n",
    "    ross2 = -130 # -145\n",
    "    \n",
    "    eWeddell1 = -10\n",
    "    \n",
    "    print ('Subareas: south of '+str(-1*lat_threshold)+'°S...')\n",
    "        \n",
    "    shelf_ind = np.zeros(len(lon))\n",
    "    for i in range(1,len(lon)+1):\n",
    "        dd = lon[i-1]\n",
    "        if lat[i-1]<lat_threshold and dd>-52 and dd<eWeddell1: # Filchner-Ronne & Larsen \n",
    "            shelf_ind[i-1]=1\n",
    "        elif lat[i-1]<-74 and dd>-85 and dd<eWeddell1: # Filchner-Ronne & Larsen in the very south\n",
    "            shelf_ind[i-1]=1\n",
    "        elif lat[i-1]<lat_threshold and dd>eWeddell1 and dd<30: # eWeddell\n",
    "            shelf_ind[i-1]=6\n",
    "        elif lat[i-1]<lat_threshold and dd>30 and dd<90: # Prydz\n",
    "            shelf_ind[i-1]=2\n",
    "        elif lat[i-1]<lat_threshold and dd>90 and dd<ross1: # Amery & Australian\n",
    "            shelf_ind[i-1]=3\n",
    "        elif lat[i-1]<lat_threshold and dd>ross1:  # Ross Sea \n",
    "            shelf_ind[i-1]=4\n",
    "        elif lat[i-1]<lat_threshold and dd<ross2:   # Ross Sea\n",
    "            shelf_ind[i-1]=4\n",
    "        elif lat[i-1]<lat_threshold and dd>ross2 and dd<-69: #dd<-66: # Amundsen & Bellinghausen\n",
    "            shelf_ind[i-1]=5\n",
    "        elif lat[i-1]<lat_threshold and dd>-69 and dd<-52: #dd<-66: # Antarctic Peninsula\n",
    "            wap_lat = -70\n",
    "            if lat[i-1]>wap_lat:\n",
    "                shelf_ind[i-1]=7 # pensinsula\n",
    "            else:\n",
    "                #shelf_ind[i-1]=7 \n",
    "                # now find correct separation between Amundsen & Weddell Sea\n",
    "                if dd>-66:\n",
    "                    shelf_ind[i-1]=1\n",
    "                else:\n",
    "                    shelf_ind[i-1]=5\n",
    "                    \n",
    "            \n",
    "        # now find correct separation between Amundsen & Weddell Sea\n",
    "        #if lat[i-1]<=wap_lat:\n",
    "                       \n",
    " #       # now find correct separation between Amundsen & Weddell Sea\n",
    " #       if lat[i-1]<-66 and dd>-63 and dd<eWeddell1: # Filchner-Ronne & Larsen & eastern WS\n",
    " #           shelf_ind[i-1]=1\n",
    " #       if lat[i-1]<-66 and lat[i-1]>-70 and dd>-64.5 and dd<eWeddell1: # Filchner-Ronne & Larsen & eastern WS\n",
    " #           shelf_ind[i-1]=1\n",
    " #       if lat[i-1]<-66.8 and lat[i-1]>-70 and dd>-66 and dd<eWeddell1: # Filchner-Ronne & Larsen & eastern WS\n",
    " #           shelf_ind[i-1]=1\n",
    " #       if lat[i-1]<-64 and lat[i-1]>-66 and dd>-60.6 and dd<eWeddell1: # Filchner-Ronne & Larsen & eastern WS\n",
    " #           shelf_ind[i-1]=1\n",
    " #       if lat[i-1]<-64.8 and lat[i-1]>-66 and dd>-62.4 and dd<eWeddell1: # Filchner-Ronne & Larsen & eastern WS\n",
    " #           shelf_ind[i-1]=1\n",
    " #       if lat[i-1]<-64.7 and lat[i-1]>-65.9 and dd>-62.2 and dd<eWeddell1: # Filchner-Ronne & Larsen & eastern WS\n",
    " #           shelf_ind[i-1]=1\n",
    " #       if lat[i-1]<-63.4 and lat[i-1]>-64.5 and dd>-58 and dd<eWeddell1: # Filchner-Ronne & Larsen & eastern WS\n",
    " #           shelf_ind[i-1]=1\n",
    "            \n",
    "    return shelf_ind"
   ]
  },
  {
   "cell_type": "code",
   "execution_count": 4,
   "metadata": {
    "tags": []
   },
   "outputs": [
    {
     "name": "stdout",
     "output_type": "stream",
     "text": [
      "Subareas: south of 60°S...\n",
      "0.0 7.0\n"
     ]
    }
   ],
   "source": [
    "#---\n",
    "# plot map of subregions\n",
    "#----\n",
    "\n",
    "shelf_ind = get_subarea_indices_sectors_lat_only(lat,lon)\n",
    "\n",
    "ind = np.where((topo>2000) & (cavities==0))[0]\n",
    "shelf_ind[ind]=0\n",
    "shelf_ind[cavities==1]=0\n",
    "\n",
    "weddell = np.zeros_like(shelf_ind)\n",
    "weddell[shelf_ind==1]=1\n",
    "\n",
    "eWeddell = np.zeros_like(shelf_ind)\n",
    "eWeddell[shelf_ind==6]=1\n",
    "\n",
    "prydz = np.zeros_like(shelf_ind)\n",
    "prydz[shelf_ind==2]=1\n",
    "\n",
    "adelie = np.zeros_like(shelf_ind)\n",
    "adelie[shelf_ind==3]=1\n",
    "\n",
    "ross = np.zeros_like(shelf_ind)\n",
    "ross[shelf_ind==4]=1\n",
    "\n",
    "amundsen = np.zeros_like(shelf_ind)\n",
    "amundsen[shelf_ind==5]=1\n",
    "\n",
    "wap = np.zeros_like(shelf_ind)\n",
    "wap[shelf_ind==7]=1\n",
    "\n",
    "#----\n",
    "# get masks for MPAs\n",
    "#----\n",
    "\n",
    "path1 = '/pscratch/sd/c/cnissen/HLRN_runs_postprocessed/masks/masks_MPAs/'\n",
    "\n",
    "f1 = Dataset(path1+'MPA_mask_AntarcticPeninsula_fesom_mesh_COARZE.nc')\n",
    "mask_WAP_MPA = f1.variables['mask_fesom'][:]\n",
    "f1.close()\n",
    "f1 = Dataset(path1+'MPA_mask_East_Antarctica_1_fesom_mesh_COARZE.nc')\n",
    "mask_eastAA1_MPA = f1.variables['mask_fesom'][:]\n",
    "f1.close()\n",
    "f1 = Dataset(path1+'MPA_mask_East_Antarctica_2_fesom_mesh_COARZE.nc')\n",
    "mask_eastAA2_MPA = f1.variables['mask_fesom'][:]\n",
    "f1.close()\n",
    "f1 = Dataset(path1+'MPA_mask_East_Antarctica_3_fesom_mesh_COARZE.nc')\n",
    "mask_eastAA3_MPA = f1.variables['mask_fesom'][:]\n",
    "f1.close()\n",
    "f1 = Dataset(path1+'MPA_mask_Orkney_fesom_mesh_COARZE.nc')\n",
    "mask_Orkney_MPA = f1.variables['mask_fesom'][:]\n",
    "f1.close()\n",
    "f1 = Dataset(path1+'MPA_mask_RossSea_fesom_mesh_COARZE.nc')\n",
    "mask_RossSea_MPA = f1.variables['mask_fesom'][:]\n",
    "f1.close()\n",
    "f1 = Dataset(path1+'MPA_mask_WeddellSea_fesom_mesh_COARZE.nc')\n",
    "mask_WeddellSea_MPA = f1.variables['mask_fesom'][:]\n",
    "f1.close()\n",
    "\n",
    "#------------\n",
    "\n",
    "subareas  = ['Larsen/FRIS','eWeddell','Amery/Australian','Ross Sea','Amundsen/Bellingh',\\\n",
    "             'south of SR4','south of 60S']\n",
    "subareas = ['south of SR4']\n",
    "# ADD \"south_of_SR4\" and \"south_of_60S\"\n",
    "# additionally, load masks for \"south of SR4\" and \"south of 60\n",
    "path_mask_SR4 = '/pscratch/sd/c/cnissen/HLRN_runs_postprocessed/masks/mask_south_of_transect_SR4.nc'\n",
    "path_mask_60S = '/pscratch/sd/c/cnissen/HLRN_runs_postprocessed/masks/mask_south_of_transect_60S.nc'\n",
    "path_mask_shelfBreak = '/pscratch/sd/c/cnissen/HLRN_runs_postprocessed/masks/mask_south_of_transect_shelf_break.nc'\n",
    "fileSR4 = Dataset(path_mask_SR4)\n",
    "file60S = Dataset(path_mask_60S)\n",
    "file_shelfBreak = Dataset(path_mask_shelfBreak)\n",
    "maskSR4 = fileSR4.variables['mask'][:]\n",
    "mask60S = file60S.variables['mask'][:]\n",
    "mask_shelfBreak = file_shelfBreak.variables['mask'][:]\n",
    "\n",
    "print (np.min(shelf_ind),np.max(shelf_ind))\n",
    "latlim = -60\n",
    "depth_threshold = 2000\n",
    "\n",
    "#-----\n",
    "# plot map of where subareas are\n",
    "#-----\n",
    "\n",
    "from matplotlib.colors import ListedColormap\n",
    "\n",
    "# make the color map:\n",
    "cmap1 = ListedColormap(['white','darkblue','cornflowerblue','firebrick',\\\n",
    "                        'gold','orange','mediumpurple','violet','mediumturquoise'])\n",
    "cmap1 = ListedColormap(['white',(51./255.,34./255.,136./255.),(136./255.,204./255.,238./255.),\\\n",
    "                  (68./255.,170./255.,153./255.),(17./255.,119./255.,51./255.),\\\n",
    "                  (153./255.,153./255.,51./255.),(221./255.,204./255.,119./255.),\\\n",
    "                   (204./255.,102./255.,119./255.),(136./255.,34./255.,85./255.)])\n",
    "\n",
    "levels1 = np.arange(0,10,1)\n",
    "\n",
    "plot_regions = False\n",
    "if plot_regions:\n",
    "    dpicnt = 200\n",
    "    elem_no_nan = mesh.elem[mesh.no_cyclic_elem,:]\n",
    "\n",
    "    fig8= plt.figure(num=18, figsize=(4,3), dpi=200, facecolor='w', edgecolor='k')\n",
    "    map = Basemap(projection='spstere',boundinglat=-60,lon_0=-180,resolution='l')\n",
    "    #map.drawcoastlines()\n",
    "    map.drawcountries()#\n",
    "    map.drawmapboundary(fill_color='0.7')\n",
    "    x, y = map(mesh.x2, mesh.y2)\n",
    "    shelf_ind[shelf_ind==0]=-999\n",
    "    mm=plt.tricontourf(x, y, elem_no_nan[::], shelf_ind, levels = levels1, \\\n",
    "                        cmap=cmap1, extend='both') #,vmin=-4, vmax=4)\n",
    "    cbar = plt.colorbar(orientation='horizontal',fraction=0.075, pad=0.03,shrink=0.75)# ,ticks=cticks)\n",
    "    #cbar.cmap.set_under('white')\n",
    "    cbar.remove() \n",
    "    #plt.draw()\n",
    "    lw = 1.2\n",
    "\n",
    "    topo_plot = np.copy(mesh.topo)\n",
    "    topo_plot[cavities==1]=-999\n",
    "    m2=plt.tricontour(x, y, elem_no_nan[::], topo_plot, levels = [2000],linewidths=[lw],colors=['black'])\n",
    "\n",
    "    save_plot = False\n",
    "    if save_plot:\n",
    "        plt.savefig(savepath1+'Map_subareas_for_C_anth_analysis.png',\\\n",
    "                                            dpi = dpicnt, bbox_inches='tight') \n",
    "    plt.show()\n",
    "    #plt.close(fig8)\n",
    "\n",
    "# Weddell\n",
    "# eWeddell\n",
    "# Prydz\n",
    "# Adelie\n",
    "# Ross\n",
    "# Amundsen/Bellinghausen\n",
    "# Antarctic Pensinsula\n"
   ]
  },
  {
   "cell_type": "code",
   "execution_count": 6,
   "metadata": {
    "tags": []
   },
   "outputs": [
    {
     "name": "stdout",
     "output_type": "stream",
     "text": [
      "Process year 1990 of simAssp585\n"
     ]
    },
    {
     "name": "stderr",
     "output_type": "stream",
     "text": [
      "100%|██████████| 12/12 [00:16<00:00,  1.39s/it]\n"
     ]
    },
    {
     "name": "stdout",
     "output_type": "stream",
     "text": [
      "Process year 1991 of simAssp585\n"
     ]
    },
    {
     "name": "stderr",
     "output_type": "stream",
     "text": [
      "100%|██████████| 12/12 [00:17<00:00,  1.43s/it]\n"
     ]
    },
    {
     "name": "stdout",
     "output_type": "stream",
     "text": [
      "Process year 1992 of simAssp585\n"
     ]
    },
    {
     "name": "stderr",
     "output_type": "stream",
     "text": [
      "100%|██████████| 12/12 [00:15<00:00,  1.30s/it]\n"
     ]
    },
    {
     "name": "stdout",
     "output_type": "stream",
     "text": [
      "Process year 1993 of simAssp585\n"
     ]
    },
    {
     "name": "stderr",
     "output_type": "stream",
     "text": [
      "100%|██████████| 12/12 [00:15<00:00,  1.29s/it]\n"
     ]
    },
    {
     "name": "stdout",
     "output_type": "stream",
     "text": [
      "Process year 1994 of simAssp585\n"
     ]
    },
    {
     "name": "stderr",
     "output_type": "stream",
     "text": [
      "100%|██████████| 12/12 [00:15<00:00,  1.31s/it]\n"
     ]
    },
    {
     "name": "stdout",
     "output_type": "stream",
     "text": [
      "Process year 1995 of simAssp585\n"
     ]
    },
    {
     "name": "stderr",
     "output_type": "stream",
     "text": [
      "100%|██████████| 12/12 [00:15<00:00,  1.30s/it]\n"
     ]
    },
    {
     "name": "stdout",
     "output_type": "stream",
     "text": [
      "Process year 1996 of simAssp585\n"
     ]
    },
    {
     "name": "stderr",
     "output_type": "stream",
     "text": [
      "100%|██████████| 12/12 [00:16<00:00,  1.40s/it]\n"
     ]
    },
    {
     "name": "stdout",
     "output_type": "stream",
     "text": [
      "Process year 1997 of simAssp585\n"
     ]
    },
    {
     "name": "stderr",
     "output_type": "stream",
     "text": [
      "100%|██████████| 12/12 [00:16<00:00,  1.37s/it]\n"
     ]
    },
    {
     "name": "stdout",
     "output_type": "stream",
     "text": [
      "Process year 1998 of simAssp585\n"
     ]
    },
    {
     "name": "stderr",
     "output_type": "stream",
     "text": [
      "100%|██████████| 12/12 [00:15<00:00,  1.32s/it]\n"
     ]
    },
    {
     "name": "stdout",
     "output_type": "stream",
     "text": [
      "Process year 1999 of simAssp585\n"
     ]
    },
    {
     "name": "stderr",
     "output_type": "stream",
     "text": [
      "100%|██████████| 12/12 [00:16<00:00,  1.39s/it]\n"
     ]
    },
    {
     "name": "stdout",
     "output_type": "stream",
     "text": [
      "Process year 2000 of simAssp585\n"
     ]
    },
    {
     "name": "stderr",
     "output_type": "stream",
     "text": [
      "100%|██████████| 12/12 [00:18<00:00,  1.54s/it]\n"
     ]
    },
    {
     "name": "stdout",
     "output_type": "stream",
     "text": [
      "Process year 2001 of simAssp585\n"
     ]
    },
    {
     "name": "stderr",
     "output_type": "stream",
     "text": [
      "100%|██████████| 12/12 [00:18<00:00,  1.53s/it]\n"
     ]
    },
    {
     "name": "stdout",
     "output_type": "stream",
     "text": [
      "Process year 2002 of simAssp585\n"
     ]
    },
    {
     "name": "stderr",
     "output_type": "stream",
     "text": [
      "100%|██████████| 12/12 [00:18<00:00,  1.54s/it]\n"
     ]
    },
    {
     "name": "stdout",
     "output_type": "stream",
     "text": [
      "Process year 2003 of simAssp585\n"
     ]
    },
    {
     "name": "stderr",
     "output_type": "stream",
     "text": [
      "100%|██████████| 12/12 [00:17<00:00,  1.42s/it]\n"
     ]
    },
    {
     "name": "stdout",
     "output_type": "stream",
     "text": [
      "Process year 2004 of simAssp585\n"
     ]
    },
    {
     "name": "stderr",
     "output_type": "stream",
     "text": [
      "100%|██████████| 12/12 [00:17<00:00,  1.47s/it]\n"
     ]
    },
    {
     "name": "stdout",
     "output_type": "stream",
     "text": [
      "Process year 2005 of simAssp585\n"
     ]
    },
    {
     "name": "stderr",
     "output_type": "stream",
     "text": [
      "100%|██████████| 12/12 [00:17<00:00,  1.42s/it]\n"
     ]
    },
    {
     "name": "stdout",
     "output_type": "stream",
     "text": [
      "Process year 2006 of simAssp585\n"
     ]
    },
    {
     "name": "stderr",
     "output_type": "stream",
     "text": [
      "100%|██████████| 12/12 [00:18<00:00,  1.55s/it]\n"
     ]
    },
    {
     "name": "stdout",
     "output_type": "stream",
     "text": [
      "Process year 2007 of simAssp585\n"
     ]
    },
    {
     "name": "stderr",
     "output_type": "stream",
     "text": [
      "100%|██████████| 12/12 [00:18<00:00,  1.50s/it]\n"
     ]
    },
    {
     "name": "stdout",
     "output_type": "stream",
     "text": [
      "Process year 2008 of simAssp585\n"
     ]
    },
    {
     "name": "stderr",
     "output_type": "stream",
     "text": [
      "100%|██████████| 12/12 [00:17<00:00,  1.44s/it]\n"
     ]
    },
    {
     "name": "stdout",
     "output_type": "stream",
     "text": [
      "Process year 2009 of simAssp585\n"
     ]
    },
    {
     "name": "stderr",
     "output_type": "stream",
     "text": [
      "100%|██████████| 12/12 [00:20<00:00,  1.73s/it]\n"
     ]
    },
    {
     "name": "stdout",
     "output_type": "stream",
     "text": [
      "Process year 2010 of simAssp585\n"
     ]
    },
    {
     "name": "stderr",
     "output_type": "stream",
     "text": [
      "100%|██████████| 12/12 [00:19<00:00,  1.64s/it]\n"
     ]
    },
    {
     "name": "stdout",
     "output_type": "stream",
     "text": [
      "Process year 2011 of simAssp585\n"
     ]
    },
    {
     "name": "stderr",
     "output_type": "stream",
     "text": [
      "100%|██████████| 12/12 [00:18<00:00,  1.56s/it]\n"
     ]
    },
    {
     "name": "stdout",
     "output_type": "stream",
     "text": [
      "Process year 2012 of simAssp585\n"
     ]
    },
    {
     "name": "stderr",
     "output_type": "stream",
     "text": [
      "100%|██████████| 12/12 [00:19<00:00,  1.64s/it]\n"
     ]
    },
    {
     "name": "stdout",
     "output_type": "stream",
     "text": [
      "Process year 2013 of simAssp585\n"
     ]
    },
    {
     "name": "stderr",
     "output_type": "stream",
     "text": [
      "100%|██████████| 12/12 [00:18<00:00,  1.56s/it]\n"
     ]
    },
    {
     "name": "stdout",
     "output_type": "stream",
     "text": [
      "Process year 2014 of simAssp585\n"
     ]
    },
    {
     "name": "stderr",
     "output_type": "stream",
     "text": [
      "100%|██████████| 12/12 [00:16<00:00,  1.39s/it]\n"
     ]
    },
    {
     "name": "stdout",
     "output_type": "stream",
     "text": [
      "Process year 2015 of simAssp585\n"
     ]
    },
    {
     "name": "stderr",
     "output_type": "stream",
     "text": [
      "100%|██████████| 12/12 [00:16<00:00,  1.39s/it]\n"
     ]
    },
    {
     "name": "stdout",
     "output_type": "stream",
     "text": [
      "Process year 2016 of simAssp585\n"
     ]
    },
    {
     "name": "stderr",
     "output_type": "stream",
     "text": [
      "100%|██████████| 12/12 [00:16<00:00,  1.35s/it]\n"
     ]
    },
    {
     "name": "stdout",
     "output_type": "stream",
     "text": [
      "Process year 2017 of simAssp585\n"
     ]
    },
    {
     "name": "stderr",
     "output_type": "stream",
     "text": [
      "100%|██████████| 12/12 [00:20<00:00,  1.69s/it]\n"
     ]
    },
    {
     "name": "stdout",
     "output_type": "stream",
     "text": [
      "Process year 2018 of simAssp585\n"
     ]
    },
    {
     "name": "stderr",
     "output_type": "stream",
     "text": [
      "100%|██████████| 12/12 [00:18<00:00,  1.51s/it]\n"
     ]
    },
    {
     "name": "stdout",
     "output_type": "stream",
     "text": [
      "Process year 2019 of simAssp585\n"
     ]
    },
    {
     "name": "stderr",
     "output_type": "stream",
     "text": [
      "100%|██████████| 12/12 [00:18<00:00,  1.52s/it]\n"
     ]
    },
    {
     "name": "stdout",
     "output_type": "stream",
     "text": [
      "Process year 2020 of simAssp585\n"
     ]
    },
    {
     "name": "stderr",
     "output_type": "stream",
     "text": [
      "100%|██████████| 12/12 [00:18<00:00,  1.52s/it]\n"
     ]
    },
    {
     "name": "stdout",
     "output_type": "stream",
     "text": [
      "Process year 2021 of simAssp585\n"
     ]
    },
    {
     "name": "stderr",
     "output_type": "stream",
     "text": [
      "100%|██████████| 12/12 [00:17<00:00,  1.44s/it]\n"
     ]
    },
    {
     "name": "stdout",
     "output_type": "stream",
     "text": [
      "Process year 2022 of simAssp585\n"
     ]
    },
    {
     "name": "stderr",
     "output_type": "stream",
     "text": [
      "100%|██████████| 12/12 [00:17<00:00,  1.46s/it]\n"
     ]
    },
    {
     "name": "stdout",
     "output_type": "stream",
     "text": [
      "Process year 2023 of simAssp585\n"
     ]
    },
    {
     "name": "stderr",
     "output_type": "stream",
     "text": [
      "100%|██████████| 12/12 [00:18<00:00,  1.51s/it]\n"
     ]
    },
    {
     "name": "stdout",
     "output_type": "stream",
     "text": [
      "Process year 2024 of simAssp585\n"
     ]
    },
    {
     "name": "stderr",
     "output_type": "stream",
     "text": [
      "100%|██████████| 12/12 [00:17<00:00,  1.46s/it]\n"
     ]
    },
    {
     "name": "stdout",
     "output_type": "stream",
     "text": [
      "Process year 2025 of simAssp585\n"
     ]
    },
    {
     "name": "stderr",
     "output_type": "stream",
     "text": [
      "100%|██████████| 12/12 [00:17<00:00,  1.47s/it]\n"
     ]
    },
    {
     "name": "stdout",
     "output_type": "stream",
     "text": [
      "Process year 2026 of simAssp585\n"
     ]
    },
    {
     "name": "stderr",
     "output_type": "stream",
     "text": [
      "100%|██████████| 12/12 [00:17<00:00,  1.44s/it]\n"
     ]
    },
    {
     "name": "stdout",
     "output_type": "stream",
     "text": [
      "Process year 2027 of simAssp585\n"
     ]
    },
    {
     "name": "stderr",
     "output_type": "stream",
     "text": [
      "100%|██████████| 12/12 [00:16<00:00,  1.40s/it]\n"
     ]
    },
    {
     "name": "stdout",
     "output_type": "stream",
     "text": [
      "Process year 2028 of simAssp585\n"
     ]
    },
    {
     "name": "stderr",
     "output_type": "stream",
     "text": [
      "100%|██████████| 12/12 [00:17<00:00,  1.45s/it]\n"
     ]
    },
    {
     "name": "stdout",
     "output_type": "stream",
     "text": [
      "Process year 2029 of simAssp585\n"
     ]
    },
    {
     "name": "stderr",
     "output_type": "stream",
     "text": [
      "100%|██████████| 12/12 [00:17<00:00,  1.47s/it]\n"
     ]
    },
    {
     "name": "stdout",
     "output_type": "stream",
     "text": [
      "Process year 2030 of simAssp585\n"
     ]
    },
    {
     "name": "stderr",
     "output_type": "stream",
     "text": [
      "100%|██████████| 12/12 [00:17<00:00,  1.45s/it]\n"
     ]
    },
    {
     "name": "stdout",
     "output_type": "stream",
     "text": [
      "Process year 2031 of simAssp585\n"
     ]
    },
    {
     "name": "stderr",
     "output_type": "stream",
     "text": [
      "100%|██████████| 12/12 [00:16<00:00,  1.40s/it]\n"
     ]
    },
    {
     "name": "stdout",
     "output_type": "stream",
     "text": [
      "Process year 2032 of simAssp585\n"
     ]
    },
    {
     "name": "stderr",
     "output_type": "stream",
     "text": [
      "100%|██████████| 12/12 [00:17<00:00,  1.45s/it]\n"
     ]
    },
    {
     "name": "stdout",
     "output_type": "stream",
     "text": [
      "Process year 2033 of simAssp585\n"
     ]
    },
    {
     "name": "stderr",
     "output_type": "stream",
     "text": [
      "100%|██████████| 12/12 [00:16<00:00,  1.40s/it]\n"
     ]
    },
    {
     "name": "stdout",
     "output_type": "stream",
     "text": [
      "Process year 2034 of simAssp585\n"
     ]
    },
    {
     "name": "stderr",
     "output_type": "stream",
     "text": [
      "100%|██████████| 12/12 [00:16<00:00,  1.38s/it]\n"
     ]
    },
    {
     "name": "stdout",
     "output_type": "stream",
     "text": [
      "Process year 2035 of simAssp585\n"
     ]
    },
    {
     "name": "stderr",
     "output_type": "stream",
     "text": [
      "100%|██████████| 12/12 [00:16<00:00,  1.40s/it]\n"
     ]
    },
    {
     "name": "stdout",
     "output_type": "stream",
     "text": [
      "Process year 2036 of simAssp585\n"
     ]
    },
    {
     "name": "stderr",
     "output_type": "stream",
     "text": [
      "100%|██████████| 12/12 [00:16<00:00,  1.38s/it]\n"
     ]
    },
    {
     "name": "stdout",
     "output_type": "stream",
     "text": [
      "Process year 2037 of simAssp585\n"
     ]
    },
    {
     "name": "stderr",
     "output_type": "stream",
     "text": [
      "100%|██████████| 12/12 [00:16<00:00,  1.40s/it]\n"
     ]
    },
    {
     "name": "stdout",
     "output_type": "stream",
     "text": [
      "Process year 2038 of simAssp585\n"
     ]
    },
    {
     "name": "stderr",
     "output_type": "stream",
     "text": [
      "100%|██████████| 12/12 [00:16<00:00,  1.41s/it]\n"
     ]
    },
    {
     "name": "stdout",
     "output_type": "stream",
     "text": [
      "Process year 2039 of simAssp585\n"
     ]
    },
    {
     "name": "stderr",
     "output_type": "stream",
     "text": [
      "100%|██████████| 12/12 [00:16<00:00,  1.39s/it]\n"
     ]
    },
    {
     "name": "stdout",
     "output_type": "stream",
     "text": [
      "Process year 2040 of simAssp585\n"
     ]
    },
    {
     "name": "stderr",
     "output_type": "stream",
     "text": [
      "100%|██████████| 12/12 [00:17<00:00,  1.42s/it]\n"
     ]
    },
    {
     "name": "stdout",
     "output_type": "stream",
     "text": [
      "Process year 2041 of simAssp585\n"
     ]
    },
    {
     "name": "stderr",
     "output_type": "stream",
     "text": [
      "100%|██████████| 12/12 [00:18<00:00,  1.53s/it]\n"
     ]
    },
    {
     "name": "stdout",
     "output_type": "stream",
     "text": [
      "Process year 2042 of simAssp585\n"
     ]
    },
    {
     "name": "stderr",
     "output_type": "stream",
     "text": [
      "100%|██████████| 12/12 [00:17<00:00,  1.42s/it]\n"
     ]
    },
    {
     "name": "stdout",
     "output_type": "stream",
     "text": [
      "Process year 2043 of simAssp585\n"
     ]
    },
    {
     "name": "stderr",
     "output_type": "stream",
     "text": [
      "100%|██████████| 12/12 [00:16<00:00,  1.37s/it]\n"
     ]
    },
    {
     "name": "stdout",
     "output_type": "stream",
     "text": [
      "Process year 2044 of simAssp585\n"
     ]
    },
    {
     "name": "stderr",
     "output_type": "stream",
     "text": [
      "100%|██████████| 12/12 [00:17<00:00,  1.44s/it]\n"
     ]
    },
    {
     "name": "stdout",
     "output_type": "stream",
     "text": [
      "Process year 2045 of simAssp585\n"
     ]
    },
    {
     "name": "stderr",
     "output_type": "stream",
     "text": [
      "100%|██████████| 12/12 [00:16<00:00,  1.37s/it]\n"
     ]
    },
    {
     "name": "stdout",
     "output_type": "stream",
     "text": [
      "Process year 2046 of simAssp585\n"
     ]
    },
    {
     "name": "stderr",
     "output_type": "stream",
     "text": [
      "100%|██████████| 12/12 [00:17<00:00,  1.45s/it]\n"
     ]
    },
    {
     "name": "stdout",
     "output_type": "stream",
     "text": [
      "Process year 2047 of simAssp585\n"
     ]
    },
    {
     "name": "stderr",
     "output_type": "stream",
     "text": [
      "100%|██████████| 12/12 [00:16<00:00,  1.41s/it]\n"
     ]
    },
    {
     "name": "stdout",
     "output_type": "stream",
     "text": [
      "Process year 2048 of simAssp585\n"
     ]
    },
    {
     "name": "stderr",
     "output_type": "stream",
     "text": [
      "100%|██████████| 12/12 [00:19<00:00,  1.61s/it]\n"
     ]
    },
    {
     "name": "stdout",
     "output_type": "stream",
     "text": [
      "Process year 2049 of simAssp585\n"
     ]
    },
    {
     "name": "stderr",
     "output_type": "stream",
     "text": [
      "100%|██████████| 12/12 [00:16<00:00,  1.38s/it]\n"
     ]
    },
    {
     "name": "stdout",
     "output_type": "stream",
     "text": [
      "Process year 2050 of simAssp585\n"
     ]
    },
    {
     "name": "stderr",
     "output_type": "stream",
     "text": [
      "100%|██████████| 12/12 [00:17<00:00,  1.45s/it]\n"
     ]
    },
    {
     "name": "stdout",
     "output_type": "stream",
     "text": [
      "Process year 2051 of simAssp585\n"
     ]
    },
    {
     "name": "stderr",
     "output_type": "stream",
     "text": [
      "100%|██████████| 12/12 [00:16<00:00,  1.37s/it]\n"
     ]
    },
    {
     "name": "stdout",
     "output_type": "stream",
     "text": [
      "Process year 2052 of simAssp585\n"
     ]
    },
    {
     "name": "stderr",
     "output_type": "stream",
     "text": [
      "100%|██████████| 12/12 [00:17<00:00,  1.46s/it]\n"
     ]
    },
    {
     "name": "stdout",
     "output_type": "stream",
     "text": [
      "Process year 2053 of simAssp585\n"
     ]
    },
    {
     "name": "stderr",
     "output_type": "stream",
     "text": [
      "100%|██████████| 12/12 [00:17<00:00,  1.46s/it]\n"
     ]
    },
    {
     "name": "stdout",
     "output_type": "stream",
     "text": [
      "Process year 2054 of simAssp585\n"
     ]
    },
    {
     "name": "stderr",
     "output_type": "stream",
     "text": [
      "100%|██████████| 12/12 [00:18<00:00,  1.52s/it]\n"
     ]
    },
    {
     "name": "stdout",
     "output_type": "stream",
     "text": [
      "Process year 2055 of simAssp585\n"
     ]
    },
    {
     "name": "stderr",
     "output_type": "stream",
     "text": [
      "100%|██████████| 12/12 [00:18<00:00,  1.52s/it]\n"
     ]
    },
    {
     "name": "stdout",
     "output_type": "stream",
     "text": [
      "Process year 2056 of simAssp585\n"
     ]
    },
    {
     "name": "stderr",
     "output_type": "stream",
     "text": [
      "100%|██████████| 12/12 [00:18<00:00,  1.56s/it]\n"
     ]
    },
    {
     "name": "stdout",
     "output_type": "stream",
     "text": [
      "Process year 2057 of simAssp585\n"
     ]
    },
    {
     "name": "stderr",
     "output_type": "stream",
     "text": [
      "100%|██████████| 12/12 [00:20<00:00,  1.72s/it]\n"
     ]
    },
    {
     "name": "stdout",
     "output_type": "stream",
     "text": [
      "Process year 2058 of simAssp585\n"
     ]
    },
    {
     "name": "stderr",
     "output_type": "stream",
     "text": [
      "100%|██████████| 12/12 [00:20<00:00,  1.69s/it]\n"
     ]
    },
    {
     "name": "stdout",
     "output_type": "stream",
     "text": [
      "Process year 2059 of simAssp585\n"
     ]
    },
    {
     "name": "stderr",
     "output_type": "stream",
     "text": [
      "100%|██████████| 12/12 [00:18<00:00,  1.53s/it]\n"
     ]
    },
    {
     "name": "stdout",
     "output_type": "stream",
     "text": [
      "Process year 2060 of simAssp585\n"
     ]
    },
    {
     "name": "stderr",
     "output_type": "stream",
     "text": [
      "100%|██████████| 12/12 [00:17<00:00,  1.50s/it]\n"
     ]
    },
    {
     "name": "stdout",
     "output_type": "stream",
     "text": [
      "Process year 2061 of simAssp585\n"
     ]
    },
    {
     "name": "stderr",
     "output_type": "stream",
     "text": [
      "100%|██████████| 12/12 [00:20<00:00,  1.67s/it]\n"
     ]
    },
    {
     "name": "stdout",
     "output_type": "stream",
     "text": [
      "Process year 2062 of simAssp585\n"
     ]
    },
    {
     "name": "stderr",
     "output_type": "stream",
     "text": [
      "100%|██████████| 12/12 [00:20<00:00,  1.68s/it]\n"
     ]
    },
    {
     "name": "stdout",
     "output_type": "stream",
     "text": [
      "Process year 2063 of simAssp585\n"
     ]
    },
    {
     "name": "stderr",
     "output_type": "stream",
     "text": [
      "100%|██████████| 12/12 [00:20<00:00,  1.68s/it]\n"
     ]
    },
    {
     "name": "stdout",
     "output_type": "stream",
     "text": [
      "Process year 2064 of simAssp585\n"
     ]
    },
    {
     "name": "stderr",
     "output_type": "stream",
     "text": [
      "100%|██████████| 12/12 [00:19<00:00,  1.63s/it]\n"
     ]
    },
    {
     "name": "stdout",
     "output_type": "stream",
     "text": [
      "Process year 2065 of simAssp585\n"
     ]
    },
    {
     "name": "stderr",
     "output_type": "stream",
     "text": [
      "100%|██████████| 12/12 [00:20<00:00,  1.69s/it]\n"
     ]
    },
    {
     "name": "stdout",
     "output_type": "stream",
     "text": [
      "Process year 2066 of simAssp585\n"
     ]
    },
    {
     "name": "stderr",
     "output_type": "stream",
     "text": [
      "100%|██████████| 12/12 [00:18<00:00,  1.55s/it]\n"
     ]
    },
    {
     "name": "stdout",
     "output_type": "stream",
     "text": [
      "Process year 2067 of simAssp585\n"
     ]
    },
    {
     "name": "stderr",
     "output_type": "stream",
     "text": [
      "100%|██████████| 12/12 [00:19<00:00,  1.65s/it]\n"
     ]
    },
    {
     "name": "stdout",
     "output_type": "stream",
     "text": [
      "Process year 2068 of simAssp585\n"
     ]
    },
    {
     "name": "stderr",
     "output_type": "stream",
     "text": [
      "100%|██████████| 12/12 [00:18<00:00,  1.55s/it]\n"
     ]
    },
    {
     "name": "stdout",
     "output_type": "stream",
     "text": [
      "Process year 2069 of simAssp585\n"
     ]
    },
    {
     "name": "stderr",
     "output_type": "stream",
     "text": [
      "100%|██████████| 12/12 [00:19<00:00,  1.60s/it]\n"
     ]
    },
    {
     "name": "stdout",
     "output_type": "stream",
     "text": [
      "Process year 2070 of simAssp585\n"
     ]
    },
    {
     "name": "stderr",
     "output_type": "stream",
     "text": [
      "100%|██████████| 12/12 [00:16<00:00,  1.38s/it]\n"
     ]
    },
    {
     "name": "stdout",
     "output_type": "stream",
     "text": [
      "Process year 2071 of simAssp585\n"
     ]
    },
    {
     "name": "stderr",
     "output_type": "stream",
     "text": [
      "100%|██████████| 12/12 [00:18<00:00,  1.56s/it]\n"
     ]
    },
    {
     "name": "stdout",
     "output_type": "stream",
     "text": [
      "Process year 2072 of simAssp585\n"
     ]
    },
    {
     "name": "stderr",
     "output_type": "stream",
     "text": [
      "100%|██████████| 12/12 [00:17<00:00,  1.49s/it]\n"
     ]
    },
    {
     "name": "stdout",
     "output_type": "stream",
     "text": [
      "Process year 2073 of simAssp585\n"
     ]
    },
    {
     "name": "stderr",
     "output_type": "stream",
     "text": [
      "100%|██████████| 12/12 [00:19<00:00,  1.63s/it]\n"
     ]
    },
    {
     "name": "stdout",
     "output_type": "stream",
     "text": [
      "Process year 2074 of simAssp585\n"
     ]
    },
    {
     "name": "stderr",
     "output_type": "stream",
     "text": [
      "100%|██████████| 12/12 [00:17<00:00,  1.44s/it]\n"
     ]
    },
    {
     "name": "stdout",
     "output_type": "stream",
     "text": [
      "Process year 2075 of simAssp585\n"
     ]
    },
    {
     "name": "stderr",
     "output_type": "stream",
     "text": [
      "100%|██████████| 12/12 [00:16<00:00,  1.41s/it]\n"
     ]
    },
    {
     "name": "stdout",
     "output_type": "stream",
     "text": [
      "Process year 2076 of simAssp585\n"
     ]
    },
    {
     "name": "stderr",
     "output_type": "stream",
     "text": [
      "100%|██████████| 12/12 [00:16<00:00,  1.41s/it]\n"
     ]
    },
    {
     "name": "stdout",
     "output_type": "stream",
     "text": [
      "Process year 2077 of simAssp585\n"
     ]
    },
    {
     "name": "stderr",
     "output_type": "stream",
     "text": [
      "100%|██████████| 12/12 [00:17<00:00,  1.47s/it]\n"
     ]
    },
    {
     "name": "stdout",
     "output_type": "stream",
     "text": [
      "Process year 2078 of simAssp585\n"
     ]
    },
    {
     "name": "stderr",
     "output_type": "stream",
     "text": [
      "100%|██████████| 12/12 [00:17<00:00,  1.46s/it]\n"
     ]
    },
    {
     "name": "stdout",
     "output_type": "stream",
     "text": [
      "Process year 2079 of simAssp585\n"
     ]
    },
    {
     "name": "stderr",
     "output_type": "stream",
     "text": [
      "100%|██████████| 12/12 [00:17<00:00,  1.46s/it]\n"
     ]
    },
    {
     "name": "stdout",
     "output_type": "stream",
     "text": [
      "Process year 2080 of simAssp585\n"
     ]
    },
    {
     "name": "stderr",
     "output_type": "stream",
     "text": [
      "100%|██████████| 12/12 [00:17<00:00,  1.43s/it]\n"
     ]
    },
    {
     "name": "stdout",
     "output_type": "stream",
     "text": [
      "Process year 2081 of simAssp585\n"
     ]
    },
    {
     "name": "stderr",
     "output_type": "stream",
     "text": [
      "100%|██████████| 12/12 [00:16<00:00,  1.40s/it]\n"
     ]
    },
    {
     "name": "stdout",
     "output_type": "stream",
     "text": [
      "Process year 2082 of simAssp585\n"
     ]
    },
    {
     "name": "stderr",
     "output_type": "stream",
     "text": [
      "100%|██████████| 12/12 [00:17<00:00,  1.46s/it]\n"
     ]
    },
    {
     "name": "stdout",
     "output_type": "stream",
     "text": [
      "Process year 2083 of simAssp585\n"
     ]
    },
    {
     "name": "stderr",
     "output_type": "stream",
     "text": [
      "100%|██████████| 12/12 [00:18<00:00,  1.56s/it]\n"
     ]
    },
    {
     "name": "stdout",
     "output_type": "stream",
     "text": [
      "Process year 2084 of simAssp585\n"
     ]
    },
    {
     "name": "stderr",
     "output_type": "stream",
     "text": [
      "100%|██████████| 12/12 [00:18<00:00,  1.53s/it]\n"
     ]
    },
    {
     "name": "stdout",
     "output_type": "stream",
     "text": [
      "Process year 2085 of simAssp585\n"
     ]
    },
    {
     "name": "stderr",
     "output_type": "stream",
     "text": [
      "100%|██████████| 12/12 [00:18<00:00,  1.55s/it]\n"
     ]
    },
    {
     "name": "stdout",
     "output_type": "stream",
     "text": [
      "Process year 2086 of simAssp585\n"
     ]
    },
    {
     "name": "stderr",
     "output_type": "stream",
     "text": [
      "100%|██████████| 12/12 [00:17<00:00,  1.45s/it]\n"
     ]
    },
    {
     "name": "stdout",
     "output_type": "stream",
     "text": [
      "Process year 2087 of simAssp585\n"
     ]
    },
    {
     "name": "stderr",
     "output_type": "stream",
     "text": [
      "100%|██████████| 12/12 [00:16<00:00,  1.38s/it]\n"
     ]
    },
    {
     "name": "stdout",
     "output_type": "stream",
     "text": [
      "Process year 2088 of simAssp585\n"
     ]
    },
    {
     "name": "stderr",
     "output_type": "stream",
     "text": [
      "100%|██████████| 12/12 [00:16<00:00,  1.39s/it]\n"
     ]
    },
    {
     "name": "stdout",
     "output_type": "stream",
     "text": [
      "Process year 2089 of simAssp585\n"
     ]
    },
    {
     "name": "stderr",
     "output_type": "stream",
     "text": [
      "100%|██████████| 12/12 [00:16<00:00,  1.34s/it]\n"
     ]
    },
    {
     "name": "stdout",
     "output_type": "stream",
     "text": [
      "Process year 2090 of simAssp585\n"
     ]
    },
    {
     "name": "stderr",
     "output_type": "stream",
     "text": [
      "100%|██████████| 12/12 [00:16<00:00,  1.37s/it]\n"
     ]
    },
    {
     "name": "stdout",
     "output_type": "stream",
     "text": [
      "Process year 2091 of simAssp585\n"
     ]
    },
    {
     "name": "stderr",
     "output_type": "stream",
     "text": [
      "100%|██████████| 12/12 [00:17<00:00,  1.47s/it]\n"
     ]
    },
    {
     "name": "stdout",
     "output_type": "stream",
     "text": [
      "Process year 2092 of simAssp585\n"
     ]
    },
    {
     "name": "stderr",
     "output_type": "stream",
     "text": [
      "100%|██████████| 12/12 [00:16<00:00,  1.38s/it]\n"
     ]
    },
    {
     "name": "stdout",
     "output_type": "stream",
     "text": [
      "Process year 2093 of simAssp585\n"
     ]
    },
    {
     "name": "stderr",
     "output_type": "stream",
     "text": [
      "100%|██████████| 12/12 [00:17<00:00,  1.47s/it]\n"
     ]
    },
    {
     "name": "stdout",
     "output_type": "stream",
     "text": [
      "Process year 2094 of simAssp585\n"
     ]
    },
    {
     "name": "stderr",
     "output_type": "stream",
     "text": [
      "100%|██████████| 12/12 [00:16<00:00,  1.41s/it]\n"
     ]
    },
    {
     "name": "stdout",
     "output_type": "stream",
     "text": [
      "Process year 2095 of simAssp585\n"
     ]
    },
    {
     "name": "stderr",
     "output_type": "stream",
     "text": [
      "100%|██████████| 12/12 [00:18<00:00,  1.56s/it]\n"
     ]
    },
    {
     "name": "stdout",
     "output_type": "stream",
     "text": [
      "Process year 2096 of simAssp585\n"
     ]
    },
    {
     "name": "stderr",
     "output_type": "stream",
     "text": [
      "100%|██████████| 12/12 [00:18<00:00,  1.54s/it]\n"
     ]
    },
    {
     "name": "stdout",
     "output_type": "stream",
     "text": [
      "Process year 2097 of simAssp585\n"
     ]
    },
    {
     "name": "stderr",
     "output_type": "stream",
     "text": [
      "100%|██████████| 12/12 [00:19<00:00,  1.65s/it]\n"
     ]
    },
    {
     "name": "stdout",
     "output_type": "stream",
     "text": [
      "Process year 2098 of simAssp585\n"
     ]
    },
    {
     "name": "stderr",
     "output_type": "stream",
     "text": [
      "100%|██████████| 12/12 [00:17<00:00,  1.45s/it]\n"
     ]
    },
    {
     "name": "stdout",
     "output_type": "stream",
     "text": [
      "Process year 2099 of simAssp585\n"
     ]
    },
    {
     "name": "stderr",
     "output_type": "stream",
     "text": [
      "100%|██████████| 12/12 [00:16<00:00,  1.41s/it]\n"
     ]
    },
    {
     "name": "stdout",
     "output_type": "stream",
     "text": [
      "Process year 2100 of simAssp585\n"
     ]
    },
    {
     "name": "stderr",
     "output_type": "stream",
     "text": [
      "100%|██████████| 12/12 [00:18<00:00,  1.54s/it]"
     ]
    },
    {
     "name": "stdout",
     "output_type": "stream",
     "text": [
      "done\n"
     ]
    },
    {
     "name": "stderr",
     "output_type": "stream",
     "text": [
      "\n"
     ]
    }
   ],
   "source": [
    "#-----\n",
    "# load model data & extract bottom layer omega A, omega C, pH \n",
    "#-----\n",
    "from tqdm import tqdm\n",
    "\n",
    "which_sim = 'simAssp585'\n",
    "path = '/pscratch/sd/c/cnissen/carbonate_chemistry_3D_v2/'+which_sim+'/' \n",
    "\n",
    "vari_list = ['omegaA_avg_bottom','omegaC_avg_bottom','pH_avg_bottom']\n",
    "\n",
    "if which_sim in ['simAssp126','simAssp245','simAssp370','simCssp245']:\n",
    "    year_list1 = np.arange(2015,2100+1,1) \n",
    "elif which_sim in ['simAssp585','simB','simCssp585']:\n",
    "    year_list1 = np.arange(1990,2100+1,1) \n",
    "\n",
    "#subregions = ['all_shelves','WeddellSea','eWeddellSea','Prydz','Adelie','RossSea','Amundsen_Bellingshausen','WAP',\\\n",
    "#             'RossSea_MPA','RossSea_MPA_shelf','RossSea_MPA_openOcean',\\\n",
    "#              'WeddellSea_MPA','WeddellSea_MPA_shelf','WeddellSea_MPA_openOcean',\\\n",
    "#             'Orkney_MPA','AntarcticPeninsula_MPA',\\\n",
    "#             'East_Antarctica_1_MPA','East_Antarctica_2_MPA','East_Antarctica_3_MPA','East_Antarctica_all_MPA',\\\n",
    "#             'East_Antarctica_1_MPA_shelf','East_Antarctica_2_MPA_shelf',\\\n",
    "#              'East_Antarctica_3_MPA_shelf','East_Antarctica_all_MPA_shelf',\\\n",
    "#             'East_Antarctica_1_MPA_openOcean','East_Antarctica_2_MPA_openOcean',\\\n",
    "#              'East_Antarctica_3_MPA_openOcean','East_Antarctica_all_MPA_openOcean']\n",
    "\n",
    "subregions = ['AntarcticPeninsula_MPA','AntarcticPeninsula_MPA_shelf','AntarcticPeninsula_MPA_openOcean']\n",
    "\n",
    "omegaA_bottom_model1 = np.zeros([12,len(year_list1),len(subregions)])\n",
    "omegaC_bottom_model1 = np.zeros([12,len(year_list1),len(subregions)])\n",
    "pH_bottom_model1     = np.zeros([12,len(year_list1),len(subregions)])\n",
    "for yy in range(0,len(year_list1)):\n",
    "    print('Process year '+str(year_list1[yy])+' of '+which_sim)\n",
    "    path  = '/pscratch/sd/c/cnissen/carbonate_chemistry_3D_v2/'+which_sim+'/'\n",
    "    f1    = Dataset(path+'OmegaA_fesom_'+str(year_list1[yy])+'0101.nc') \n",
    "    f2    = Dataset(path+'OmegaC_fesom_'+str(year_list1[yy])+'0101.nc') \n",
    "    f3    = Dataset(path+'pH_fesom_'+str(year_list1[yy])+'0101.nc')\n",
    "    \n",
    "    for mm in tqdm(range(0,12)):\n",
    "        \n",
    "        data_mean1 = f1.variables['OmegaA'][mm,:,:]#.mean(axis=0)  # depth x mesh.n2d\n",
    "        data_mean2 = f2.variables['OmegaC'][mm,:,:]#.mean(axis=0) \n",
    "        data_mean3 = f3.variables['pH'][mm,:,:]#.mean(axis=0) \n",
    "        \n",
    "        #----\n",
    "        # extract model data in bottom layer\n",
    "        #----\n",
    "        #print (\"Extract bottom layer from model output...\")\n",
    "        omegaA_1 = np.zeros([len(lon)])\n",
    "        omegaC_1 = np.zeros([len(lon)])\n",
    "        pH_1     = np.zeros([len(lon)])\n",
    "        for i in np.arange(1,len(lon)+1):  \n",
    "        # double-check if this is correct with python indexing (didn't work without the \"-1\")\n",
    "            if cavities[i-1]==0: # not of the regions are within cavity, so only process those nodes here\n",
    "                if lat[i-1]<=59.0: # only process nodes in the SO\n",
    "                    a1 = data_mean1[:,i-1]\n",
    "                    a = a1.mask==False\n",
    "                    b1 = np.where(a==True)[0]\n",
    "                    if len(b1)>0:\n",
    "                        omegaA_1[i-1] = a1[b1[-1]]\n",
    "                    del a1,a,b1\n",
    "                    a1 = data_mean2[:,i-1]\n",
    "                    a = a1.mask==False\n",
    "                    b1 = np.where(a==True)[0]\n",
    "                    if len(b1)>0:\n",
    "                        omegaC_1[i-1] = a1[b1[-1]]\n",
    "                    del a1,a,b1\n",
    "                    a1 = data_mean3[:,i-1]\n",
    "                    a = a1.mask==False\n",
    "                    b1 = np.where(a==True)[0]\n",
    "                    if len(b1)>0:\n",
    "                        pH_1[i-1] = a1[b1[-1]]\n",
    "                    del a1,a,b1\n",
    "\n",
    "        get_regional_avg = True\n",
    "        if get_regional_avg:\n",
    "            for rr in range(0,len(subregions)):\n",
    "                #print subregions[rr]\n",
    "                if subregions[rr] in ['all_shelves']:\n",
    "                    ind_regions = np.where(shelf_ind>0)[0]\n",
    "                elif subregions[rr] in ['WeddellSea']:\n",
    "                    ind_regions = np.where(weddell==1)[0]\n",
    "                elif subregions[rr] in ['eWeddellSea']:\n",
    "                    ind_regions = np.where(eWeddell==1)[0]\n",
    "                elif subregions[rr] in ['Prydz']:\n",
    "                    ind_regions = np.where(prydz==1)[0]\n",
    "                elif subregions[rr] in ['Adelie']:\n",
    "                    ind_regions = np.where(adelie==1)[0]\n",
    "                elif subregions[rr] in ['RossSea']:\n",
    "                    ind_regions = np.where(ross==1)[0]\n",
    "                elif subregions[rr] in ['Amundsen_Bellingshausen']:\n",
    "                    ind_regions = np.where(amundsen==1)[0]\n",
    "                elif subregions[rr] in ['WAP']:\n",
    "                    ind_regions = np.where(wap==1)[0]\n",
    "\n",
    "                elif subregions[rr] in ['RossSea_MPA']:\n",
    "                    ind_regions = np.where((mask_RossSea_MPA==1) & (cavities==0))[0]\n",
    "                elif subregions[rr] in ['RossSea_MPA_shelf']:\n",
    "                    ind_regions = np.where((mask_RossSea_MPA==1) & (cavities==0) & (topo<=2000))[0]\n",
    "                elif subregions[rr] in ['RossSea_MPA_openOcean']:\n",
    "                    ind_regions = np.where((mask_RossSea_MPA==1) & (cavities==0) & (topo>2000))[0]\n",
    "                elif subregions[rr] in ['WeddellSea_MPA']:\n",
    "                    ind_regions = np.where((mask_WeddellSea_MPA==1) & (cavities==0))[0]\n",
    "                elif subregions[rr] in ['WeddellSea_MPA_shelf']:\n",
    "                    ind_regions = np.where((mask_WeddellSea_MPA==1) & (cavities==0) & (topo<=2000))[0]\n",
    "                elif subregions[rr] in ['WeddellSea_MPA_openOcean']:\n",
    "                    ind_regions = np.where((mask_WeddellSea_MPA==1) & (cavities==0) & (topo>2000))[0]\n",
    "                elif subregions[rr] in ['AntarcticPeninsula_MPA']:\n",
    "                    ind_regions = np.where((mask_WAP_MPA==1) & (cavities==0))[0]\n",
    "                elif subregions[rr] in ['AntarcticPeninsula_MPA_shelf']:\n",
    "                    ind_regions = np.where((mask_WAP_MPA==1) & (cavities==0) & (topo<=2000))[0]\n",
    "                elif subregions[rr] in ['AntarcticPeninsula_MPA_openOcean']:\n",
    "                    ind_regions = np.where((mask_WAP_MPA==1) & (cavities==0) & (topo>2000))[0]\n",
    "                elif subregions[rr] in ['Orkney_MPA']:\n",
    "                    ind_regions = np.where((mask_Orkney_MPA==1) & (cavities==0))[0]\n",
    "                elif subregions[rr] in ['Orkney_MPA_shelf']:\n",
    "                    ind_regions = np.where((mask_Orkney_MPA==1) & (cavities==0) & (topo<=2000))[0]\n",
    "                elif subregions[rr] in ['Orkney_MPA_openOcean']:\n",
    "                    ind_regions = np.where((mask_Orkney_MPA==1) & (cavities==0) & (topo>2000))[0]\n",
    "\n",
    "                elif subregions[rr] in ['East_Antarctica_1_MPA']:\n",
    "                    ind_regions = np.where((mask_eastAA1_MPA==1) & (cavities==0))[0]\n",
    "                elif subregions[rr] in ['East_Antarctica_1_MPA_shelf']:\n",
    "                    ind_regions = np.where((mask_eastAA1_MPA==1) & (cavities==0) & (topo<=2000))[0]\n",
    "                elif subregions[rr] in ['East_Antarctica_1_MPA_openOcean']:\n",
    "                    ind_regions = np.where((mask_eastAA1_MPA==1) & (cavities==0) & (topo>2000))[0]\n",
    "                elif subregions[rr] in ['East_Antarctica_2_MPA']:\n",
    "                    ind_regions = np.where((mask_eastAA2_MPA==1) & (cavities==0))[0]\n",
    "                elif subregions[rr] in ['East_Antarctica_2_MPA_shelf']:\n",
    "                    ind_regions = np.where((mask_eastAA2_MPA==1) & (cavities==0) & (topo<=2000))[0]\n",
    "                elif subregions[rr] in ['East_Antarctica_2_MPA_openOcean']:\n",
    "                    ind_regions = np.where((mask_eastAA2_MPA==1) & (cavities==0) & (topo>2000))[0]\n",
    "                elif subregions[rr] in ['East_Antarctica_3_MPA']:\n",
    "                    ind_regions = np.where((mask_eastAA3_MPA==1) & (cavities==0))[0]\n",
    "                elif subregions[rr] in ['East_Antarctica_3_MPA_shelf']:\n",
    "                    ind_regions = np.where((mask_eastAA3_MPA==1) & (cavities==0) & (topo<=2000))[0]\n",
    "                elif subregions[rr] in ['East_Antarctica_3_MPA_openOcean']:\n",
    "                    ind_regions = np.where((mask_eastAA3_MPA==1) & (cavities==0) & (topo>2000))[0]\n",
    "\n",
    "                elif subregions[rr] in ['East_Antarctica_all_MPA']:\n",
    "                    ind_regions = np.where(((mask_eastAA1_MPA==1) | (mask_eastAA2_MPA==1) | (mask_eastAA3_MPA==1) ) & (cavities==0))[0]\n",
    "                elif subregions[rr] in ['East_Antarctica_all_MPA_shelf']:\n",
    "                    ind_regions = np.where(((mask_eastAA1_MPA==1) | (mask_eastAA2_MPA==1) | (mask_eastAA3_MPA==1) ) & (cavities==0) & (topo<=2000))[0]\n",
    "                elif subregions[rr] in ['East_Antarctica_all_MPA_openOcean']:\n",
    "                    ind_regions = np.where(((mask_eastAA1_MPA==1) | (mask_eastAA2_MPA==1) | (mask_eastAA3_MPA==1) ) & (cavities==0) & (topo>2000))[0]\n",
    "\n",
    "                omegaA_bottom_model1[mm,yy,rr] = np.sum(omegaA_1[ind_regions]*area[ind_regions])/np.sum(area[ind_regions])\n",
    "                omegaC_bottom_model1[mm,yy,rr] = np.sum(omegaC_1[ind_regions]*area[ind_regions])/np.sum(area[ind_regions])\n",
    "                pH_bottom_model1[mm,yy,rr]     = np.sum(pH_1[ind_regions]*area[ind_regions])/np.sum(area[ind_regions])\n",
    "                \n",
    "        del data_mean1,data_mean2,data_mean3\n",
    "        del pH_1,omegaA_1,omegaC_1\n",
    "        \n",
    "    f1.close()\n",
    "    f2.close()\n",
    "    f3.close()\n",
    "    \n",
    "    #-----\n",
    "    # save as netcdf file\n",
    "    #-----\n",
    "    \n",
    "    save_netcdf = True\n",
    "    # only save every year (takes too much time otherwise)\n",
    "    if save_netcdf:\n",
    "        savepath = '/pscratch/sd/c/cnissen/carbonate_chemistry_3D_v2/regional/'\n",
    "        netcdf_name = 'Carbonate_chemistry_regional_'+which_sim+'_'+str(year_list1[0])+'_'+str(year_list1[-1])+'_v4_AntarcticPeninsula_only.nc'\n",
    "\n",
    "        if not os.path.exists(savepath+netcdf_name):\n",
    "            print('Create file '+savepath+netcdf_name)\n",
    "            w_nc_fid = Dataset(savepath+netcdf_name, 'w', format='NETCDF4_CLASSIC')\n",
    "            w_nc_fid.regions1 = '1=AntarcticPeninsula_MPA, 2=AntarcticPeninsula_MPA_shelf, 3=AntarcticPeninsula_MPA_openOcean'\n",
    "                       \n",
    "            w_nc_fid.mocsy_source = 'https://github.com/jamesorr/mocsy'\n",
    "            w_nc_fid.mocsy_dir    = '/home/ollie/ncara/scripts/mocsy/mocsy'\n",
    "            w_nc_fid.script    = '/global/homes/c/cnissen/scripts/plot_PAPER_carbonate_chemistry_regional_save_netcdf_v3.ipynb'\n",
    "            # create dimension & variable\n",
    "            w_nc_fid.createDimension('month', 12)  # monthly\n",
    "            w_nc_fid.createDimension('year', len(year_list1)) \n",
    "            w_nc_fid.createDimension('subregions', len(subregions)) \n",
    "            w_nc_fid.createDimension('nodes_2d', len(topo)) \n",
    "            w_nc_fid.createVariable('year', 'f4',('year'))\n",
    "            w_nc_fid.variables['year'][:] = year_list1\n",
    "\n",
    "            w_nc_fid.createVariable('mask_subregions', 'f4',('nodes_2d'))\n",
    "            w_nc_fid.variables['mask_subregions'][:] = shelf_ind\n",
    "\n",
    "            for vv in range(0,len(vari_list)):\n",
    "                w_nc_var1 = w_nc_fid.createVariable(vari_list[vv], 'f4',('month','year','subregions'))\n",
    "            w_nc_fid.close()\n",
    "            \n",
    "        else: # file exists, but check if variables exist as well\n",
    "            w_nc_fid = Dataset(savepath+netcdf_name, 'r+', format='NETCDF4_CLASSIC') \n",
    "            for vv in range(0,len(vari_list)):\n",
    "                try:\n",
    "                    w_nc_var1 = w_nc_fid.createVariable(vari_list[vv], 'f4',('month','year','subregions'))\n",
    "                except: \n",
    "                    if yy==0:\n",
    "                        print (vari_list[vv]+' exists in file')\n",
    "                    pass\n",
    "            w_nc_fid.close()\n",
    "                    \n",
    "        for vv in range(0,len(vari_list)):\n",
    "            w_nc_fid = Dataset(savepath+netcdf_name, 'r+', format='NETCDF4_CLASSIC') \n",
    "            if vari_list[vv] in ['omegaA_avg_bottom']:\n",
    "                w_nc_fid.variables[vari_list[vv]][:,yy,:] = omegaA_bottom_model1[:,yy,:]\n",
    "            elif vari_list[vv] in ['omegaC_avg_bottom']:\n",
    "                w_nc_fid.variables[vari_list[vv]][:,yy,:] = omegaC_bottom_model1[:,yy,:]\n",
    "            elif vari_list[vv] in ['pH_avg_bottom']:\n",
    "                w_nc_fid.variables[vari_list[vv]][:,yy,:] = pH_bottom_model1[:,yy,:]\n",
    "                    \n",
    "            w_nc_fid.close()  \n",
    "        del netcdf_name\n",
    "                \n",
    "print ('done')\n"
   ]
  },
  {
   "cell_type": "code",
   "execution_count": null,
   "metadata": {
    "tags": []
   },
   "outputs": [],
   "source": []
  },
  {
   "cell_type": "code",
   "execution_count": null,
   "metadata": {},
   "outputs": [],
   "source": []
  },
  {
   "cell_type": "code",
   "execution_count": null,
   "metadata": {},
   "outputs": [],
   "source": []
  },
  {
   "cell_type": "code",
   "execution_count": null,
   "metadata": {},
   "outputs": [],
   "source": []
  }
 ],
 "metadata": {
  "kernelspec": {
   "display_name": "myenv-jupyter",
   "language": "python",
   "name": "myenv-jupyter"
  },
  "language_info": {
   "codemirror_mode": {
    "name": "ipython",
    "version": 3
   },
   "file_extension": ".py",
   "mimetype": "text/x-python",
   "name": "python",
   "nbconvert_exporter": "python",
   "pygments_lexer": "ipython3",
   "version": "3.9.12"
  }
 },
 "nbformat": 4,
 "nbformat_minor": 4
}
